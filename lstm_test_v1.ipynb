{
  "cells": [
    {
      "cell_type": "markdown",
      "metadata": {
        "id": "view-in-github",
        "colab_type": "text"
      },
      "source": [
        "<a href=\"https://colab.research.google.com/github/sjdoescoding/CE889/blob/main/lstm_test_v1.ipynb\" target=\"_parent\"><img src=\"https://colab.research.google.com/assets/colab-badge.svg\" alt=\"Open In Colab\"/></a>"
      ]
    },
    {
      "cell_type": "markdown",
      "metadata": {
        "id": "DywSa6K6Gwb3"
      },
      "source": [
        "#TODO\n",
        "- ~~Decide Epochs~~ 4 epochs seem to be best\n",
        "- ~~GAther y predict target~~ y target is working\n",
        "- ~~Test submission to y predict target~~ 0.47 score on kaggle\n",
        "- Hyperparameter tuning and optimization\n",
        "- Choosing best layers for model\n",
        "- Streamline the model\n",
        "- Add more dense layers for more deep learning"
      ]
    },
    {
      "cell_type": "code",
      "execution_count": 53,
      "metadata": {
        "id": "hxr8bSrnVtV4"
      },
      "outputs": [],
      "source": [
        "# This Python 3 environment comes with many helpful analytics libraries installed\n",
        "# It is defined by the kaggle/python Docker image: https://github.com/kaggle/docker-python\n",
        "# For example, here's several helpful packages to load\n",
        "\n",
        "import numpy as np # linear algebra\n",
        "import pandas as pd # data processing, CSV file I/O (e.g. pd.read_csv)\n",
        "import numpy as np # linear algebra\n",
        "import pandas as pd # data processing, CSV file I/O (e.g. pd.read_csv)\n",
        "import os\n",
        "import scipy.stats as stats\n",
        "import matplotlib.pyplot as plt\n",
        "\n",
        "# Input data files are available in the read-only \"../input/\" directory\n",
        "# For example, running this (by clicking run or pressing Shift+Enter) will list all files under the input directory\n",
        "# data = None\n",
        "# test_data = None\n",
        "# import os\n",
        "# for dirname, _, filenames in os.walk('/kaggle/input/'):\n",
        "#     for filename in filenames:\n",
        "#         path = os.path.join(dirname, filename)\n",
        "#         if filename == 'train.csv':\n",
        "#             data = pd.read_csv(path)\n",
        "#         if filename == 'test.csv':\n",
        "#             test_data = pd.read_csv(path)\n",
        "#         if filename == 'store.csv':\n",
        "#             store_data = pd.read_csv(path)"
      ]
    },
    {
      "cell_type": "code",
      "execution_count": 54,
      "metadata": {
        "colab": {
          "base_uri": "https://localhost:8080/"
        },
        "id": "Zw2Tnh1lVyk2",
        "outputId": "1b869869-a512-47ad-e02b-fe7c3c49c441"
      },
      "outputs": [
        {
          "output_type": "stream",
          "name": "stdout",
          "text": [
            "Mounted at /content/drive\n",
            "File Name                                             Modified             Size\n",
            "sample_submission.csv                          2019-12-11 03:57:00       317611\n",
            "store.csv                                      2019-12-11 03:57:00        45010\n",
            "test.csv                                       2019-12-11 03:57:00      1427425\n",
            "train.csv                                      2019-12-11 03:57:02     38057952\n",
            "Done\n"
          ]
        },
        {
          "output_type": "stream",
          "name": "stderr",
          "text": [
            "/usr/local/lib/python3.8/dist-packages/IPython/core/interactiveshell.py:3326: DtypeWarning: Columns (7) have mixed types.Specify dtype option on import or set low_memory=False.\n",
            "  exec(code_obj, self.user_global_ns, self.user_ns)\n"
          ]
        }
      ],
      "source": [
        "from google.colab import drive #mounting to drive\n",
        "drive.mount('/content/drive', force_remount=True)\n",
        "\n",
        "# Reading Zip\n",
        "from zipfile import ZipFile\n",
        "file_name = '/content/drive/My Drive/CE889/Group_Assignment/rossmann-store-sales.zip' \n",
        "with ZipFile(file_name, 'r') as zip:\n",
        "    zip.printdir()\n",
        "    zip.extractall()\n",
        "    print('Done')\n",
        "\n",
        "store_data = pd.read_csv('store.csv')\n",
        "\n",
        "#Assigning data set to df\n",
        "data = pd.read_csv('train.csv')\n",
        "\n",
        "#Assigning Test data to df\n",
        "test_data = pd.read_csv('test.csv')"
      ]
    },
    {
      "cell_type": "code",
      "execution_count": 55,
      "metadata": {
        "id": "RPDP-i3aV0Zf"
      },
      "outputs": [],
      "source": [
        "# Join train set and store set, test set and store set, inner refers to using the common keys\n",
        "# on refers to the label\n",
        "new_train = data.merge(store_data, how='inner', on='Store')\n",
        "new_test = test_data.merge(store_data, how='inner', on='Store')"
      ]
    },
    {
      "cell_type": "code",
      "execution_count": 56,
      "metadata": {
        "id": "KBPXpLaXV1-j"
      },
      "outputs": [],
      "source": [
        "new_train['Date'] = pd.to_datetime(new_train['Date'])\n",
        "new_train['Year'] = new_train.Date.dt.year\n",
        "new_train['Month'] = new_train.Date.dt.month\n",
        "new_train['Day'] = new_train.Date.dt.day\n",
        "\n",
        "new_test['Date'] = pd.to_datetime(new_test['Date'])\n",
        "new_test['Year'] = new_train.Date.dt.year\n",
        "new_test['Month'] = new_test.Date.dt.month\n",
        "new_test['Day'] = new_test.Date.dt.day"
      ]
    },
    {
      "cell_type": "code",
      "execution_count": 57,
      "metadata": {
        "id": "gnT3jJKUV3oi"
      },
      "outputs": [],
      "source": [
        "new_train[\"CompetitionDistance\"]=new_train[\"CompetitionDistance\"].fillna(99999)\n",
        "new_test[\"CompetitionDistance\"]=new_test[\"CompetitionDistance\"].fillna(99999)"
      ]
    },
    {
      "cell_type": "code",
      "execution_count": 58,
      "metadata": {
        "id": "wY9jQvhNV5ao"
      },
      "outputs": [],
      "source": [
        " # convert assortment and storetype and stateholiday in training data to int\n",
        "cleanup = {\"Assortment\": {\"a\":0, \"b\":1, \"c\":2}}\n",
        "new_train.replace(cleanup, inplace=True)\n",
        "new_train['Assortment'] = new_train['Assortment'].astype(int)\n",
        "\n",
        "cleanup2 = {\"StoreType\": {\"a\":0, \"b\":1, \"c\":2, \"d\":3}}\n",
        "new_train.replace(cleanup2, inplace=True)\n",
        "new_train['StoreType'] = new_train['StoreType'].astype(int)\n",
        "\n",
        "cleanup3 = {\"StateHoliday\": {\"a\":0, \"b\":1, \"c\":2}}\n",
        "new_train.replace(cleanup3, inplace=True)\n",
        "new_train['StateHoliday'] = new_train['StateHoliday'].astype(int)"
      ]
    },
    {
      "cell_type": "code",
      "execution_count": 59,
      "metadata": {
        "id": "86O9sG6GV62k"
      },
      "outputs": [],
      "source": [
        " # convert assortment and storetype in testing data to int\n",
        "cleanup = {\"Assortment\": {\"a\":0, \"b\":1, \"c\":2}}\n",
        "new_test.replace(cleanup, inplace=True)\n",
        "new_test['Assortment'] = new_test['Assortment'].astype(int)\n",
        "\n",
        "cleanup2 = {\"StoreType\": {\"a\":0, \"b\":1, \"c\":2, \"d\":3}}\n",
        "new_test.replace(cleanup2, inplace=True)\n",
        "new_test['StoreType'] = new_test['StoreType'].astype(int)\n",
        "\n",
        "cleanup3 = {\"StateHoliday\": {\"a\":0, \"b\":1, \"c\":2}}\n",
        "new_train.replace(cleanup3, inplace=True)\n",
        "new_train['StateHoliday'] = new_train['StateHoliday'].astype(int)"
      ]
    },
    {
      "cell_type": "code",
      "execution_count": 60,
      "metadata": {
        "colab": {
          "base_uri": "https://localhost:8080/"
        },
        "id": "HYNFSl2SV8mj",
        "outputId": "63175d8a-4e99-4e0a-9d24-5b91e30eee10"
      },
      "outputs": [
        {
          "output_type": "stream",
          "name": "stdout",
          "text": [
            "<class 'pandas.core.frame.DataFrame'>\n",
            "Int64Index: 1017209 entries, 0 to 1017208\n",
            "Data columns (total 21 columns):\n",
            " #   Column                     Non-Null Count    Dtype         \n",
            "---  ------                     --------------    -----         \n",
            " 0   Store                      1017209 non-null  int64         \n",
            " 1   DayOfWeek                  1017209 non-null  int64         \n",
            " 2   Date                       1017209 non-null  datetime64[ns]\n",
            " 3   Sales                      1017209 non-null  int64         \n",
            " 4   Customers                  1017209 non-null  int64         \n",
            " 5   Open                       1017209 non-null  int64         \n",
            " 6   Promo                      1017209 non-null  int64         \n",
            " 7   StateHoliday               1017209 non-null  int64         \n",
            " 8   SchoolHoliday              1017209 non-null  int64         \n",
            " 9   StoreType                  1017209 non-null  int64         \n",
            " 10  Assortment                 1017209 non-null  int64         \n",
            " 11  CompetitionDistance        1017209 non-null  float64       \n",
            " 12  CompetitionOpenSinceMonth  693861 non-null   float64       \n",
            " 13  CompetitionOpenSinceYear   693861 non-null   float64       \n",
            " 14  Promo2                     1017209 non-null  int64         \n",
            " 15  Promo2SinceWeek            509178 non-null   float64       \n",
            " 16  Promo2SinceYear            509178 non-null   float64       \n",
            " 17  PromoInterval              509178 non-null   object        \n",
            " 18  Year                       1017209 non-null  int64         \n",
            " 19  Month                      1017209 non-null  int64         \n",
            " 20  Day                        1017209 non-null  int64         \n",
            "dtypes: datetime64[ns](1), float64(5), int64(14), object(1)\n",
            "memory usage: 203.0+ MB\n"
          ]
        }
      ],
      "source": [
        "new_train.info()"
      ]
    },
    {
      "cell_type": "code",
      "execution_count": 61,
      "metadata": {
        "id": "UaAW5KfaV-he"
      },
      "outputs": [],
      "source": [
        " # Null value exists in open, fill with one, cuz stores would open except from holidays\n",
        "new_train['Open'] = new_train['Open'].fillna(1)\n",
        "new_train['Open'] = new_train['Open'].astype(int)\n",
        "\n",
        "\n",
        "new_test['Open'] = new_test['Open'].fillna(1)\n",
        "new_test['Open' ]= new_test['Open'].astype(int)"
      ]
    },
    {
      "cell_type": "code",
      "execution_count": 62,
      "metadata": {
        "id": "7P3nDrlmWAOF"
      },
      "outputs": [],
      "source": [
        " # fill nan with month 0, years in the far future\n",
        "new_train['CompetitionOpenSinceMonth'].fillna(1, inplace=True)\n",
        "new_train['CompetitionOpenSinceYear'].fillna(2100, inplace=True)\n",
        "\n",
        "new_train['Promo2SinceWeek'].fillna(1, inplace=True)\n",
        "new_train['Promo2SinceYear'].fillna(2100, inplace=True)\n",
        "new_train['PromoInterval'].fillna(0, inplace=True)\n",
        "\n",
        "new_test['CompetitionOpenSinceMonth'].fillna(1, inplace=True)\n",
        "new_test['CompetitionOpenSinceYear'].fillna(2100, inplace=True)\n",
        "\n",
        "new_test['Promo2SinceWeek'].fillna(1, inplace=True)\n",
        "new_test['Promo2SinceYear'].fillna(2100, inplace=True)\n",
        "new_test['PromoInterval'].fillna(0, inplace=True)"
      ]
    },
    {
      "cell_type": "code",
      "execution_count": 63,
      "metadata": {
        "id": "AH6XQj0pWB-F"
      },
      "outputs": [],
      "source": [
        " # combine competition month and year and promo week year to form days\n",
        "new_train['CompetitionDays'] = 365 * (new_train['Year'] - new_train['CompetitionOpenSinceYear']) + new_train['Month'] - new_train['CompetitionOpenSinceMonth']\n",
        "\n",
        "new_train['PromoOpenDays'] = 365 * (new_train['Year'] - new_train['Promo2SinceYear']) + ((new_train['Day'] - 7 * new_train['Promo2SinceWeek']))\n",
        "\n",
        "new_test['CompetitionDays'] = 365 * (new_test['Year'] - new_test['CompetitionOpenSinceYear']) + new_test['Month'] - new_test['CompetitionOpenSinceMonth']\n",
        "\n",
        "new_test['PromoOpenDays'] = 365 * (new_test['Year'] - new_test['Promo2SinceYear']) + ((new_test['Day'] - 7 * new_test['Promo2SinceWeek']))"
      ]
    },
    {
      "cell_type": "code",
      "execution_count": 64,
      "metadata": {
        "id": "MLijwvwfWDZv"
      },
      "outputs": [],
      "source": [
        "new_train.drop(columns = ['CompetitionOpenSinceMonth'], inplace = True)\n",
        "new_train.drop(columns =['CompetitionOpenSinceYear'], inplace = True)\n",
        "new_train.drop(columns =['Promo2SinceWeek'], inplace = True)\n",
        "new_train.drop(columns =['Promo2SinceYear'], inplace = True)\n",
        "new_train.drop(columns =['Date'], inplace = True)"
      ]
    },
    {
      "cell_type": "code",
      "execution_count": 65,
      "metadata": {
        "id": "93lAL5FyWFGm"
      },
      "outputs": [],
      "source": [
        "new_train = new_train.query('Open==1')\n",
        "new_test = new_test.query('Open==1')"
      ]
    },
    {
      "cell_type": "code",
      "execution_count": 66,
      "metadata": {
        "id": "fs_kcNZOWJel"
      },
      "outputs": [],
      "source": [
        "# Normalize\n",
        "\"\"\"\n",
        "new_train_plus = new_train\n",
        "columns = ['Sales', 'CompetitionDistance', 'CompetitionDays', 'PromoOpenDays', \"Customers\"]\n",
        "for col in columns:\n",
        "    max_value = np.max(new_train_plus[col])\n",
        "    min_value = np.min(new_train_plus[col])\n",
        "    new_train_plus[col] = (new_train_plus[col] - min_value) / (max_value - min_value)\n",
        "\n",
        "new_train = new_train_plus\n",
        "\"\"\"\n",
        "new_train.drop(columns=['Customers'],inplace = True)\n"
      ]
    },
    {
      "cell_type": "code",
      "execution_count": 67,
      "metadata": {
        "colab": {
          "base_uri": "https://localhost:8080/"
        },
        "id": "CzJqoElDWKVz",
        "outputId": "c18c39b8-4064-40b5-898d-7a60dead7cc3"
      },
      "outputs": [
        {
          "output_type": "execute_result",
          "data": {
            "text/plain": [
              "Store                    int64\n",
              "DayOfWeek                int64\n",
              "Sales                    int64\n",
              "Open                     int64\n",
              "Promo                    int64\n",
              "StateHoliday             int64\n",
              "SchoolHoliday            int64\n",
              "StoreType                int64\n",
              "Assortment               int64\n",
              "CompetitionDistance    float64\n",
              "Promo2                   int64\n",
              "PromoInterval           object\n",
              "Year                     int64\n",
              "Month                    int64\n",
              "Day                      int64\n",
              "CompetitionDays        float64\n",
              "PromoOpenDays          float64\n",
              "dtype: object"
            ]
          },
          "metadata": {},
          "execution_count": 67
        }
      ],
      "source": [
        "new_train.dtypes"
      ]
    },
    {
      "cell_type": "code",
      "execution_count": 68,
      "metadata": {
        "id": "tD0TiFbuWNQz"
      },
      "outputs": [],
      "source": [
        "new_train = pd.get_dummies(new_train, columns = ['PromoInterval'])\n",
        "new_test = pd.get_dummies(new_test, columns = ['PromoInterval'])"
      ]
    },
    {
      "cell_type": "code",
      "execution_count": 69,
      "metadata": {
        "colab": {
          "base_uri": "https://localhost:8080/"
        },
        "id": "sEYyZAnc7MNW",
        "outputId": "16a9a733-6b64-42a1-8fcd-1c11c751a441"
      },
      "outputs": [
        {
          "output_type": "execute_result",
          "data": {
            "text/plain": [
              "(35104, 25)"
            ]
          },
          "metadata": {},
          "execution_count": 69
        }
      ],
      "source": [
        "new_test.shape"
      ]
    },
    {
      "cell_type": "code",
      "execution_count": 70,
      "metadata": {
        "id": "J7aZf5C9WPFu"
      },
      "outputs": [],
      "source": [
        "x = new_train.drop([\"Sales\"], axis = 1)\n",
        "y = new_train[\"Sales\"]"
      ]
    },
    {
      "cell_type": "code",
      "execution_count": 71,
      "metadata": {
        "id": "P5MFGUNfWR9F"
      },
      "outputs": [],
      "source": [
        "x = x.to_numpy()\n",
        "y = y.to_numpy()"
      ]
    },
    {
      "cell_type": "code",
      "execution_count": 72,
      "metadata": {
        "colab": {
          "base_uri": "https://localhost:8080/"
        },
        "id": "h41Z4sq9WWBi",
        "outputId": "b66fd92d-0305-4d9f-df03-e05ddf3e5784"
      },
      "outputs": [
        {
          "output_type": "execute_result",
          "data": {
            "text/plain": [
              "array([[0.        , 0.66666667, 0.        , ..., 0.        , 0.        ,\n",
              "        0.        ],\n",
              "       [0.        , 0.5       , 0.        , ..., 0.        , 0.        ,\n",
              "        0.        ],\n",
              "       [0.        , 0.33333333, 0.        , ..., 0.        , 0.        ,\n",
              "        0.        ],\n",
              "       ...,\n",
              "       [1.        , 0.66666667, 0.        , ..., 0.        , 0.        ,\n",
              "        1.        ],\n",
              "       [1.        , 0.5       , 0.        , ..., 0.        , 0.        ,\n",
              "        1.        ],\n",
              "       [1.        , 0.33333333, 0.        , ..., 0.        , 0.        ,\n",
              "        1.        ]])"
            ]
          },
          "metadata": {},
          "execution_count": 72
        }
      ],
      "source": [
        "from sklearn.preprocessing import MinMaxScaler\n",
        "from sklearn.model_selection import train_test_split\n",
        "\n",
        "# Scaling the data \n",
        "scaler = MinMaxScaler()\n",
        "scaler.fit_transform(x,y)"
      ]
    },
    {
      "cell_type": "code",
      "execution_count": 73,
      "metadata": {
        "id": "OEI8er17m9AV"
      },
      "outputs": [],
      "source": [
        "from sklearn.model_selection import train_test_split\n",
        "X_train, X_test, y_train, y_test = train_test_split(x, y, test_size=0.2, random_state=42)"
      ]
    },
    {
      "cell_type": "code",
      "execution_count": 98,
      "metadata": {
        "id": "2wioERaF0bjC",
        "cellView": "form"
      },
      "outputs": [],
      "source": [
        "#@title Default title text\n",
        "\n",
        "# X_train.shape, X_test.shape, y_test.shape, y_train.shape"
      ]
    },
    {
      "cell_type": "code",
      "execution_count": 75,
      "metadata": {
        "id": "YRSUQSwE0wD0",
        "cellView": "form"
      },
      "outputs": [],
      "source": [
        "#@title Default title text\n",
        "# def df_to_X_y(df, window_size=5):\n",
        "#   df_as_np = df.to_numpy()\n",
        "#   X = []\n",
        "#   y = []\n",
        "#   for i in range(len(df_as_np)-window_size):\n",
        "#     row = [[a] for a in df_as_np[i:i+window_size]]\n",
        "#     X.append(row)\n",
        "#     label = df_as_np[i+window_size]\n",
        "#     y.append(label)\n",
        "#   return np.array(x), np.array(y)"
      ]
    },
    {
      "cell_type": "code",
      "execution_count": 76,
      "metadata": {
        "id": "kiX7p1D-0y29",
        "cellView": "form"
      },
      "outputs": [],
      "source": [
        "#@title Default title text\n",
        "# WINDOW_SIZE = 5\n",
        "# X1, y1 = df_to_X_y(x, WINDOW_SIZE)\n",
        "# X1.shape, y1.shape"
      ]
    },
    {
      "cell_type": "code",
      "execution_count": 77,
      "metadata": {
        "id": "9KGuOKbXo7pv",
        "cellView": "form"
      },
      "outputs": [],
      "source": [
        "#@title Your Title Here\n",
        "# def create_timestep(i, window_size):\n",
        "  \n",
        "#       nrows = i.shape[0] - window_size + 1\n",
        "#       p,q = i.shape\n",
        "#       m,n = i.strides\n",
        "#       strided = np.lib.stride_tricks.as_strided\n",
        "#       output_X = strided(i,shape=(nrows,window_size,q),strides=(m,m,n))\n",
        "  \n",
        "#       return output_X\n",
        "# ''' \n",
        "# Reshaping an array to give it (n, n, n)\n",
        "# is necessary before feeding into a RNN\n",
        "\n",
        "# window_size --> passes in the current iteration, as well as n previous layers.\n",
        "\n",
        "# window_size is used for noisy or erroneous data, the window is used to mitigate\n",
        "\n",
        "# window_size can be defined from (1-->n)\n",
        "\n",
        "# '''\n",
        "\n",
        "# # create_timestep(input, window_size)"
      ]
    },
    {
      "cell_type": "code",
      "execution_count": 78,
      "metadata": {
        "id": "g0tu-1s1vU8s",
        "cellView": "form"
      },
      "outputs": [],
      "source": [
        "#@title Default title text\n",
        "# X_train = create_timestep(X_train, 5)"
      ]
    },
    {
      "cell_type": "code",
      "execution_count": 79,
      "metadata": {
        "id": "v2dyub2Dycgo",
        "cellView": "form"
      },
      "outputs": [],
      "source": [
        "#@title Default title text\n",
        "# X_test = create_timestep(X_test, 5)"
      ]
    },
    {
      "cell_type": "markdown",
      "source": [
        "# For the models to work"
      ],
      "metadata": {
        "id": "pyaXN0QR5hrn"
      }
    },
    {
      "cell_type": "code",
      "execution_count": 80,
      "metadata": {
        "colab": {
          "base_uri": "https://localhost:8080/"
        },
        "id": "tO8ZhTrZ2HmX",
        "outputId": "c97bfb97-97ff-4155-e160-055177ccf149"
      },
      "outputs": [
        {
          "output_type": "execute_result",
          "data": {
            "text/plain": [
              "((675513, 19), (168879, 19), (168879,), (675513,))"
            ]
          },
          "metadata": {},
          "execution_count": 80
        }
      ],
      "source": [
        "# Shape of sets\n",
        "X_train.shape, X_test.shape, y_test.shape, y_train.shape"
      ]
    },
    {
      "cell_type": "markdown",
      "source": [
        "Note: For code to work, the RNN takes a 3d array to work - you must input the exact same numbers as the shape of the data above this cell.\n",
        "\n",
        "I.e.\n",
        "X_train = X_train.reshape(x1,x2,x3) == X_train.shape (as seen above)\n",
        "\n",
        "If there are 19 features, then 19 features must be standard across all the inputs for the code to work.If you += features then you must change the features across the entire model for it to work."
      ],
      "metadata": {
        "id": "279bB6Up4o0V"
      }
    },
    {
      "cell_type": "code",
      "execution_count": 81,
      "metadata": {
        "id": "y-BMMlYo2COF"
      },
      "outputs": [],
      "source": [
        "# Resizing Shape of test and train set to 3d arrays - you need 3d array for RNN to work, needs to be changed depending on size of train test split and if data changes\n",
        "# The size of shapes should reflect the split data \n",
        "\n",
        "X_train = X_train.reshape(675513, 1, 19) ##I repeat The shape of the train & test data must be exact to the shape of the splits\n",
        "X_test = X_test.reshape(168879, 1, 19)"
      ]
    },
    {
      "cell_type": "code",
      "execution_count": 82,
      "metadata": {
        "colab": {
          "base_uri": "https://localhost:8080/"
        },
        "id": "VvhYhTfQbCTk",
        "outputId": "6acd8c8a-123d-461f-8ef1-7669c67010b8"
      },
      "outputs": [
        {
          "output_type": "execute_result",
          "data": {
            "text/plain": [
              "((675513, 1, 19), (168879, 1, 19), (168879,), (675513,))"
            ]
          },
          "metadata": {},
          "execution_count": 82
        }
      ],
      "source": [
        "# Look above for reference of size\n",
        "X_train.shape, X_test.shape, y_test.shape, y_train.shape"
      ]
    },
    {
      "cell_type": "markdown",
      "metadata": {
        "id": "eCKIO4ucbMye"
      },
      "source": [
        "#LSTM ATTEMPT 2\n"
      ]
    },
    {
      "cell_type": "code",
      "execution_count": 83,
      "metadata": {
        "colab": {
          "base_uri": "https://localhost:8080/"
        },
        "id": "yCkATZy9bPX2",
        "outputId": "9d8c8cea-1901-459e-9f8c-3cc84e6b480a"
      },
      "outputs": [
        {
          "output_type": "stream",
          "name": "stdout",
          "text": [
            "Model: \"sequential_1\"\n",
            "_________________________________________________________________\n",
            " Layer (type)                Output Shape              Param #   \n",
            "=================================================================\n",
            " lstm_1 (LSTM)               (None, 64)                21504     \n",
            "                                                                 \n",
            " dense_2 (Dense)             (None, 8)                 520       \n",
            "                                                                 \n",
            " dense_3 (Dense)             (None, 1)                 9         \n",
            "                                                                 \n",
            "=================================================================\n",
            "Total params: 22,033\n",
            "Trainable params: 22,033\n",
            "Non-trainable params: 0\n",
            "_________________________________________________________________\n"
          ]
        }
      ],
      "source": [
        "from tensorflow.keras.models import Sequential\n",
        "from tensorflow.keras.layers import *\n",
        "from tensorflow.keras.callbacks import ModelCheckpoint\n",
        "from tensorflow.keras.losses import MeanSquaredError\n",
        "from tensorflow.keras.metrics import RootMeanSquaredError\n",
        "from tensorflow.keras.optimizers import Adam\n",
        "\n",
        "model1 = Sequential()\n",
        "model1.add(InputLayer((1, 19))) #Note the inputs, (x1,x2) x1 refers to the batch size which is equal to the 3d shape above.\n",
        "model1.add(LSTM(64))\n",
        "model1.add(Dense(8, 'relu'))\n",
        "model1.add(Dense(1, 'linear'))\n",
        "\n",
        "model1.summary()"
      ]
    },
    {
      "cell_type": "code",
      "execution_count": 84,
      "metadata": {
        "id": "xWhwwKeQbMFN"
      },
      "outputs": [],
      "source": [
        "cp1 = ModelCheckpoint('model1/', save_best_only=True)\n",
        "model1.compile(loss=MeanSquaredError(), optimizer=Adam(learning_rate=1e-4), metrics=[RootMeanSquaredError()])"
      ]
    },
    {
      "cell_type": "code",
      "execution_count": 85,
      "metadata": {
        "colab": {
          "base_uri": "https://localhost:8080/"
        },
        "id": "LhDXUMylbfEE",
        "outputId": "ba539509-c46c-4cfe-e87e-30464f16b1e3"
      },
      "outputs": [
        {
          "output_type": "stream",
          "name": "stdout",
          "text": [
            "Epoch 1/4\n",
            "21105/21110 [============================>.] - ETA: 0s - loss: 56037748.0000 - root_mean_squared_error: 7485.8364"
          ]
        },
        {
          "output_type": "stream",
          "name": "stderr",
          "text": [
            "WARNING:tensorflow:Can save best model only with val_loss available, skipping.\n"
          ]
        },
        {
          "output_type": "stream",
          "name": "stdout",
          "text": [
            "\b\b\b\b\b\b\b\b\b\b\b\b\b\b\b\b\b\b\b\b\b\b\b\b\b\b\b\b\b\b\b\b\b\b\b\b\b\b\b\b\b\b\b\b\b\b\b\b\b\b\b\b\b\b\b\b\b\b\b\b\b\b\b\b\b\b\b\b\b\b\b\b\b\b\b\b\b\b\b\b\b\b\b\b\b\b\b\b\b\b\b\b\b\b\b\b\b\b\b\b\b\b\b\b\b\b\b\b\b\b\b\b\b\r21110/21110 [==============================] - 84s 4ms/step - loss: 56035748.0000 - root_mean_squared_error: 7485.7031\n",
            "Epoch 2/4\n",
            "21103/21110 [============================>.] - ETA: 0s - loss: 46958156.0000 - root_mean_squared_error: 6852.6021"
          ]
        },
        {
          "output_type": "stream",
          "name": "stderr",
          "text": [
            "WARNING:tensorflow:Can save best model only with val_loss available, skipping.\n"
          ]
        },
        {
          "output_type": "stream",
          "name": "stdout",
          "text": [
            "\b\b\b\b\b\b\b\b\b\b\b\b\b\b\b\b\b\b\b\b\b\b\b\b\b\b\b\b\b\b\b\b\b\b\b\b\b\b\b\b\b\b\b\b\b\b\b\b\b\b\b\b\b\b\b\b\b\b\b\b\b\b\b\b\b\b\b\b\b\b\b\b\b\b\b\b\b\b\b\b\b\b\b\b\b\b\b\b\b\b\b\b\b\b\b\b\b\b\b\b\b\b\b\b\b\b\b\b\b\b\b\b\b\r21110/21110 [==============================] - 79s 4ms/step - loss: 46954496.0000 - root_mean_squared_error: 6852.3350\n",
            "Epoch 3/4\n",
            "21110/21110 [==============================] - ETA: 0s - loss: 33115252.0000 - root_mean_squared_error: 5754.5854"
          ]
        },
        {
          "output_type": "stream",
          "name": "stderr",
          "text": [
            "WARNING:tensorflow:Can save best model only with val_loss available, skipping.\n"
          ]
        },
        {
          "output_type": "stream",
          "name": "stdout",
          "text": [
            "\b\b\b\b\b\b\b\b\b\b\b\b\b\b\b\b\b\b\b\b\b\b\b\b\b\b\b\b\b\b\b\b\b\b\b\b\b\b\b\b\b\b\b\b\b\b\b\b\b\b\b\b\b\b\b\b\b\b\b\b\b\b\b\b\b\b\b\b\b\b\b\b\b\b\b\b\b\b\b\b\b\b\b\b\b\b\b\b\b\b\b\b\b\b\b\b\b\b\b\b\b\b\b\b\b\b\b\b\b\b\b\b\b\r21110/21110 [==============================] - 74s 3ms/step - loss: 33115252.0000 - root_mean_squared_error: 5754.5854\n",
            "Epoch 4/4\n",
            "21107/21110 [============================>.] - ETA: 0s - loss: 20216088.0000 - root_mean_squared_error: 4496.2305"
          ]
        },
        {
          "output_type": "stream",
          "name": "stderr",
          "text": [
            "WARNING:tensorflow:Can save best model only with val_loss available, skipping.\n"
          ]
        },
        {
          "output_type": "stream",
          "name": "stdout",
          "text": [
            "\b\b\b\b\b\b\b\b\b\b\b\b\b\b\b\b\b\b\b\b\b\b\b\b\b\b\b\b\b\b\b\b\b\b\b\b\b\b\b\b\b\b\b\b\b\b\b\b\b\b\b\b\b\b\b\b\b\b\b\b\b\b\b\b\b\b\b\b\b\b\b\b\b\b\b\b\b\b\b\b\b\b\b\b\b\b\b\b\b\b\b\b\b\b\b\b\b\b\b\b\b\b\b\b\b\b\b\b\b\b\b\b\b\r21110/21110 [==============================] - 81s 4ms/step - loss: 20215702.0000 - root_mean_squared_error: 4496.1875\n"
          ]
        },
        {
          "output_type": "execute_result",
          "data": {
            "text/plain": [
              "<keras.callbacks.History at 0x7f76d5924130>"
            ]
          },
          "metadata": {},
          "execution_count": 85
        }
      ],
      "source": [
        "model1.fit(X_train, y_train, epochs=4, callbacks=[cp1])"
      ]
    },
    {
      "cell_type": "code",
      "execution_count": 86,
      "metadata": {
        "id": "8PnNEcA-cI3R"
      },
      "outputs": [],
      "source": [
        "# from tensorflow.keras.models import load_model\n",
        "# model1 = load_model('model1/')"
      ]
    },
    {
      "cell_type": "code",
      "execution_count": 87,
      "metadata": {
        "id": "nBZRBhgJcKLZ"
      },
      "outputs": [],
      "source": [
        "# train_predictions = model1.predict(X_train).flatten()\n",
        "# train_results = pd.DataFrame(data={'Train Predictions':train_predictions, 'Actuals':y_train})\n",
        "# train_results"
      ]
    },
    {
      "cell_type": "code",
      "execution_count": 88,
      "metadata": {
        "id": "SDPdzTcfd31O"
      },
      "outputs": [],
      "source": [
        "# test_predictions = model1.predict(X_test).flatten()\n",
        "# test_results = pd.DataFrame(data={'Test Predictions':test_predictions, 'Actuals':y_test})\n",
        "# test_results\n"
      ]
    },
    {
      "cell_type": "code",
      "execution_count": 89,
      "metadata": {
        "id": "ZsCO3wom863d",
        "colab": {
          "base_uri": "https://localhost:8080/"
        },
        "outputId": "120093d2-593e-4b63-9227-1e86ba7091c7"
      },
      "outputs": [
        {
          "output_type": "stream",
          "name": "stdout",
          "text": [
            "19\n",
            "19\n"
          ]
        }
      ],
      "source": [
        "for test in new_test:\n",
        "    exist = False\n",
        "    for train in new_train:\n",
        "        if train == test:\n",
        "            exist = True\n",
        "    \n",
        "    if not exist:\n",
        "        new_test = new_test.drop([test], axis=1)\n",
        "\n",
        "print(len(new_test.dtypes))\n",
        "print(len(new_train.dtypes)-1) # beacause Sales is y data"
      ]
    },
    {
      "cell_type": "code",
      "execution_count": 90,
      "metadata": {
        "id": "uJmOATxU88yo"
      },
      "outputs": [],
      "source": [
        "cleanup3 = {\"StateHoliday\": {\"a\":0, \"b\":1, \"c\":2}}\n",
        "new_test.replace(cleanup3, inplace=True)\n",
        "new_test['StateHoliday'] = new_test['StateHoliday'].astype(int)"
      ]
    },
    {
      "cell_type": "code",
      "execution_count": 91,
      "metadata": {
        "id": "mmMmAeXXE-B1"
      },
      "outputs": [],
      "source": [
        "import tensorflow as tf\n",
        "test = new_test.to_numpy()\n",
        "test = test.reshape((35104,1,19)) #fitting to size of input (3d array)\n",
        "test.shape\n",
        "test = tf.convert_to_tensor(test)"
      ]
    },
    {
      "cell_type": "code",
      "execution_count": 92,
      "metadata": {
        "id": "GMA4feJjAmJI",
        "colab": {
          "base_uri": "https://localhost:8080/",
          "height": 441
        },
        "outputId": "4418abc5-520a-41c5-abbf-309a8c8d4293"
      },
      "outputs": [
        {
          "output_type": "stream",
          "name": "stdout",
          "text": [
            "1097/1097 [==============================] - 3s 2ms/step\n"
          ]
        },
        {
          "output_type": "execute_result",
          "data": {
            "text/plain": [
              "                 0\n",
              "0      4952.377441\n",
              "1      4952.377441\n",
              "2      4952.377441\n",
              "3      4952.377441\n",
              "4      4952.377441\n",
              "...            ...\n",
              "35099  3285.335449\n",
              "35100  3285.335449\n",
              "35101  3285.335449\n",
              "35102  3285.335449\n",
              "35103  3285.335449\n",
              "\n",
              "[35104 rows x 1 columns]"
            ],
            "text/html": [
              "\n",
              "  <div id=\"df-f59a8c48-cc89-419d-8552-607acfe67991\">\n",
              "    <div class=\"colab-df-container\">\n",
              "      <div>\n",
              "<style scoped>\n",
              "    .dataframe tbody tr th:only-of-type {\n",
              "        vertical-align: middle;\n",
              "    }\n",
              "\n",
              "    .dataframe tbody tr th {\n",
              "        vertical-align: top;\n",
              "    }\n",
              "\n",
              "    .dataframe thead th {\n",
              "        text-align: right;\n",
              "    }\n",
              "</style>\n",
              "<table border=\"1\" class=\"dataframe\">\n",
              "  <thead>\n",
              "    <tr style=\"text-align: right;\">\n",
              "      <th></th>\n",
              "      <th>0</th>\n",
              "    </tr>\n",
              "  </thead>\n",
              "  <tbody>\n",
              "    <tr>\n",
              "      <th>0</th>\n",
              "      <td>4952.377441</td>\n",
              "    </tr>\n",
              "    <tr>\n",
              "      <th>1</th>\n",
              "      <td>4952.377441</td>\n",
              "    </tr>\n",
              "    <tr>\n",
              "      <th>2</th>\n",
              "      <td>4952.377441</td>\n",
              "    </tr>\n",
              "    <tr>\n",
              "      <th>3</th>\n",
              "      <td>4952.377441</td>\n",
              "    </tr>\n",
              "    <tr>\n",
              "      <th>4</th>\n",
              "      <td>4952.377441</td>\n",
              "    </tr>\n",
              "    <tr>\n",
              "      <th>...</th>\n",
              "      <td>...</td>\n",
              "    </tr>\n",
              "    <tr>\n",
              "      <th>35099</th>\n",
              "      <td>3285.335449</td>\n",
              "    </tr>\n",
              "    <tr>\n",
              "      <th>35100</th>\n",
              "      <td>3285.335449</td>\n",
              "    </tr>\n",
              "    <tr>\n",
              "      <th>35101</th>\n",
              "      <td>3285.335449</td>\n",
              "    </tr>\n",
              "    <tr>\n",
              "      <th>35102</th>\n",
              "      <td>3285.335449</td>\n",
              "    </tr>\n",
              "    <tr>\n",
              "      <th>35103</th>\n",
              "      <td>3285.335449</td>\n",
              "    </tr>\n",
              "  </tbody>\n",
              "</table>\n",
              "<p>35104 rows × 1 columns</p>\n",
              "</div>\n",
              "      <button class=\"colab-df-convert\" onclick=\"convertToInteractive('df-f59a8c48-cc89-419d-8552-607acfe67991')\"\n",
              "              title=\"Convert this dataframe to an interactive table.\"\n",
              "              style=\"display:none;\">\n",
              "        \n",
              "  <svg xmlns=\"http://www.w3.org/2000/svg\" height=\"24px\"viewBox=\"0 0 24 24\"\n",
              "       width=\"24px\">\n",
              "    <path d=\"M0 0h24v24H0V0z\" fill=\"none\"/>\n",
              "    <path d=\"M18.56 5.44l.94 2.06.94-2.06 2.06-.94-2.06-.94-.94-2.06-.94 2.06-2.06.94zm-11 1L8.5 8.5l.94-2.06 2.06-.94-2.06-.94L8.5 2.5l-.94 2.06-2.06.94zm10 10l.94 2.06.94-2.06 2.06-.94-2.06-.94-.94-2.06-.94 2.06-2.06.94z\"/><path d=\"M17.41 7.96l-1.37-1.37c-.4-.4-.92-.59-1.43-.59-.52 0-1.04.2-1.43.59L10.3 9.45l-7.72 7.72c-.78.78-.78 2.05 0 2.83L4 21.41c.39.39.9.59 1.41.59.51 0 1.02-.2 1.41-.59l7.78-7.78 2.81-2.81c.8-.78.8-2.07 0-2.86zM5.41 20L4 18.59l7.72-7.72 1.47 1.35L5.41 20z\"/>\n",
              "  </svg>\n",
              "      </button>\n",
              "      \n",
              "  <style>\n",
              "    .colab-df-container {\n",
              "      display:flex;\n",
              "      flex-wrap:wrap;\n",
              "      gap: 12px;\n",
              "    }\n",
              "\n",
              "    .colab-df-convert {\n",
              "      background-color: #E8F0FE;\n",
              "      border: none;\n",
              "      border-radius: 50%;\n",
              "      cursor: pointer;\n",
              "      display: none;\n",
              "      fill: #1967D2;\n",
              "      height: 32px;\n",
              "      padding: 0 0 0 0;\n",
              "      width: 32px;\n",
              "    }\n",
              "\n",
              "    .colab-df-convert:hover {\n",
              "      background-color: #E2EBFA;\n",
              "      box-shadow: 0px 1px 2px rgba(60, 64, 67, 0.3), 0px 1px 3px 1px rgba(60, 64, 67, 0.15);\n",
              "      fill: #174EA6;\n",
              "    }\n",
              "\n",
              "    [theme=dark] .colab-df-convert {\n",
              "      background-color: #3B4455;\n",
              "      fill: #D2E3FC;\n",
              "    }\n",
              "\n",
              "    [theme=dark] .colab-df-convert:hover {\n",
              "      background-color: #434B5C;\n",
              "      box-shadow: 0px 1px 3px 1px rgba(0, 0, 0, 0.15);\n",
              "      filter: drop-shadow(0px 1px 2px rgba(0, 0, 0, 0.3));\n",
              "      fill: #FFFFFF;\n",
              "    }\n",
              "  </style>\n",
              "\n",
              "      <script>\n",
              "        const buttonEl =\n",
              "          document.querySelector('#df-f59a8c48-cc89-419d-8552-607acfe67991 button.colab-df-convert');\n",
              "        buttonEl.style.display =\n",
              "          google.colab.kernel.accessAllowed ? 'block' : 'none';\n",
              "\n",
              "        async function convertToInteractive(key) {\n",
              "          const element = document.querySelector('#df-f59a8c48-cc89-419d-8552-607acfe67991');\n",
              "          const dataTable =\n",
              "            await google.colab.kernel.invokeFunction('convertToInteractive',\n",
              "                                                     [key], {});\n",
              "          if (!dataTable) return;\n",
              "\n",
              "          const docLinkHtml = 'Like what you see? Visit the ' +\n",
              "            '<a target=\"_blank\" href=https://colab.research.google.com/notebooks/data_table.ipynb>data table notebook</a>'\n",
              "            + ' to learn more about interactive tables.';\n",
              "          element.innerHTML = '';\n",
              "          dataTable['output_type'] = 'display_data';\n",
              "          await google.colab.output.renderOutput(dataTable, element);\n",
              "          const docLink = document.createElement('div');\n",
              "          docLink.innerHTML = docLinkHtml;\n",
              "          element.appendChild(docLink);\n",
              "        }\n",
              "      </script>\n",
              "    </div>\n",
              "  </div>\n",
              "  "
            ]
          },
          "metadata": {},
          "execution_count": 92
        }
      ],
      "source": [
        "\n",
        "target = model1.predict(test)\n",
        "prediction_data = pd.DataFrame(target)\n",
        "prediction_data"
      ]
    },
    {
      "cell_type": "code",
      "execution_count": 93,
      "metadata": {
        "id": "8dOk7qeW5Roy",
        "colab": {
          "base_uri": "https://localhost:8080/",
          "height": 424
        },
        "outputId": "01948671-af56-4816-f451-422c3c518d47"
      },
      "outputs": [
        {
          "output_type": "execute_result",
          "data": {
            "text/plain": [
              "          Id        Sales\n",
              "0          1  4952.377441\n",
              "1          2  4952.377441\n",
              "2          3  4952.377441\n",
              "3          4  4952.377441\n",
              "4          5  4952.377441\n",
              "...      ...          ...\n",
              "41083  41084     0.000000\n",
              "41084  41085     0.000000\n",
              "41085  41086     0.000000\n",
              "41086  41087     0.000000\n",
              "41087  41088     0.000000\n",
              "\n",
              "[41088 rows x 2 columns]"
            ],
            "text/html": [
              "\n",
              "  <div id=\"df-4e9abbfb-6875-4853-ab53-9dfc7b871749\">\n",
              "    <div class=\"colab-df-container\">\n",
              "      <div>\n",
              "<style scoped>\n",
              "    .dataframe tbody tr th:only-of-type {\n",
              "        vertical-align: middle;\n",
              "    }\n",
              "\n",
              "    .dataframe tbody tr th {\n",
              "        vertical-align: top;\n",
              "    }\n",
              "\n",
              "    .dataframe thead th {\n",
              "        text-align: right;\n",
              "    }\n",
              "</style>\n",
              "<table border=\"1\" class=\"dataframe\">\n",
              "  <thead>\n",
              "    <tr style=\"text-align: right;\">\n",
              "      <th></th>\n",
              "      <th>Id</th>\n",
              "      <th>Sales</th>\n",
              "    </tr>\n",
              "  </thead>\n",
              "  <tbody>\n",
              "    <tr>\n",
              "      <th>0</th>\n",
              "      <td>1</td>\n",
              "      <td>4952.377441</td>\n",
              "    </tr>\n",
              "    <tr>\n",
              "      <th>1</th>\n",
              "      <td>2</td>\n",
              "      <td>4952.377441</td>\n",
              "    </tr>\n",
              "    <tr>\n",
              "      <th>2</th>\n",
              "      <td>3</td>\n",
              "      <td>4952.377441</td>\n",
              "    </tr>\n",
              "    <tr>\n",
              "      <th>3</th>\n",
              "      <td>4</td>\n",
              "      <td>4952.377441</td>\n",
              "    </tr>\n",
              "    <tr>\n",
              "      <th>4</th>\n",
              "      <td>5</td>\n",
              "      <td>4952.377441</td>\n",
              "    </tr>\n",
              "    <tr>\n",
              "      <th>...</th>\n",
              "      <td>...</td>\n",
              "      <td>...</td>\n",
              "    </tr>\n",
              "    <tr>\n",
              "      <th>41083</th>\n",
              "      <td>41084</td>\n",
              "      <td>0.000000</td>\n",
              "    </tr>\n",
              "    <tr>\n",
              "      <th>41084</th>\n",
              "      <td>41085</td>\n",
              "      <td>0.000000</td>\n",
              "    </tr>\n",
              "    <tr>\n",
              "      <th>41085</th>\n",
              "      <td>41086</td>\n",
              "      <td>0.000000</td>\n",
              "    </tr>\n",
              "    <tr>\n",
              "      <th>41086</th>\n",
              "      <td>41087</td>\n",
              "      <td>0.000000</td>\n",
              "    </tr>\n",
              "    <tr>\n",
              "      <th>41087</th>\n",
              "      <td>41088</td>\n",
              "      <td>0.000000</td>\n",
              "    </tr>\n",
              "  </tbody>\n",
              "</table>\n",
              "<p>41088 rows × 2 columns</p>\n",
              "</div>\n",
              "      <button class=\"colab-df-convert\" onclick=\"convertToInteractive('df-4e9abbfb-6875-4853-ab53-9dfc7b871749')\"\n",
              "              title=\"Convert this dataframe to an interactive table.\"\n",
              "              style=\"display:none;\">\n",
              "        \n",
              "  <svg xmlns=\"http://www.w3.org/2000/svg\" height=\"24px\"viewBox=\"0 0 24 24\"\n",
              "       width=\"24px\">\n",
              "    <path d=\"M0 0h24v24H0V0z\" fill=\"none\"/>\n",
              "    <path d=\"M18.56 5.44l.94 2.06.94-2.06 2.06-.94-2.06-.94-.94-2.06-.94 2.06-2.06.94zm-11 1L8.5 8.5l.94-2.06 2.06-.94-2.06-.94L8.5 2.5l-.94 2.06-2.06.94zm10 10l.94 2.06.94-2.06 2.06-.94-2.06-.94-.94-2.06-.94 2.06-2.06.94z\"/><path d=\"M17.41 7.96l-1.37-1.37c-.4-.4-.92-.59-1.43-.59-.52 0-1.04.2-1.43.59L10.3 9.45l-7.72 7.72c-.78.78-.78 2.05 0 2.83L4 21.41c.39.39.9.59 1.41.59.51 0 1.02-.2 1.41-.59l7.78-7.78 2.81-2.81c.8-.78.8-2.07 0-2.86zM5.41 20L4 18.59l7.72-7.72 1.47 1.35L5.41 20z\"/>\n",
              "  </svg>\n",
              "      </button>\n",
              "      \n",
              "  <style>\n",
              "    .colab-df-container {\n",
              "      display:flex;\n",
              "      flex-wrap:wrap;\n",
              "      gap: 12px;\n",
              "    }\n",
              "\n",
              "    .colab-df-convert {\n",
              "      background-color: #E8F0FE;\n",
              "      border: none;\n",
              "      border-radius: 50%;\n",
              "      cursor: pointer;\n",
              "      display: none;\n",
              "      fill: #1967D2;\n",
              "      height: 32px;\n",
              "      padding: 0 0 0 0;\n",
              "      width: 32px;\n",
              "    }\n",
              "\n",
              "    .colab-df-convert:hover {\n",
              "      background-color: #E2EBFA;\n",
              "      box-shadow: 0px 1px 2px rgba(60, 64, 67, 0.3), 0px 1px 3px 1px rgba(60, 64, 67, 0.15);\n",
              "      fill: #174EA6;\n",
              "    }\n",
              "\n",
              "    [theme=dark] .colab-df-convert {\n",
              "      background-color: #3B4455;\n",
              "      fill: #D2E3FC;\n",
              "    }\n",
              "\n",
              "    [theme=dark] .colab-df-convert:hover {\n",
              "      background-color: #434B5C;\n",
              "      box-shadow: 0px 1px 3px 1px rgba(0, 0, 0, 0.15);\n",
              "      filter: drop-shadow(0px 1px 2px rgba(0, 0, 0, 0.3));\n",
              "      fill: #FFFFFF;\n",
              "    }\n",
              "  </style>\n",
              "\n",
              "      <script>\n",
              "        const buttonEl =\n",
              "          document.querySelector('#df-4e9abbfb-6875-4853-ab53-9dfc7b871749 button.colab-df-convert');\n",
              "        buttonEl.style.display =\n",
              "          google.colab.kernel.accessAllowed ? 'block' : 'none';\n",
              "\n",
              "        async function convertToInteractive(key) {\n",
              "          const element = document.querySelector('#df-4e9abbfb-6875-4853-ab53-9dfc7b871749');\n",
              "          const dataTable =\n",
              "            await google.colab.kernel.invokeFunction('convertToInteractive',\n",
              "                                                     [key], {});\n",
              "          if (!dataTable) return;\n",
              "\n",
              "          const docLinkHtml = 'Like what you see? Visit the ' +\n",
              "            '<a target=\"_blank\" href=https://colab.research.google.com/notebooks/data_table.ipynb>data table notebook</a>'\n",
              "            + ' to learn more about interactive tables.';\n",
              "          element.innerHTML = '';\n",
              "          dataTable['output_type'] = 'display_data';\n",
              "          await google.colab.output.renderOutput(dataTable, element);\n",
              "          const docLink = document.createElement('div');\n",
              "          docLink.innerHTML = docLinkHtml;\n",
              "          element.appendChild(docLink);\n",
              "        }\n",
              "      </script>\n",
              "    </div>\n",
              "  </div>\n",
              "  "
            ]
          },
          "metadata": {},
          "execution_count": 93
        }
      ],
      "source": [
        "output = pd.DataFrame({'Id': test_data.Id, 'Sales': prediction_data[0]})\n",
        "output.fillna(0, inplace=True)\n",
        "output.to_csv('submission.csv', index=False)\n",
        "output"
      ]
    },
    {
      "cell_type": "markdown",
      "metadata": {
        "id": "LmgR1aEta_KQ"
      },
      "source": [
        "#LSTM ATTEMPT 1\n"
      ]
    },
    {
      "cell_type": "code",
      "execution_count": 94,
      "metadata": {
        "id": "WldVmO-YW1fl"
      },
      "outputs": [],
      "source": [
        "# # Imports\n",
        "# import torch\n",
        "# import torchvision  # torch package for vision related things\n",
        "# import torch.nn.functional as F  # Parameterless functions, like (some) activation functions\n",
        "# import torchvision.datasets as datasets  # Standard datasets\n",
        "# import torchvision.transforms as transforms  # Transformations we can perform on our dataset for augmentation\n",
        "# from torch import optim  # For optimizers like SGD, Adam, etc.\n",
        "# from torch import nn  # All neural network modules\n",
        "# from torch.utils.data import DataLoader  # Gives easier dataset managment by creating mini batches etc.\n",
        "# from tqdm import tqdm  # For a nice progress bar!\n",
        "\n",
        "# # Set device\n",
        "# device = torch.device(\"cuda\" if torch.cuda.is_available() else \"cpu\")\n",
        "\n",
        "# # Hyperparameters\n",
        "# input_size = 28\n",
        "# hidden_size = 256\n",
        "# num_layers = 2\n",
        "# num_classes = 10\n",
        "# sequence_length = 28\n",
        "# learning_rate = 0.0001\n",
        "# batch_size = 64\n",
        "# num_epochs = 2\n",
        "\n",
        "\n"
      ]
    },
    {
      "cell_type": "code",
      "execution_count": 95,
      "metadata": {
        "id": "DevcKCzcW46X"
      },
      "outputs": [],
      "source": [
        "# # Recurrent neural network (many-to-one)\n",
        "# class RNN(nn.Module):\n",
        "#     def __init__(self, input_size, hidden_size, num_layers, num_classes):\n",
        "#         super(RNN, self).__init__()\n",
        "#         self.hidden_size = hidden_size\n",
        "#         self.num_layers = num_layers\n",
        "#         self.rnn = nn.RNN(input_size, hidden_size, num_layers, batch_first=True)\n",
        "#         self.fc = nn.Linear(hidden_size * sequence_length, num_classes)\n",
        "\n",
        "#     def forward(self, x):\n",
        "#         # Set initial hidden and cell states\n",
        "#         h0 = torch.zeros(self.num_layers, x.size(0), self.hidden_size).to(device)\n",
        "\n",
        "#         # Forward propagate LSTM\n",
        "#         out, _ = self.rnn(x, h0)\n",
        "#         out = out.reshape(out.shape[0], -1)\n",
        "\n",
        "#         # Decode the hidden state of the last time step\n",
        "#         out = self.fc(out)\n",
        "#         return out"
      ]
    },
    {
      "cell_type": "code",
      "execution_count": 96,
      "metadata": {
        "id": "GFxWdagYW_xv"
      },
      "outputs": [],
      "source": [
        "# # Load Data\n",
        "# train_dataset = x\n",
        "# test_dataset = y\n",
        "# train_loader = DataLoader(dataset=train_dataset, batch_size=batch_size, shuffle=True)\n",
        "# test_loader = DataLoader(dataset=test_dataset, batch_size=batch_size, shuffle=True)\n",
        "\n",
        "# # Initialize network (try out just using simple RNN, or GRU, and then compare with LSTM)\n",
        "# model = RNN(input_size, hidden_size, num_layers, num_classes).to(device) # Need to change to RNN if using RNN\n",
        "\n",
        "# # Loss and optimizer\n",
        "# criterion = nn.CrossEntropyLoss()\n",
        "# optimizer = optim.Adam(model.parameters(), lr=learning_rate)\n",
        "\n",
        "# # Train Network\n",
        "# for epoch in range(num_epochs):\n",
        "#     for batch_idx, (data, targets) in enumerate(tqdm(train_loader)):\n",
        "#         # Get data to cuda if possible\n",
        "#         data = data.to(device=device).squeeze(1)\n",
        "#         targets = targets.to(device=device)\n",
        "\n",
        "#         # forward\n",
        "#         scores = model(data)\n",
        "#         loss = criterion(scores, targets)\n",
        "\n",
        "#         # backward\n",
        "#         optimizer.zero_grad()\n",
        "#         loss.backward()\n",
        "\n",
        "#         # gradient descent update step/adam step\n",
        "#         optimizer.step()\n",
        "\n",
        "# # Check accuracy on training & test to see how good our model\n",
        "# def check_accuracy(loader, model):\n",
        "#     num_correct = 0\n",
        "#     num_samples = 0\n",
        "\n",
        "#     # Set model to eval\n",
        "#     model.eval()\n",
        "\n",
        "#     with torch.no_grad():\n",
        "#         for x, y in loader:\n",
        "#             x = x.to(device=device).squeeze(1)\n",
        "#             y = y.to(device=device)\n",
        "\n",
        "#             scores = model(x)\n",
        "#             _, predictions = scores.max(1)\n",
        "#             num_correct += (predictions == y).sum()\n",
        "#             num_samples += predictions.size(0)\n",
        "\n",
        "#     # Toggle model back to train\n",
        "#     model.train()\n",
        "#     return num_correct / num_samples\n",
        "\n",
        "\n",
        "# print(f\"Accuracy on training set: {check_accuracy(train_loader, model)*100:2f}\")\n",
        "# print(f\"Accuracy on test set: {check_accuracy(test_loader, model)*100:.2f}\")"
      ]
    }
  ],
  "metadata": {
    "colab": {
      "collapsed_sections": [
        "LmgR1aEta_KQ"
      ],
      "provenance": [],
      "authorship_tag": "ABX9TyNAQLXUmpMVFGpJcJ3P1DRO",
      "include_colab_link": true
    },
    "kernelspec": {
      "display_name": "Python 3",
      "name": "python3"
    },
    "language_info": {
      "name": "python"
    }
  },
  "nbformat": 4,
  "nbformat_minor": 0
}