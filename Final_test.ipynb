{
  "metadata": {
    "kernelspec": {
      "language": "python",
      "display_name": "Python 3",
      "name": "python3"
    },
    "language_info": {
      "name": "python",
      "version": "3.7.12",
      "mimetype": "text/x-python",
      "codemirror_mode": {
        "name": "ipython",
        "version": 3
      },
      "pygments_lexer": "ipython3",
      "nbconvert_exporter": "python",
      "file_extension": ".py"
    },
    "colab": {
      "provenance": [],
      "include_colab_link": true
    }
  },
  "nbformat_minor": 0,
  "nbformat": 4,
  "cells": [
    {
      "cell_type": "markdown",
      "metadata": {
        "id": "view-in-github",
        "colab_type": "text"
      },
      "source": [
        "<a href=\"https://colab.research.google.com/github/sjdoescoding/CE889/blob/main/Final_test.ipynb\" target=\"_parent\"><img src=\"https://colab.research.google.com/assets/colab-badge.svg\" alt=\"Open In Colab\"/></a>"
      ]
    },
    {
      "cell_type": "code",
      "source": [
        "# # This Python 3 environment comes with many helpful analytics libraries installed\n",
        "# # It is defined by the kaggle/python Docker image: https://github.com/kaggle/docker-python\n",
        "# # For example, here's several helpful packages to load\n",
        "\n",
        "# import numpy as np # linear algebra\n",
        "# import pandas as pd # data processing, CSV file I/O (e.g. pd.read_csv)\n",
        "# import numpy as np # linear algebra\n",
        "# import pandas as pd # data processing, CSV file I/O (e.g. pd.read_csv)\n",
        "# import os\n",
        "# import scipy.stats as stats\n",
        "# import matplotlib.pyplot as plt\n",
        "# from sklearn.model_selection import train_test_split\n",
        "\n",
        "# # Input data files are available in the read-only \"../input/\" directory\n",
        "# # For example, running this (by clicking run or pressing Shift+Enter) will list all files under the input directory\n",
        "# data = None\n",
        "# test_data = None\n",
        "# import os\n",
        "# for dirname, _, filenames in os.walk('/kaggle/input/'):\n",
        "#     for filename in filenames:\n",
        "#         path = os.path.join(dirname, filename)\n",
        "#         if filename == 'train.csv':\n",
        "#             data = pd.read_csv(path)\n",
        "#         if filename == 'test.csv':\n",
        "#             test_data = pd.read_csv(path)\n",
        "#         if filename == 'store.csv':\n",
        "#             store_data = pd.read_csv(path)\n",
        "        \n",
        "\n",
        "# # You can write up to 20GB to the current directory (/kaggle/working/) that gets preserved as output when you create a version using \"Save & Run All\" \n",
        "# # You can also write temporary files to /kaggle/temp/, but they won't be saved outside of the current session"
      ],
      "metadata": {
        "_cell_guid": "b1076dfc-b9ad-4769-8c92-a6c4dae69d19",
        "_uuid": "8f2839f25d086af736a60e9eeb907d3b93b6e0e5",
        "papermill": {
          "duration": 2.308865,
          "end_time": "2022-11-30T11:54:19.098708",
          "exception": false,
          "start_time": "2022-11-30T11:54:16.789843",
          "status": "completed"
        },
        "tags": [],
        "execution": {
          "iopub.status.busy": "2022-12-09T16:49:35.555585Z",
          "iopub.execute_input": "2022-12-09T16:49:35.556225Z",
          "iopub.status.idle": "2022-12-09T16:49:37.522469Z",
          "shell.execute_reply.started": "2022-12-09T16:49:35.556176Z",
          "shell.execute_reply": "2022-12-09T16:49:37.521389Z"
        },
        "trusted": true,
        "id": "K5IBAVB0-U5b"
      },
      "execution_count": 50,
      "outputs": []
    },
    {
      "cell_type": "code",
      "source": [
        "import numpy as np # linear algebra\n",
        "import pandas as pd # data processing, CSV file I/O (e.g. pd.read_csv)\n",
        "import numpy as np # linear algebra\n",
        "import pandas as pd # data processing, CSV file I/O (e.g. pd.read_csv)\n",
        "import os\n",
        "import scipy.stats as stats\n",
        "import matplotlib.pyplot as plt"
      ],
      "metadata": {
        "id": "cQK0fjRSpYzA"
      },
      "execution_count": 51,
      "outputs": []
    },
    {
      "cell_type": "code",
      "source": [
        "from google.colab import drive #mounting to drive\n",
        "drive.mount('/content/drive', force_remount=True)\n",
        "\n",
        "# Reading Zip\n",
        "from zipfile import ZipFile\n",
        "file_name = '/content/drive/My Drive/CE889/Group_Assignment/rossmann-store-sales.zip' \n",
        "with ZipFile(file_name, 'r') as zip:\n",
        "    zip.printdir()\n",
        "    zip.extractall()\n",
        "    print('Done')\n",
        "\n",
        "store_data = pd.read_csv('store.csv')\n",
        "\n",
        "#Assigning data set to df\n",
        "data = pd.read_csv('train.csv')\n",
        "\n",
        "#Assigning Test data to df\n",
        "test_data = pd.read_csv('test.csv')"
      ],
      "metadata": {
        "colab": {
          "base_uri": "https://localhost:8080/"
        },
        "id": "yZHzrzosm2Wx",
        "outputId": "d323e12c-6327-470c-d73e-b5cc4d93fe23"
      },
      "execution_count": 52,
      "outputs": [
        {
          "output_type": "stream",
          "name": "stdout",
          "text": [
            "Mounted at /content/drive\n",
            "File Name                                             Modified             Size\n",
            "sample_submission.csv                          2019-12-11 03:57:00       317611\n",
            "store.csv                                      2019-12-11 03:57:00        45010\n",
            "test.csv                                       2019-12-11 03:57:00      1427425\n",
            "train.csv                                      2019-12-11 03:57:02     38057952\n",
            "Done\n"
          ]
        },
        {
          "output_type": "stream",
          "name": "stderr",
          "text": [
            "/usr/local/lib/python3.8/dist-packages/IPython/core/interactiveshell.py:3326: DtypeWarning: Columns (7) have mixed types.Specify dtype option on import or set low_memory=False.\n",
            "  exec(code_obj, self.user_global_ns, self.user_ns)\n"
          ]
        }
      ]
    },
    {
      "cell_type": "markdown",
      "source": [],
      "metadata": {
        "papermill": {
          "duration": 0.006752,
          "end_time": "2022-11-30T11:54:19.113465",
          "exception": false,
          "start_time": "2022-11-30T11:54:19.106713",
          "status": "completed"
        },
        "tags": [],
        "id": "ouMYzxE--U5e"
      }
    },
    {
      "cell_type": "code",
      "source": [
        "# Join train set and store set, test set and store set, inner refers to using the common keys\n",
        "# on refers to the label\n",
        "new_train = data.merge(store_data, how='inner', on='Store')\n",
        "new_test = test_data.merge(store_data, how='inner', on='Store')"
      ],
      "metadata": {
        "papermill": {
          "duration": 0.530021,
          "end_time": "2022-11-30T11:54:19.697540",
          "exception": false,
          "start_time": "2022-11-30T11:54:19.167519",
          "status": "completed"
        },
        "tags": [],
        "execution": {
          "iopub.status.busy": "2022-12-09T16:49:37.524581Z",
          "iopub.execute_input": "2022-12-09T16:49:37.524981Z",
          "iopub.status.idle": "2022-12-09T16:49:38.293033Z",
          "shell.execute_reply.started": "2022-12-09T16:49:37.524952Z",
          "shell.execute_reply": "2022-12-09T16:49:38.291561Z"
        },
        "trusted": true,
        "id": "dsuPfZVZ-U5f"
      },
      "execution_count": 53,
      "outputs": []
    },
    {
      "cell_type": "code",
      "source": [
        "new_train['Date'] = pd.to_datetime(new_train['Date'])\n",
        "new_train['Year'] = new_train.Date.dt.year\n",
        "new_train['Month'] = new_train.Date.dt.month\n",
        "new_train['Day'] = new_train.Date.dt.day\n",
        "\n",
        "new_test['Date'] = pd.to_datetime(new_test['Date'])\n",
        "new_test['Year'] = new_train.Date.dt.year\n",
        "new_test['Month'] = new_test.Date.dt.month\n",
        "new_test['Day'] = new_test.Date.dt.day"
      ],
      "metadata": {
        "papermill": {
          "duration": 0.036959,
          "end_time": "2022-11-30T11:54:19.742146",
          "exception": false,
          "start_time": "2022-11-30T11:54:19.705187",
          "status": "completed"
        },
        "tags": [],
        "execution": {
          "iopub.status.busy": "2022-12-09T16:49:38.294792Z",
          "iopub.execute_input": "2022-12-09T16:49:38.295258Z",
          "iopub.status.idle": "2022-12-09T16:49:38.890493Z",
          "shell.execute_reply.started": "2022-12-09T16:49:38.295210Z",
          "shell.execute_reply": "2022-12-09T16:49:38.889632Z"
        },
        "trusted": true,
        "id": "uegA1zLd-U5g"
      },
      "execution_count": 54,
      "outputs": []
    },
    {
      "cell_type": "code",
      "source": [
        "new_train[\"CompetitionDistance\"]=new_train[\"CompetitionDistance\"].fillna(99999)\n",
        "new_test[\"CompetitionDistance\"]=new_test[\"CompetitionDistance\"].fillna(99999)"
      ],
      "metadata": {
        "papermill": {
          "duration": 0.03231,
          "end_time": "2022-11-30T11:54:19.783661",
          "exception": false,
          "start_time": "2022-11-30T11:54:19.751351",
          "status": "completed"
        },
        "tags": [],
        "execution": {
          "iopub.status.busy": "2022-12-09T16:49:38.891952Z",
          "iopub.execute_input": "2022-12-09T16:49:38.892547Z",
          "iopub.status.idle": "2022-12-09T16:49:38.908413Z",
          "shell.execute_reply.started": "2022-12-09T16:49:38.892513Z",
          "shell.execute_reply": "2022-12-09T16:49:38.907098Z"
        },
        "trusted": true,
        "id": "FHn7LDkd-U5g"
      },
      "execution_count": 55,
      "outputs": []
    },
    {
      "cell_type": "code",
      "source": [
        " # convert assortment and storetype and stateholiday in training data to int\n",
        "cleanup = {\"Assortment\": {\"a\":0, \"b\":1, \"c\":2}}\n",
        "new_train.replace(cleanup, inplace=True)\n",
        "new_train['Assortment'] = new_train['Assortment'].astype(int)\n",
        "\n",
        "cleanup2 = {\"StoreType\": {\"a\":0, \"b\":1, \"c\":2, \"d\":3}}\n",
        "new_train.replace(cleanup2, inplace=True)\n",
        "new_train['StoreType'] = new_train['StoreType'].astype(int)\n",
        "\n",
        "cleanup3 = {\"StateHoliday\": {\"a\":0, \"b\":1, \"c\":2}}\n",
        "new_train.replace(cleanup3, inplace=True)\n",
        "new_train['StateHoliday'] = new_train['StateHoliday'].astype(int)"
      ],
      "metadata": {
        "papermill": {
          "duration": 1.217731,
          "end_time": "2022-11-30T11:54:21.010095",
          "exception": false,
          "start_time": "2022-11-30T11:54:19.792364",
          "status": "completed"
        },
        "tags": [],
        "execution": {
          "iopub.status.busy": "2022-12-09T16:49:38.911035Z",
          "iopub.execute_input": "2022-12-09T16:49:38.911371Z",
          "iopub.status.idle": "2022-12-09T16:49:40.377998Z",
          "shell.execute_reply.started": "2022-12-09T16:49:38.911342Z",
          "shell.execute_reply": "2022-12-09T16:49:40.376670Z"
        },
        "trusted": true,
        "id": "3Ds_DzO8-U5g"
      },
      "execution_count": 56,
      "outputs": []
    },
    {
      "cell_type": "code",
      "source": [
        " # convert assortment and storetype in testing data to int\n",
        "cleanup = {\"Assortment\": {\"a\":0, \"b\":1, \"c\":2}}\n",
        "new_test.replace(cleanup, inplace=True)\n",
        "new_test['Assortment'] = new_test['Assortment'].astype(int)\n",
        "\n",
        "cleanup2 = {\"StoreType\": {\"a\":0, \"b\":1, \"c\":2, \"d\":3}}\n",
        "new_test.replace(cleanup2, inplace=True)\n",
        "new_test['StoreType'] = new_test['StoreType'].astype(int)\n",
        "\n",
        "cleanup3 = {\"StateHoliday\": {\"a\":0, \"b\":1, \"c\":2}}\n",
        "new_train.replace(cleanup3, inplace=True)\n",
        "new_train['StateHoliday'] = new_train['StateHoliday'].astype(int)"
      ],
      "metadata": {
        "papermill": {
          "duration": 0.07466,
          "end_time": "2022-11-30T11:54:21.093084",
          "exception": false,
          "start_time": "2022-11-30T11:54:21.018424",
          "status": "completed"
        },
        "tags": [],
        "execution": {
          "iopub.status.busy": "2022-12-09T16:49:40.379471Z",
          "iopub.execute_input": "2022-12-09T16:49:40.379925Z",
          "iopub.status.idle": "2022-12-09T16:49:40.532201Z",
          "shell.execute_reply.started": "2022-12-09T16:49:40.379882Z",
          "shell.execute_reply": "2022-12-09T16:49:40.530970Z"
        },
        "trusted": true,
        "id": "fKTt7e1a-U5h"
      },
      "execution_count": 57,
      "outputs": []
    },
    {
      "cell_type": "code",
      "source": [
        "new_train.info()"
      ],
      "metadata": {
        "papermill": {
          "duration": 0.047489,
          "end_time": "2022-11-30T11:54:21.148759",
          "exception": false,
          "start_time": "2022-11-30T11:54:21.101270",
          "status": "completed"
        },
        "tags": [],
        "execution": {
          "iopub.status.busy": "2022-12-09T16:49:40.533869Z",
          "iopub.execute_input": "2022-12-09T16:49:40.534314Z",
          "iopub.status.idle": "2022-12-09T16:49:40.625054Z",
          "shell.execute_reply.started": "2022-12-09T16:49:40.534272Z",
          "shell.execute_reply": "2022-12-09T16:49:40.623853Z"
        },
        "trusted": true,
        "id": "wx97P9hd-U5h",
        "outputId": "56c941c0-4111-4097-8207-68aaff4abed8",
        "colab": {
          "base_uri": "https://localhost:8080/"
        }
      },
      "execution_count": 58,
      "outputs": [
        {
          "output_type": "stream",
          "name": "stdout",
          "text": [
            "<class 'pandas.core.frame.DataFrame'>\n",
            "Int64Index: 1017209 entries, 0 to 1017208\n",
            "Data columns (total 21 columns):\n",
            " #   Column                     Non-Null Count    Dtype         \n",
            "---  ------                     --------------    -----         \n",
            " 0   Store                      1017209 non-null  int64         \n",
            " 1   DayOfWeek                  1017209 non-null  int64         \n",
            " 2   Date                       1017209 non-null  datetime64[ns]\n",
            " 3   Sales                      1017209 non-null  int64         \n",
            " 4   Customers                  1017209 non-null  int64         \n",
            " 5   Open                       1017209 non-null  int64         \n",
            " 6   Promo                      1017209 non-null  int64         \n",
            " 7   StateHoliday               1017209 non-null  int64         \n",
            " 8   SchoolHoliday              1017209 non-null  int64         \n",
            " 9   StoreType                  1017209 non-null  int64         \n",
            " 10  Assortment                 1017209 non-null  int64         \n",
            " 11  CompetitionDistance        1017209 non-null  float64       \n",
            " 12  CompetitionOpenSinceMonth  693861 non-null   float64       \n",
            " 13  CompetitionOpenSinceYear   693861 non-null   float64       \n",
            " 14  Promo2                     1017209 non-null  int64         \n",
            " 15  Promo2SinceWeek            509178 non-null   float64       \n",
            " 16  Promo2SinceYear            509178 non-null   float64       \n",
            " 17  PromoInterval              509178 non-null   object        \n",
            " 18  Year                       1017209 non-null  int64         \n",
            " 19  Month                      1017209 non-null  int64         \n",
            " 20  Day                        1017209 non-null  int64         \n",
            "dtypes: datetime64[ns](1), float64(5), int64(14), object(1)\n",
            "memory usage: 203.0+ MB\n"
          ]
        }
      ]
    },
    {
      "cell_type": "code",
      "source": [
        " # Null value exists in open, fill with one, cuz stores would open except from holidays\n",
        "new_train['Open'] = new_train['Open'].fillna(1)\n",
        "new_train['Open'] = new_train['Open'].astype(int)\n",
        "\n",
        "\n",
        "new_test['Open'] = new_test['Open'].fillna(1)\n",
        "new_test['Open' ]= new_test['Open'].astype(int)"
      ],
      "metadata": {
        "papermill": {
          "duration": 0.048665,
          "end_time": "2022-11-30T11:54:21.205806",
          "exception": false,
          "start_time": "2022-11-30T11:54:21.157141",
          "status": "completed"
        },
        "tags": [],
        "execution": {
          "iopub.status.busy": "2022-12-09T16:49:40.626728Z",
          "iopub.execute_input": "2022-12-09T16:49:40.627501Z",
          "iopub.status.idle": "2022-12-09T16:49:40.648269Z",
          "shell.execute_reply.started": "2022-12-09T16:49:40.627439Z",
          "shell.execute_reply": "2022-12-09T16:49:40.647281Z"
        },
        "trusted": true,
        "id": "P0YpBqtZ-U5i"
      },
      "execution_count": 59,
      "outputs": []
    },
    {
      "cell_type": "code",
      "source": [
        " # fill nan with month 0, years in the far future\n",
        "new_train['CompetitionOpenSinceMonth'].fillna(1, inplace=True)\n",
        "new_train['CompetitionOpenSinceYear'].fillna(2100, inplace=True)\n",
        "\n",
        "new_train['Promo2SinceWeek'].fillna(1, inplace=True)\n",
        "new_train['Promo2SinceYear'].fillna(2100, inplace=True)\n",
        "new_train['PromoInterval'].fillna(0, inplace=True)\n",
        "\n",
        "new_test['CompetitionOpenSinceMonth'].fillna(1, inplace=True)\n",
        "new_test['CompetitionOpenSinceYear'].fillna(2100, inplace=True)\n",
        "\n",
        "new_test['Promo2SinceWeek'].fillna(1, inplace=True)\n",
        "new_test['Promo2SinceYear'].fillna(2100, inplace=True)\n",
        "new_test['PromoInterval'].fillna(0, inplace=True)"
      ],
      "metadata": {
        "papermill": {
          "duration": 0.034866,
          "end_time": "2022-11-30T11:54:21.248878",
          "exception": false,
          "start_time": "2022-11-30T11:54:21.214012",
          "status": "completed"
        },
        "tags": [],
        "execution": {
          "iopub.status.busy": "2022-12-09T16:49:40.649453Z",
          "iopub.execute_input": "2022-12-09T16:49:40.649890Z",
          "iopub.status.idle": "2022-12-09T16:49:40.721022Z",
          "shell.execute_reply.started": "2022-12-09T16:49:40.649857Z",
          "shell.execute_reply": "2022-12-09T16:49:40.719872Z"
        },
        "trusted": true,
        "id": "38tztyxV-U5i"
      },
      "execution_count": 60,
      "outputs": []
    },
    {
      "cell_type": "code",
      "source": [
        " # combine competition month and year and promo week year to form days\n",
        "new_train['CompetitionDays'] = 365 * (new_train['Year'] - new_train['CompetitionOpenSinceYear']) + new_train['Month'] - new_train['CompetitionOpenSinceMonth']\n",
        "\n",
        "new_train['PromoOpenDays'] = 365 * (new_train['Year'] - new_train['Promo2SinceYear']) + ((new_train['Day'] - 7 * new_train['Promo2SinceWeek']))\n",
        "\n",
        "new_test['CompetitionDays'] = 365 * (new_test['Year'] - new_test['CompetitionOpenSinceYear']) + new_test['Month'] - new_test['CompetitionOpenSinceMonth']\n",
        "\n",
        "new_test['PromoOpenDays'] = 365 * (new_test['Year'] - new_test['Promo2SinceYear']) + ((new_test['Day'] - 7 * new_test['Promo2SinceWeek']))"
      ],
      "metadata": {
        "papermill": {
          "duration": 0.114602,
          "end_time": "2022-11-30T11:54:21.371947",
          "exception": false,
          "start_time": "2022-11-30T11:54:21.257345",
          "status": "completed"
        },
        "tags": [],
        "execution": {
          "iopub.status.busy": "2022-12-09T16:49:40.723000Z",
          "iopub.execute_input": "2022-12-09T16:49:40.723386Z",
          "iopub.status.idle": "2022-12-09T16:49:40.758243Z",
          "shell.execute_reply.started": "2022-12-09T16:49:40.723354Z",
          "shell.execute_reply": "2022-12-09T16:49:40.757103Z"
        },
        "trusted": true,
        "id": "Xg5iw0po-U5j"
      },
      "execution_count": 61,
      "outputs": []
    },
    {
      "cell_type": "code",
      "source": [
        "new_train.drop(columns = ['CompetitionOpenSinceMonth'], inplace = True)\n",
        "new_train.drop(columns =['CompetitionOpenSinceYear'], inplace = True)\n",
        "new_train.drop(columns =['Promo2SinceWeek'], inplace = True)\n",
        "new_train.drop(columns =['Promo2SinceYear'], inplace = True)\n",
        "new_train.drop(columns =['Date'], inplace = True)"
      ],
      "metadata": {
        "execution": {
          "iopub.status.busy": "2022-12-09T16:49:40.759716Z",
          "iopub.execute_input": "2022-12-09T16:49:40.760130Z",
          "iopub.status.idle": "2022-12-09T16:49:41.109261Z",
          "shell.execute_reply.started": "2022-12-09T16:49:40.760099Z",
          "shell.execute_reply": "2022-12-09T16:49:41.108001Z"
        },
        "trusted": true,
        "id": "-cuae5To-U5j"
      },
      "execution_count": 62,
      "outputs": []
    },
    {
      "cell_type": "code",
      "source": [
        "new_train = new_train.query('Open==1')\n",
        "new_test = new_test.query('Open==1')"
      ],
      "metadata": {
        "execution": {
          "iopub.status.busy": "2022-12-09T16:49:41.110681Z",
          "iopub.execute_input": "2022-12-09T16:49:41.111014Z",
          "iopub.status.idle": "2022-12-09T16:49:41.225778Z",
          "shell.execute_reply.started": "2022-12-09T16:49:41.110985Z",
          "shell.execute_reply": "2022-12-09T16:49:41.224508Z"
        },
        "trusted": true,
        "id": "C08jlQBS-U5j"
      },
      "execution_count": 63,
      "outputs": []
    },
    {
      "cell_type": "code",
      "source": [
        "# dropping customers\n",
        "new_train.drop(columns=['Customers'],inplace = True)\n"
      ],
      "metadata": {
        "execution": {
          "iopub.status.busy": "2022-12-09T16:49:41.227891Z",
          "iopub.execute_input": "2022-12-09T16:49:41.228414Z",
          "iopub.status.idle": "2022-12-09T16:49:41.284870Z",
          "shell.execute_reply.started": "2022-12-09T16:49:41.228371Z",
          "shell.execute_reply": "2022-12-09T16:49:41.283482Z"
        },
        "trusted": true,
        "id": "4cKoHAA0-U5k",
        "colab": {
          "base_uri": "https://localhost:8080/"
        },
        "outputId": "1c6df1d3-04df-4cdf-a4ca-3f35c1358b9c"
      },
      "execution_count": 64,
      "outputs": [
        {
          "output_type": "stream",
          "name": "stderr",
          "text": [
            "/usr/local/lib/python3.8/dist-packages/pandas/core/frame.py:4906: SettingWithCopyWarning: \n",
            "A value is trying to be set on a copy of a slice from a DataFrame\n",
            "\n",
            "See the caveats in the documentation: https://pandas.pydata.org/pandas-docs/stable/user_guide/indexing.html#returning-a-view-versus-a-copy\n",
            "  return super().drop(\n"
          ]
        }
      ]
    },
    {
      "cell_type": "code",
      "source": [
        "new_test"
      ],
      "metadata": {
        "execution": {
          "iopub.status.busy": "2022-12-09T16:49:41.290421Z",
          "iopub.execute_input": "2022-12-09T16:49:41.290871Z",
          "iopub.status.idle": "2022-12-09T16:49:41.342846Z",
          "shell.execute_reply.started": "2022-12-09T16:49:41.290833Z",
          "shell.execute_reply": "2022-12-09T16:49:41.341587Z"
        },
        "trusted": true,
        "id": "HMQkhCA3-U5k",
        "outputId": "e06d3f0c-fcc2-4f66-f27a-faabe6f035ab",
        "colab": {
          "base_uri": "https://localhost:8080/",
          "height": 661
        }
      },
      "execution_count": 65,
      "outputs": [
        {
          "output_type": "execute_result",
          "data": {
            "text/plain": [
              "          Id  Store  DayOfWeek       Date  Open  Promo StateHoliday  \\\n",
              "0          1      1          4 2015-09-17     1      1            0   \n",
              "1        857      1          3 2015-09-16     1      1            0   \n",
              "2       1713      1          2 2015-09-15     1      1            0   \n",
              "3       2569      1          1 2015-09-14     1      1            0   \n",
              "5       4281      1          6 2015-09-12     1      0            0   \n",
              "...      ...    ...        ...        ...   ...    ...          ...   \n",
              "41082  36808   1115          4 2015-08-06     1      1            0   \n",
              "41083  37664   1115          3 2015-08-05     1      1            0   \n",
              "41084  38520   1115          2 2015-08-04     1      1            0   \n",
              "41085  39376   1115          1 2015-08-03     1      1            0   \n",
              "41087  41088   1115          6 2015-08-01     1      0            0   \n",
              "\n",
              "       SchoolHoliday  StoreType  Assortment  ...  CompetitionOpenSinceYear  \\\n",
              "0                  0          2           0  ...                    2008.0   \n",
              "1                  0          2           0  ...                    2008.0   \n",
              "2                  0          2           0  ...                    2008.0   \n",
              "3                  0          2           0  ...                    2008.0   \n",
              "5                  0          2           0  ...                    2008.0   \n",
              "...              ...        ...         ...  ...                       ...   \n",
              "41082              1          3           2  ...                    2100.0   \n",
              "41083              1          3           2  ...                    2100.0   \n",
              "41084              1          3           2  ...                    2100.0   \n",
              "41085              1          3           2  ...                    2100.0   \n",
              "41087              1          3           2  ...                    2100.0   \n",
              "\n",
              "       Promo2  Promo2SinceWeek  Promo2SinceYear     PromoInterval  Year Month  \\\n",
              "0           0              1.0           2100.0                 0  2015     9   \n",
              "1           0              1.0           2100.0                 0  2015     9   \n",
              "2           0              1.0           2100.0                 0  2015     9   \n",
              "3           0              1.0           2100.0                 0  2015     9   \n",
              "5           0              1.0           2100.0                 0  2015     9   \n",
              "...       ...              ...              ...               ...   ...   ...   \n",
              "41082       1             22.0           2012.0  Mar,Jun,Sept,Dec  2013     8   \n",
              "41083       1             22.0           2012.0  Mar,Jun,Sept,Dec  2013     8   \n",
              "41084       1             22.0           2012.0  Mar,Jun,Sept,Dec  2013     8   \n",
              "41085       1             22.0           2012.0  Mar,Jun,Sept,Dec  2013     8   \n",
              "41087       1             22.0           2012.0  Mar,Jun,Sept,Dec  2013     8   \n",
              "\n",
              "       Day  CompetitionDays  PromoOpenDays  \n",
              "0       17           2555.0       -31015.0  \n",
              "1       16           2555.0       -31016.0  \n",
              "2       15           2555.0       -31017.0  \n",
              "3       14           2555.0       -31018.0  \n",
              "5       12           2555.0       -31020.0  \n",
              "...    ...              ...            ...  \n",
              "41082    6         -31748.0          217.0  \n",
              "41083    5         -31748.0          216.0  \n",
              "41084    4         -31748.0          215.0  \n",
              "41085    3         -31748.0          214.0  \n",
              "41087    1         -31748.0          212.0  \n",
              "\n",
              "[35104 rows x 22 columns]"
            ],
            "text/html": [
              "\n",
              "  <div id=\"df-253e144d-4fe0-4e76-bac3-875aa6873393\">\n",
              "    <div class=\"colab-df-container\">\n",
              "      <div>\n",
              "<style scoped>\n",
              "    .dataframe tbody tr th:only-of-type {\n",
              "        vertical-align: middle;\n",
              "    }\n",
              "\n",
              "    .dataframe tbody tr th {\n",
              "        vertical-align: top;\n",
              "    }\n",
              "\n",
              "    .dataframe thead th {\n",
              "        text-align: right;\n",
              "    }\n",
              "</style>\n",
              "<table border=\"1\" class=\"dataframe\">\n",
              "  <thead>\n",
              "    <tr style=\"text-align: right;\">\n",
              "      <th></th>\n",
              "      <th>Id</th>\n",
              "      <th>Store</th>\n",
              "      <th>DayOfWeek</th>\n",
              "      <th>Date</th>\n",
              "      <th>Open</th>\n",
              "      <th>Promo</th>\n",
              "      <th>StateHoliday</th>\n",
              "      <th>SchoolHoliday</th>\n",
              "      <th>StoreType</th>\n",
              "      <th>Assortment</th>\n",
              "      <th>...</th>\n",
              "      <th>CompetitionOpenSinceYear</th>\n",
              "      <th>Promo2</th>\n",
              "      <th>Promo2SinceWeek</th>\n",
              "      <th>Promo2SinceYear</th>\n",
              "      <th>PromoInterval</th>\n",
              "      <th>Year</th>\n",
              "      <th>Month</th>\n",
              "      <th>Day</th>\n",
              "      <th>CompetitionDays</th>\n",
              "      <th>PromoOpenDays</th>\n",
              "    </tr>\n",
              "  </thead>\n",
              "  <tbody>\n",
              "    <tr>\n",
              "      <th>0</th>\n",
              "      <td>1</td>\n",
              "      <td>1</td>\n",
              "      <td>4</td>\n",
              "      <td>2015-09-17</td>\n",
              "      <td>1</td>\n",
              "      <td>1</td>\n",
              "      <td>0</td>\n",
              "      <td>0</td>\n",
              "      <td>2</td>\n",
              "      <td>0</td>\n",
              "      <td>...</td>\n",
              "      <td>2008.0</td>\n",
              "      <td>0</td>\n",
              "      <td>1.0</td>\n",
              "      <td>2100.0</td>\n",
              "      <td>0</td>\n",
              "      <td>2015</td>\n",
              "      <td>9</td>\n",
              "      <td>17</td>\n",
              "      <td>2555.0</td>\n",
              "      <td>-31015.0</td>\n",
              "    </tr>\n",
              "    <tr>\n",
              "      <th>1</th>\n",
              "      <td>857</td>\n",
              "      <td>1</td>\n",
              "      <td>3</td>\n",
              "      <td>2015-09-16</td>\n",
              "      <td>1</td>\n",
              "      <td>1</td>\n",
              "      <td>0</td>\n",
              "      <td>0</td>\n",
              "      <td>2</td>\n",
              "      <td>0</td>\n",
              "      <td>...</td>\n",
              "      <td>2008.0</td>\n",
              "      <td>0</td>\n",
              "      <td>1.0</td>\n",
              "      <td>2100.0</td>\n",
              "      <td>0</td>\n",
              "      <td>2015</td>\n",
              "      <td>9</td>\n",
              "      <td>16</td>\n",
              "      <td>2555.0</td>\n",
              "      <td>-31016.0</td>\n",
              "    </tr>\n",
              "    <tr>\n",
              "      <th>2</th>\n",
              "      <td>1713</td>\n",
              "      <td>1</td>\n",
              "      <td>2</td>\n",
              "      <td>2015-09-15</td>\n",
              "      <td>1</td>\n",
              "      <td>1</td>\n",
              "      <td>0</td>\n",
              "      <td>0</td>\n",
              "      <td>2</td>\n",
              "      <td>0</td>\n",
              "      <td>...</td>\n",
              "      <td>2008.0</td>\n",
              "      <td>0</td>\n",
              "      <td>1.0</td>\n",
              "      <td>2100.0</td>\n",
              "      <td>0</td>\n",
              "      <td>2015</td>\n",
              "      <td>9</td>\n",
              "      <td>15</td>\n",
              "      <td>2555.0</td>\n",
              "      <td>-31017.0</td>\n",
              "    </tr>\n",
              "    <tr>\n",
              "      <th>3</th>\n",
              "      <td>2569</td>\n",
              "      <td>1</td>\n",
              "      <td>1</td>\n",
              "      <td>2015-09-14</td>\n",
              "      <td>1</td>\n",
              "      <td>1</td>\n",
              "      <td>0</td>\n",
              "      <td>0</td>\n",
              "      <td>2</td>\n",
              "      <td>0</td>\n",
              "      <td>...</td>\n",
              "      <td>2008.0</td>\n",
              "      <td>0</td>\n",
              "      <td>1.0</td>\n",
              "      <td>2100.0</td>\n",
              "      <td>0</td>\n",
              "      <td>2015</td>\n",
              "      <td>9</td>\n",
              "      <td>14</td>\n",
              "      <td>2555.0</td>\n",
              "      <td>-31018.0</td>\n",
              "    </tr>\n",
              "    <tr>\n",
              "      <th>5</th>\n",
              "      <td>4281</td>\n",
              "      <td>1</td>\n",
              "      <td>6</td>\n",
              "      <td>2015-09-12</td>\n",
              "      <td>1</td>\n",
              "      <td>0</td>\n",
              "      <td>0</td>\n",
              "      <td>0</td>\n",
              "      <td>2</td>\n",
              "      <td>0</td>\n",
              "      <td>...</td>\n",
              "      <td>2008.0</td>\n",
              "      <td>0</td>\n",
              "      <td>1.0</td>\n",
              "      <td>2100.0</td>\n",
              "      <td>0</td>\n",
              "      <td>2015</td>\n",
              "      <td>9</td>\n",
              "      <td>12</td>\n",
              "      <td>2555.0</td>\n",
              "      <td>-31020.0</td>\n",
              "    </tr>\n",
              "    <tr>\n",
              "      <th>...</th>\n",
              "      <td>...</td>\n",
              "      <td>...</td>\n",
              "      <td>...</td>\n",
              "      <td>...</td>\n",
              "      <td>...</td>\n",
              "      <td>...</td>\n",
              "      <td>...</td>\n",
              "      <td>...</td>\n",
              "      <td>...</td>\n",
              "      <td>...</td>\n",
              "      <td>...</td>\n",
              "      <td>...</td>\n",
              "      <td>...</td>\n",
              "      <td>...</td>\n",
              "      <td>...</td>\n",
              "      <td>...</td>\n",
              "      <td>...</td>\n",
              "      <td>...</td>\n",
              "      <td>...</td>\n",
              "      <td>...</td>\n",
              "      <td>...</td>\n",
              "    </tr>\n",
              "    <tr>\n",
              "      <th>41082</th>\n",
              "      <td>36808</td>\n",
              "      <td>1115</td>\n",
              "      <td>4</td>\n",
              "      <td>2015-08-06</td>\n",
              "      <td>1</td>\n",
              "      <td>1</td>\n",
              "      <td>0</td>\n",
              "      <td>1</td>\n",
              "      <td>3</td>\n",
              "      <td>2</td>\n",
              "      <td>...</td>\n",
              "      <td>2100.0</td>\n",
              "      <td>1</td>\n",
              "      <td>22.0</td>\n",
              "      <td>2012.0</td>\n",
              "      <td>Mar,Jun,Sept,Dec</td>\n",
              "      <td>2013</td>\n",
              "      <td>8</td>\n",
              "      <td>6</td>\n",
              "      <td>-31748.0</td>\n",
              "      <td>217.0</td>\n",
              "    </tr>\n",
              "    <tr>\n",
              "      <th>41083</th>\n",
              "      <td>37664</td>\n",
              "      <td>1115</td>\n",
              "      <td>3</td>\n",
              "      <td>2015-08-05</td>\n",
              "      <td>1</td>\n",
              "      <td>1</td>\n",
              "      <td>0</td>\n",
              "      <td>1</td>\n",
              "      <td>3</td>\n",
              "      <td>2</td>\n",
              "      <td>...</td>\n",
              "      <td>2100.0</td>\n",
              "      <td>1</td>\n",
              "      <td>22.0</td>\n",
              "      <td>2012.0</td>\n",
              "      <td>Mar,Jun,Sept,Dec</td>\n",
              "      <td>2013</td>\n",
              "      <td>8</td>\n",
              "      <td>5</td>\n",
              "      <td>-31748.0</td>\n",
              "      <td>216.0</td>\n",
              "    </tr>\n",
              "    <tr>\n",
              "      <th>41084</th>\n",
              "      <td>38520</td>\n",
              "      <td>1115</td>\n",
              "      <td>2</td>\n",
              "      <td>2015-08-04</td>\n",
              "      <td>1</td>\n",
              "      <td>1</td>\n",
              "      <td>0</td>\n",
              "      <td>1</td>\n",
              "      <td>3</td>\n",
              "      <td>2</td>\n",
              "      <td>...</td>\n",
              "      <td>2100.0</td>\n",
              "      <td>1</td>\n",
              "      <td>22.0</td>\n",
              "      <td>2012.0</td>\n",
              "      <td>Mar,Jun,Sept,Dec</td>\n",
              "      <td>2013</td>\n",
              "      <td>8</td>\n",
              "      <td>4</td>\n",
              "      <td>-31748.0</td>\n",
              "      <td>215.0</td>\n",
              "    </tr>\n",
              "    <tr>\n",
              "      <th>41085</th>\n",
              "      <td>39376</td>\n",
              "      <td>1115</td>\n",
              "      <td>1</td>\n",
              "      <td>2015-08-03</td>\n",
              "      <td>1</td>\n",
              "      <td>1</td>\n",
              "      <td>0</td>\n",
              "      <td>1</td>\n",
              "      <td>3</td>\n",
              "      <td>2</td>\n",
              "      <td>...</td>\n",
              "      <td>2100.0</td>\n",
              "      <td>1</td>\n",
              "      <td>22.0</td>\n",
              "      <td>2012.0</td>\n",
              "      <td>Mar,Jun,Sept,Dec</td>\n",
              "      <td>2013</td>\n",
              "      <td>8</td>\n",
              "      <td>3</td>\n",
              "      <td>-31748.0</td>\n",
              "      <td>214.0</td>\n",
              "    </tr>\n",
              "    <tr>\n",
              "      <th>41087</th>\n",
              "      <td>41088</td>\n",
              "      <td>1115</td>\n",
              "      <td>6</td>\n",
              "      <td>2015-08-01</td>\n",
              "      <td>1</td>\n",
              "      <td>0</td>\n",
              "      <td>0</td>\n",
              "      <td>1</td>\n",
              "      <td>3</td>\n",
              "      <td>2</td>\n",
              "      <td>...</td>\n",
              "      <td>2100.0</td>\n",
              "      <td>1</td>\n",
              "      <td>22.0</td>\n",
              "      <td>2012.0</td>\n",
              "      <td>Mar,Jun,Sept,Dec</td>\n",
              "      <td>2013</td>\n",
              "      <td>8</td>\n",
              "      <td>1</td>\n",
              "      <td>-31748.0</td>\n",
              "      <td>212.0</td>\n",
              "    </tr>\n",
              "  </tbody>\n",
              "</table>\n",
              "<p>35104 rows × 22 columns</p>\n",
              "</div>\n",
              "      <button class=\"colab-df-convert\" onclick=\"convertToInteractive('df-253e144d-4fe0-4e76-bac3-875aa6873393')\"\n",
              "              title=\"Convert this dataframe to an interactive table.\"\n",
              "              style=\"display:none;\">\n",
              "        \n",
              "  <svg xmlns=\"http://www.w3.org/2000/svg\" height=\"24px\"viewBox=\"0 0 24 24\"\n",
              "       width=\"24px\">\n",
              "    <path d=\"M0 0h24v24H0V0z\" fill=\"none\"/>\n",
              "    <path d=\"M18.56 5.44l.94 2.06.94-2.06 2.06-.94-2.06-.94-.94-2.06-.94 2.06-2.06.94zm-11 1L8.5 8.5l.94-2.06 2.06-.94-2.06-.94L8.5 2.5l-.94 2.06-2.06.94zm10 10l.94 2.06.94-2.06 2.06-.94-2.06-.94-.94-2.06-.94 2.06-2.06.94z\"/><path d=\"M17.41 7.96l-1.37-1.37c-.4-.4-.92-.59-1.43-.59-.52 0-1.04.2-1.43.59L10.3 9.45l-7.72 7.72c-.78.78-.78 2.05 0 2.83L4 21.41c.39.39.9.59 1.41.59.51 0 1.02-.2 1.41-.59l7.78-7.78 2.81-2.81c.8-.78.8-2.07 0-2.86zM5.41 20L4 18.59l7.72-7.72 1.47 1.35L5.41 20z\"/>\n",
              "  </svg>\n",
              "      </button>\n",
              "      \n",
              "  <style>\n",
              "    .colab-df-container {\n",
              "      display:flex;\n",
              "      flex-wrap:wrap;\n",
              "      gap: 12px;\n",
              "    }\n",
              "\n",
              "    .colab-df-convert {\n",
              "      background-color: #E8F0FE;\n",
              "      border: none;\n",
              "      border-radius: 50%;\n",
              "      cursor: pointer;\n",
              "      display: none;\n",
              "      fill: #1967D2;\n",
              "      height: 32px;\n",
              "      padding: 0 0 0 0;\n",
              "      width: 32px;\n",
              "    }\n",
              "\n",
              "    .colab-df-convert:hover {\n",
              "      background-color: #E2EBFA;\n",
              "      box-shadow: 0px 1px 2px rgba(60, 64, 67, 0.3), 0px 1px 3px 1px rgba(60, 64, 67, 0.15);\n",
              "      fill: #174EA6;\n",
              "    }\n",
              "\n",
              "    [theme=dark] .colab-df-convert {\n",
              "      background-color: #3B4455;\n",
              "      fill: #D2E3FC;\n",
              "    }\n",
              "\n",
              "    [theme=dark] .colab-df-convert:hover {\n",
              "      background-color: #434B5C;\n",
              "      box-shadow: 0px 1px 3px 1px rgba(0, 0, 0, 0.15);\n",
              "      filter: drop-shadow(0px 1px 2px rgba(0, 0, 0, 0.3));\n",
              "      fill: #FFFFFF;\n",
              "    }\n",
              "  </style>\n",
              "\n",
              "      <script>\n",
              "        const buttonEl =\n",
              "          document.querySelector('#df-253e144d-4fe0-4e76-bac3-875aa6873393 button.colab-df-convert');\n",
              "        buttonEl.style.display =\n",
              "          google.colab.kernel.accessAllowed ? 'block' : 'none';\n",
              "\n",
              "        async function convertToInteractive(key) {\n",
              "          const element = document.querySelector('#df-253e144d-4fe0-4e76-bac3-875aa6873393');\n",
              "          const dataTable =\n",
              "            await google.colab.kernel.invokeFunction('convertToInteractive',\n",
              "                                                     [key], {});\n",
              "          if (!dataTable) return;\n",
              "\n",
              "          const docLinkHtml = 'Like what you see? Visit the ' +\n",
              "            '<a target=\"_blank\" href=https://colab.research.google.com/notebooks/data_table.ipynb>data table notebook</a>'\n",
              "            + ' to learn more about interactive tables.';\n",
              "          element.innerHTML = '';\n",
              "          dataTable['output_type'] = 'display_data';\n",
              "          await google.colab.output.renderOutput(dataTable, element);\n",
              "          const docLink = document.createElement('div');\n",
              "          docLink.innerHTML = docLinkHtml;\n",
              "          element.appendChild(docLink);\n",
              "        }\n",
              "      </script>\n",
              "    </div>\n",
              "  </div>\n",
              "  "
            ]
          },
          "metadata": {},
          "execution_count": 65
        }
      ]
    },
    {
      "cell_type": "code",
      "source": [
        "new_train.dtypes"
      ],
      "metadata": {
        "execution": {
          "iopub.status.busy": "2022-12-09T16:49:41.344162Z",
          "iopub.execute_input": "2022-12-09T16:49:41.344524Z",
          "iopub.status.idle": "2022-12-09T16:49:41.353656Z",
          "shell.execute_reply.started": "2022-12-09T16:49:41.344462Z",
          "shell.execute_reply": "2022-12-09T16:49:41.352405Z"
        },
        "trusted": true,
        "id": "mXM4o6uQ-U5k",
        "outputId": "669a634c-7284-4917-974e-78c66f773a25",
        "colab": {
          "base_uri": "https://localhost:8080/"
        }
      },
      "execution_count": 66,
      "outputs": [
        {
          "output_type": "execute_result",
          "data": {
            "text/plain": [
              "Store                    int64\n",
              "DayOfWeek                int64\n",
              "Sales                    int64\n",
              "Open                     int64\n",
              "Promo                    int64\n",
              "StateHoliday             int64\n",
              "SchoolHoliday            int64\n",
              "StoreType                int64\n",
              "Assortment               int64\n",
              "CompetitionDistance    float64\n",
              "Promo2                   int64\n",
              "PromoInterval           object\n",
              "Year                     int64\n",
              "Month                    int64\n",
              "Day                      int64\n",
              "CompetitionDays        float64\n",
              "PromoOpenDays          float64\n",
              "dtype: object"
            ]
          },
          "metadata": {},
          "execution_count": 66
        }
      ]
    },
    {
      "cell_type": "code",
      "source": [
        "new_train = pd.get_dummies(new_train, columns = ['PromoInterval'])\n",
        "new_test = pd.get_dummies(new_test, columns = ['PromoInterval'])"
      ],
      "metadata": {
        "execution": {
          "iopub.status.busy": "2022-12-09T16:49:41.355154Z",
          "iopub.execute_input": "2022-12-09T16:49:41.355537Z",
          "iopub.status.idle": "2022-12-09T16:49:41.507138Z",
          "shell.execute_reply.started": "2022-12-09T16:49:41.355497Z",
          "shell.execute_reply": "2022-12-09T16:49:41.505791Z"
        },
        "trusted": true,
        "id": "xvjsUZgt-U5k"
      },
      "execution_count": 67,
      "outputs": []
    },
    {
      "cell_type": "code",
      "source": [
        "new_train.dtypes"
      ],
      "metadata": {
        "execution": {
          "iopub.status.busy": "2022-12-09T16:49:41.508617Z",
          "iopub.execute_input": "2022-12-09T16:49:41.508951Z",
          "iopub.status.idle": "2022-12-09T16:49:41.517990Z",
          "shell.execute_reply.started": "2022-12-09T16:49:41.508919Z",
          "shell.execute_reply": "2022-12-09T16:49:41.516698Z"
        },
        "trusted": true,
        "id": "Oj9H27MQ-U5l",
        "outputId": "cfbd78b0-d365-4b89-f5d7-6fc447245d76",
        "colab": {
          "base_uri": "https://localhost:8080/"
        }
      },
      "execution_count": 68,
      "outputs": [
        {
          "output_type": "execute_result",
          "data": {
            "text/plain": [
              "Store                               int64\n",
              "DayOfWeek                           int64\n",
              "Sales                               int64\n",
              "Open                                int64\n",
              "Promo                               int64\n",
              "StateHoliday                        int64\n",
              "SchoolHoliday                       int64\n",
              "StoreType                           int64\n",
              "Assortment                          int64\n",
              "CompetitionDistance               float64\n",
              "Promo2                              int64\n",
              "Year                                int64\n",
              "Month                               int64\n",
              "Day                                 int64\n",
              "CompetitionDays                   float64\n",
              "PromoOpenDays                     float64\n",
              "PromoInterval_0                     uint8\n",
              "PromoInterval_Feb,May,Aug,Nov       uint8\n",
              "PromoInterval_Jan,Apr,Jul,Oct       uint8\n",
              "PromoInterval_Mar,Jun,Sept,Dec      uint8\n",
              "dtype: object"
            ]
          },
          "metadata": {},
          "execution_count": 68
        }
      ]
    },
    {
      "cell_type": "code",
      "source": [
        "x = new_train.drop([\"Sales\"], axis = 1)\n",
        "y = new_train[\"Sales\"]"
      ],
      "metadata": {
        "papermill": {
          "duration": 0.044744,
          "end_time": "2022-11-30T11:54:21.425268",
          "exception": false,
          "start_time": "2022-11-30T11:54:21.380524",
          "status": "completed"
        },
        "tags": [],
        "execution": {
          "iopub.status.busy": "2022-12-09T16:49:41.519251Z",
          "iopub.execute_input": "2022-12-09T16:49:41.519571Z",
          "iopub.status.idle": "2022-12-09T16:49:41.636319Z",
          "shell.execute_reply.started": "2022-12-09T16:49:41.519543Z",
          "shell.execute_reply": "2022-12-09T16:49:41.635125Z"
        },
        "trusted": true,
        "id": "Pl8cELXu-U5l"
      },
      "execution_count": 69,
      "outputs": []
    },
    {
      "cell_type": "code",
      "source": [
        "x = x.to_numpy()\n",
        "y = y.to_numpy()"
      ],
      "metadata": {
        "papermill": {
          "duration": 0.048676,
          "end_time": "2022-11-30T11:54:21.562668",
          "exception": false,
          "start_time": "2022-11-30T11:54:21.513992",
          "status": "completed"
        },
        "tags": [],
        "execution": {
          "iopub.status.busy": "2022-12-09T16:49:41.638054Z",
          "iopub.execute_input": "2022-12-09T16:49:41.638460Z",
          "iopub.status.idle": "2022-12-09T16:49:41.684596Z",
          "shell.execute_reply.started": "2022-12-09T16:49:41.638427Z",
          "shell.execute_reply": "2022-12-09T16:49:41.683564Z"
        },
        "trusted": true,
        "id": "pgxTmsPs-U5l"
      },
      "execution_count": 70,
      "outputs": []
    },
    {
      "cell_type": "code",
      "source": [
        "len(x[0])"
      ],
      "metadata": {
        "papermill": {
          "duration": 0.019411,
          "end_time": "2022-11-30T11:54:21.591386",
          "exception": false,
          "start_time": "2022-11-30T11:54:21.571975",
          "status": "completed"
        },
        "tags": [],
        "execution": {
          "iopub.status.busy": "2022-12-09T16:49:41.686205Z",
          "iopub.execute_input": "2022-12-09T16:49:41.686698Z",
          "iopub.status.idle": "2022-12-09T16:49:41.695791Z",
          "shell.execute_reply.started": "2022-12-09T16:49:41.686665Z",
          "shell.execute_reply": "2022-12-09T16:49:41.694583Z"
        },
        "trusted": true,
        "id": "OMf7mY2q-U5l",
        "outputId": "821d564b-810a-4879-96e1-979a6a19fbef",
        "colab": {
          "base_uri": "https://localhost:8080/"
        }
      },
      "execution_count": 71,
      "outputs": [
        {
          "output_type": "execute_result",
          "data": {
            "text/plain": [
              "19"
            ]
          },
          "metadata": {},
          "execution_count": 71
        }
      ]
    },
    {
      "cell_type": "code",
      "source": [
        "cleanup3 = {\"StateHoliday\": {\"a\":0, \"b\":1, \"c\":2}}\n",
        "new_test.replace(cleanup3, inplace=True)\n",
        "new_test['StateHoliday'] = new_test['StateHoliday'].astype(int)"
      ],
      "metadata": {
        "execution": {
          "iopub.status.busy": "2022-12-09T16:49:58.111717Z",
          "iopub.execute_input": "2022-12-09T16:49:58.112081Z",
          "iopub.status.idle": "2022-12-09T16:49:58.131952Z",
          "shell.execute_reply.started": "2022-12-09T16:49:58.112049Z",
          "shell.execute_reply": "2022-12-09T16:49:58.130647Z"
        },
        "trusted": true,
        "id": "lodcw-5D-U5o"
      },
      "execution_count": 72,
      "outputs": []
    },
    {
      "cell_type": "code",
      "source": [
        "change_days = new_train['CompetitionDays']\n",
        "change_days=list(change_days)\n",
        "for i in range(len(change_days)):\n",
        "    if change_days[i]<0:\n",
        "        change_days[i]=0\n",
        "new_train['CompetitionDays']=change_days\n",
        "changepromo = new_train['PromoOpenDays']\n",
        "changepromo=list(changepromo)\n",
        "for i in range(len(changepromo)):\n",
        "    if changepromo[i]<0:\n",
        "        changepromo[i]=0\n",
        "new_train['PromoOpenDays']=changepromo\n",
        "new_train"
      ],
      "metadata": {
        "execution": {
          "iopub.status.busy": "2022-12-09T16:58:21.481530Z",
          "iopub.execute_input": "2022-12-09T16:58:21.482012Z",
          "iopub.status.idle": "2022-12-09T16:58:22.236844Z",
          "shell.execute_reply.started": "2022-12-09T16:58:21.481961Z",
          "shell.execute_reply": "2022-12-09T16:58:22.235916Z"
        },
        "trusted": true,
        "id": "yd5nqGVN-U5p",
        "outputId": "829c198a-9f01-4dc3-de3a-5416d0644657",
        "colab": {
          "base_uri": "https://localhost:8080/",
          "height": 488
        }
      },
      "execution_count": 73,
      "outputs": [
        {
          "output_type": "execute_result",
          "data": {
            "text/plain": [
              "         Store  DayOfWeek  Sales  Open  Promo  StateHoliday  SchoolHoliday  \\\n",
              "0            1          5   5263     1      1             0              1   \n",
              "1            1          4   5020     1      1             0              1   \n",
              "2            1          3   4782     1      1             0              1   \n",
              "3            1          2   5011     1      1             0              1   \n",
              "4            1          1   6102     1      1             0              1   \n",
              "...        ...        ...    ...   ...    ...           ...            ...   \n",
              "1017202   1115          1   6905     1      1             0              1   \n",
              "1017204   1115          6   4771     1      0             0              1   \n",
              "1017205   1115          5   4540     1      0             0              1   \n",
              "1017206   1115          4   4297     1      0             0              1   \n",
              "1017207   1115          3   3697     1      0             0              1   \n",
              "\n",
              "         StoreType  Assortment  CompetitionDistance  Promo2  Year  Month  Day  \\\n",
              "0                2           0               1270.0       0  2015      7   31   \n",
              "1                2           0               1270.0       0  2015      7   30   \n",
              "2                2           0               1270.0       0  2015      7   29   \n",
              "3                2           0               1270.0       0  2015      7   28   \n",
              "4                2           0               1270.0       0  2015      7   27   \n",
              "...            ...         ...                  ...     ...   ...    ...  ...   \n",
              "1017202          3           2               5350.0       1  2013      1    7   \n",
              "1017204          3           2               5350.0       1  2013      1    5   \n",
              "1017205          3           2               5350.0       1  2013      1    4   \n",
              "1017206          3           2               5350.0       1  2013      1    3   \n",
              "1017207          3           2               5350.0       1  2013      1    2   \n",
              "\n",
              "         CompetitionDays  PromoOpenDays  PromoInterval_0  \\\n",
              "0                 2553.0            0.0                1   \n",
              "1                 2553.0            0.0                1   \n",
              "2                 2553.0            0.0                1   \n",
              "3                 2553.0            0.0                1   \n",
              "4                 2553.0            0.0                1   \n",
              "...                  ...            ...              ...   \n",
              "1017202              0.0          218.0                0   \n",
              "1017204              0.0          216.0                0   \n",
              "1017205              0.0          215.0                0   \n",
              "1017206              0.0          214.0                0   \n",
              "1017207              0.0          213.0                0   \n",
              "\n",
              "         PromoInterval_Feb,May,Aug,Nov  PromoInterval_Jan,Apr,Jul,Oct  \\\n",
              "0                                    0                              0   \n",
              "1                                    0                              0   \n",
              "2                                    0                              0   \n",
              "3                                    0                              0   \n",
              "4                                    0                              0   \n",
              "...                                ...                            ...   \n",
              "1017202                              0                              0   \n",
              "1017204                              0                              0   \n",
              "1017205                              0                              0   \n",
              "1017206                              0                              0   \n",
              "1017207                              0                              0   \n",
              "\n",
              "         PromoInterval_Mar,Jun,Sept,Dec  \n",
              "0                                     0  \n",
              "1                                     0  \n",
              "2                                     0  \n",
              "3                                     0  \n",
              "4                                     0  \n",
              "...                                 ...  \n",
              "1017202                               1  \n",
              "1017204                               1  \n",
              "1017205                               1  \n",
              "1017206                               1  \n",
              "1017207                               1  \n",
              "\n",
              "[844392 rows x 20 columns]"
            ],
            "text/html": [
              "\n",
              "  <div id=\"df-f45bd0d2-eb45-4646-8df3-e76d3768b5c6\">\n",
              "    <div class=\"colab-df-container\">\n",
              "      <div>\n",
              "<style scoped>\n",
              "    .dataframe tbody tr th:only-of-type {\n",
              "        vertical-align: middle;\n",
              "    }\n",
              "\n",
              "    .dataframe tbody tr th {\n",
              "        vertical-align: top;\n",
              "    }\n",
              "\n",
              "    .dataframe thead th {\n",
              "        text-align: right;\n",
              "    }\n",
              "</style>\n",
              "<table border=\"1\" class=\"dataframe\">\n",
              "  <thead>\n",
              "    <tr style=\"text-align: right;\">\n",
              "      <th></th>\n",
              "      <th>Store</th>\n",
              "      <th>DayOfWeek</th>\n",
              "      <th>Sales</th>\n",
              "      <th>Open</th>\n",
              "      <th>Promo</th>\n",
              "      <th>StateHoliday</th>\n",
              "      <th>SchoolHoliday</th>\n",
              "      <th>StoreType</th>\n",
              "      <th>Assortment</th>\n",
              "      <th>CompetitionDistance</th>\n",
              "      <th>Promo2</th>\n",
              "      <th>Year</th>\n",
              "      <th>Month</th>\n",
              "      <th>Day</th>\n",
              "      <th>CompetitionDays</th>\n",
              "      <th>PromoOpenDays</th>\n",
              "      <th>PromoInterval_0</th>\n",
              "      <th>PromoInterval_Feb,May,Aug,Nov</th>\n",
              "      <th>PromoInterval_Jan,Apr,Jul,Oct</th>\n",
              "      <th>PromoInterval_Mar,Jun,Sept,Dec</th>\n",
              "    </tr>\n",
              "  </thead>\n",
              "  <tbody>\n",
              "    <tr>\n",
              "      <th>0</th>\n",
              "      <td>1</td>\n",
              "      <td>5</td>\n",
              "      <td>5263</td>\n",
              "      <td>1</td>\n",
              "      <td>1</td>\n",
              "      <td>0</td>\n",
              "      <td>1</td>\n",
              "      <td>2</td>\n",
              "      <td>0</td>\n",
              "      <td>1270.0</td>\n",
              "      <td>0</td>\n",
              "      <td>2015</td>\n",
              "      <td>7</td>\n",
              "      <td>31</td>\n",
              "      <td>2553.0</td>\n",
              "      <td>0.0</td>\n",
              "      <td>1</td>\n",
              "      <td>0</td>\n",
              "      <td>0</td>\n",
              "      <td>0</td>\n",
              "    </tr>\n",
              "    <tr>\n",
              "      <th>1</th>\n",
              "      <td>1</td>\n",
              "      <td>4</td>\n",
              "      <td>5020</td>\n",
              "      <td>1</td>\n",
              "      <td>1</td>\n",
              "      <td>0</td>\n",
              "      <td>1</td>\n",
              "      <td>2</td>\n",
              "      <td>0</td>\n",
              "      <td>1270.0</td>\n",
              "      <td>0</td>\n",
              "      <td>2015</td>\n",
              "      <td>7</td>\n",
              "      <td>30</td>\n",
              "      <td>2553.0</td>\n",
              "      <td>0.0</td>\n",
              "      <td>1</td>\n",
              "      <td>0</td>\n",
              "      <td>0</td>\n",
              "      <td>0</td>\n",
              "    </tr>\n",
              "    <tr>\n",
              "      <th>2</th>\n",
              "      <td>1</td>\n",
              "      <td>3</td>\n",
              "      <td>4782</td>\n",
              "      <td>1</td>\n",
              "      <td>1</td>\n",
              "      <td>0</td>\n",
              "      <td>1</td>\n",
              "      <td>2</td>\n",
              "      <td>0</td>\n",
              "      <td>1270.0</td>\n",
              "      <td>0</td>\n",
              "      <td>2015</td>\n",
              "      <td>7</td>\n",
              "      <td>29</td>\n",
              "      <td>2553.0</td>\n",
              "      <td>0.0</td>\n",
              "      <td>1</td>\n",
              "      <td>0</td>\n",
              "      <td>0</td>\n",
              "      <td>0</td>\n",
              "    </tr>\n",
              "    <tr>\n",
              "      <th>3</th>\n",
              "      <td>1</td>\n",
              "      <td>2</td>\n",
              "      <td>5011</td>\n",
              "      <td>1</td>\n",
              "      <td>1</td>\n",
              "      <td>0</td>\n",
              "      <td>1</td>\n",
              "      <td>2</td>\n",
              "      <td>0</td>\n",
              "      <td>1270.0</td>\n",
              "      <td>0</td>\n",
              "      <td>2015</td>\n",
              "      <td>7</td>\n",
              "      <td>28</td>\n",
              "      <td>2553.0</td>\n",
              "      <td>0.0</td>\n",
              "      <td>1</td>\n",
              "      <td>0</td>\n",
              "      <td>0</td>\n",
              "      <td>0</td>\n",
              "    </tr>\n",
              "    <tr>\n",
              "      <th>4</th>\n",
              "      <td>1</td>\n",
              "      <td>1</td>\n",
              "      <td>6102</td>\n",
              "      <td>1</td>\n",
              "      <td>1</td>\n",
              "      <td>0</td>\n",
              "      <td>1</td>\n",
              "      <td>2</td>\n",
              "      <td>0</td>\n",
              "      <td>1270.0</td>\n",
              "      <td>0</td>\n",
              "      <td>2015</td>\n",
              "      <td>7</td>\n",
              "      <td>27</td>\n",
              "      <td>2553.0</td>\n",
              "      <td>0.0</td>\n",
              "      <td>1</td>\n",
              "      <td>0</td>\n",
              "      <td>0</td>\n",
              "      <td>0</td>\n",
              "    </tr>\n",
              "    <tr>\n",
              "      <th>...</th>\n",
              "      <td>...</td>\n",
              "      <td>...</td>\n",
              "      <td>...</td>\n",
              "      <td>...</td>\n",
              "      <td>...</td>\n",
              "      <td>...</td>\n",
              "      <td>...</td>\n",
              "      <td>...</td>\n",
              "      <td>...</td>\n",
              "      <td>...</td>\n",
              "      <td>...</td>\n",
              "      <td>...</td>\n",
              "      <td>...</td>\n",
              "      <td>...</td>\n",
              "      <td>...</td>\n",
              "      <td>...</td>\n",
              "      <td>...</td>\n",
              "      <td>...</td>\n",
              "      <td>...</td>\n",
              "      <td>...</td>\n",
              "    </tr>\n",
              "    <tr>\n",
              "      <th>1017202</th>\n",
              "      <td>1115</td>\n",
              "      <td>1</td>\n",
              "      <td>6905</td>\n",
              "      <td>1</td>\n",
              "      <td>1</td>\n",
              "      <td>0</td>\n",
              "      <td>1</td>\n",
              "      <td>3</td>\n",
              "      <td>2</td>\n",
              "      <td>5350.0</td>\n",
              "      <td>1</td>\n",
              "      <td>2013</td>\n",
              "      <td>1</td>\n",
              "      <td>7</td>\n",
              "      <td>0.0</td>\n",
              "      <td>218.0</td>\n",
              "      <td>0</td>\n",
              "      <td>0</td>\n",
              "      <td>0</td>\n",
              "      <td>1</td>\n",
              "    </tr>\n",
              "    <tr>\n",
              "      <th>1017204</th>\n",
              "      <td>1115</td>\n",
              "      <td>6</td>\n",
              "      <td>4771</td>\n",
              "      <td>1</td>\n",
              "      <td>0</td>\n",
              "      <td>0</td>\n",
              "      <td>1</td>\n",
              "      <td>3</td>\n",
              "      <td>2</td>\n",
              "      <td>5350.0</td>\n",
              "      <td>1</td>\n",
              "      <td>2013</td>\n",
              "      <td>1</td>\n",
              "      <td>5</td>\n",
              "      <td>0.0</td>\n",
              "      <td>216.0</td>\n",
              "      <td>0</td>\n",
              "      <td>0</td>\n",
              "      <td>0</td>\n",
              "      <td>1</td>\n",
              "    </tr>\n",
              "    <tr>\n",
              "      <th>1017205</th>\n",
              "      <td>1115</td>\n",
              "      <td>5</td>\n",
              "      <td>4540</td>\n",
              "      <td>1</td>\n",
              "      <td>0</td>\n",
              "      <td>0</td>\n",
              "      <td>1</td>\n",
              "      <td>3</td>\n",
              "      <td>2</td>\n",
              "      <td>5350.0</td>\n",
              "      <td>1</td>\n",
              "      <td>2013</td>\n",
              "      <td>1</td>\n",
              "      <td>4</td>\n",
              "      <td>0.0</td>\n",
              "      <td>215.0</td>\n",
              "      <td>0</td>\n",
              "      <td>0</td>\n",
              "      <td>0</td>\n",
              "      <td>1</td>\n",
              "    </tr>\n",
              "    <tr>\n",
              "      <th>1017206</th>\n",
              "      <td>1115</td>\n",
              "      <td>4</td>\n",
              "      <td>4297</td>\n",
              "      <td>1</td>\n",
              "      <td>0</td>\n",
              "      <td>0</td>\n",
              "      <td>1</td>\n",
              "      <td>3</td>\n",
              "      <td>2</td>\n",
              "      <td>5350.0</td>\n",
              "      <td>1</td>\n",
              "      <td>2013</td>\n",
              "      <td>1</td>\n",
              "      <td>3</td>\n",
              "      <td>0.0</td>\n",
              "      <td>214.0</td>\n",
              "      <td>0</td>\n",
              "      <td>0</td>\n",
              "      <td>0</td>\n",
              "      <td>1</td>\n",
              "    </tr>\n",
              "    <tr>\n",
              "      <th>1017207</th>\n",
              "      <td>1115</td>\n",
              "      <td>3</td>\n",
              "      <td>3697</td>\n",
              "      <td>1</td>\n",
              "      <td>0</td>\n",
              "      <td>0</td>\n",
              "      <td>1</td>\n",
              "      <td>3</td>\n",
              "      <td>2</td>\n",
              "      <td>5350.0</td>\n",
              "      <td>1</td>\n",
              "      <td>2013</td>\n",
              "      <td>1</td>\n",
              "      <td>2</td>\n",
              "      <td>0.0</td>\n",
              "      <td>213.0</td>\n",
              "      <td>0</td>\n",
              "      <td>0</td>\n",
              "      <td>0</td>\n",
              "      <td>1</td>\n",
              "    </tr>\n",
              "  </tbody>\n",
              "</table>\n",
              "<p>844392 rows × 20 columns</p>\n",
              "</div>\n",
              "      <button class=\"colab-df-convert\" onclick=\"convertToInteractive('df-f45bd0d2-eb45-4646-8df3-e76d3768b5c6')\"\n",
              "              title=\"Convert this dataframe to an interactive table.\"\n",
              "              style=\"display:none;\">\n",
              "        \n",
              "  <svg xmlns=\"http://www.w3.org/2000/svg\" height=\"24px\"viewBox=\"0 0 24 24\"\n",
              "       width=\"24px\">\n",
              "    <path d=\"M0 0h24v24H0V0z\" fill=\"none\"/>\n",
              "    <path d=\"M18.56 5.44l.94 2.06.94-2.06 2.06-.94-2.06-.94-.94-2.06-.94 2.06-2.06.94zm-11 1L8.5 8.5l.94-2.06 2.06-.94-2.06-.94L8.5 2.5l-.94 2.06-2.06.94zm10 10l.94 2.06.94-2.06 2.06-.94-2.06-.94-.94-2.06-.94 2.06-2.06.94z\"/><path d=\"M17.41 7.96l-1.37-1.37c-.4-.4-.92-.59-1.43-.59-.52 0-1.04.2-1.43.59L10.3 9.45l-7.72 7.72c-.78.78-.78 2.05 0 2.83L4 21.41c.39.39.9.59 1.41.59.51 0 1.02-.2 1.41-.59l7.78-7.78 2.81-2.81c.8-.78.8-2.07 0-2.86zM5.41 20L4 18.59l7.72-7.72 1.47 1.35L5.41 20z\"/>\n",
              "  </svg>\n",
              "      </button>\n",
              "      \n",
              "  <style>\n",
              "    .colab-df-container {\n",
              "      display:flex;\n",
              "      flex-wrap:wrap;\n",
              "      gap: 12px;\n",
              "    }\n",
              "\n",
              "    .colab-df-convert {\n",
              "      background-color: #E8F0FE;\n",
              "      border: none;\n",
              "      border-radius: 50%;\n",
              "      cursor: pointer;\n",
              "      display: none;\n",
              "      fill: #1967D2;\n",
              "      height: 32px;\n",
              "      padding: 0 0 0 0;\n",
              "      width: 32px;\n",
              "    }\n",
              "\n",
              "    .colab-df-convert:hover {\n",
              "      background-color: #E2EBFA;\n",
              "      box-shadow: 0px 1px 2px rgba(60, 64, 67, 0.3), 0px 1px 3px 1px rgba(60, 64, 67, 0.15);\n",
              "      fill: #174EA6;\n",
              "    }\n",
              "\n",
              "    [theme=dark] .colab-df-convert {\n",
              "      background-color: #3B4455;\n",
              "      fill: #D2E3FC;\n",
              "    }\n",
              "\n",
              "    [theme=dark] .colab-df-convert:hover {\n",
              "      background-color: #434B5C;\n",
              "      box-shadow: 0px 1px 3px 1px rgba(0, 0, 0, 0.15);\n",
              "      filter: drop-shadow(0px 1px 2px rgba(0, 0, 0, 0.3));\n",
              "      fill: #FFFFFF;\n",
              "    }\n",
              "  </style>\n",
              "\n",
              "      <script>\n",
              "        const buttonEl =\n",
              "          document.querySelector('#df-f45bd0d2-eb45-4646-8df3-e76d3768b5c6 button.colab-df-convert');\n",
              "        buttonEl.style.display =\n",
              "          google.colab.kernel.accessAllowed ? 'block' : 'none';\n",
              "\n",
              "        async function convertToInteractive(key) {\n",
              "          const element = document.querySelector('#df-f45bd0d2-eb45-4646-8df3-e76d3768b5c6');\n",
              "          const dataTable =\n",
              "            await google.colab.kernel.invokeFunction('convertToInteractive',\n",
              "                                                     [key], {});\n",
              "          if (!dataTable) return;\n",
              "\n",
              "          const docLinkHtml = 'Like what you see? Visit the ' +\n",
              "            '<a target=\"_blank\" href=https://colab.research.google.com/notebooks/data_table.ipynb>data table notebook</a>'\n",
              "            + ' to learn more about interactive tables.';\n",
              "          element.innerHTML = '';\n",
              "          dataTable['output_type'] = 'display_data';\n",
              "          await google.colab.output.renderOutput(dataTable, element);\n",
              "          const docLink = document.createElement('div');\n",
              "          docLink.innerHTML = docLinkHtml;\n",
              "          element.appendChild(docLink);\n",
              "        }\n",
              "      </script>\n",
              "    </div>\n",
              "  </div>\n",
              "  "
            ]
          },
          "metadata": {},
          "execution_count": 73
        }
      ]
    },
    {
      "cell_type": "code",
      "source": [
        "change_days = new_test['CompetitionDays']\n",
        "change_days=list(change_days)\n",
        "for i in range(len(change_days)):\n",
        "    if change_days[i]<0:\n",
        "        change_days[i]=0\n",
        "new_test['CompetitionDays']=change_days\n",
        "changepromo = new_test['PromoOpenDays']\n",
        "changepromo=list(changepromo)\n",
        "for i in range(len(changepromo)):\n",
        "    if changepromo[i]<0:\n",
        "        changepromo[i]=0\n",
        "new_test['PromoOpenDays']=changepromo\n",
        "new_test"
      ],
      "metadata": {
        "execution": {
          "iopub.status.busy": "2022-12-09T16:59:43.829682Z",
          "iopub.execute_input": "2022-12-09T16:59:43.830090Z",
          "iopub.status.idle": "2022-12-09T16:59:43.921798Z",
          "shell.execute_reply.started": "2022-12-09T16:59:43.830059Z",
          "shell.execute_reply": "2022-12-09T16:59:43.920374Z"
        },
        "trusted": true,
        "id": "JT7U5y0T-U5p",
        "outputId": "44a517bf-6b98-4bea-ee97-afa92e53e82a",
        "colab": {
          "base_uri": "https://localhost:8080/",
          "height": 661
        }
      },
      "execution_count": 74,
      "outputs": [
        {
          "output_type": "execute_result",
          "data": {
            "text/plain": [
              "          Id  Store  DayOfWeek       Date  Open  Promo  StateHoliday  \\\n",
              "0          1      1          4 2015-09-17     1      1             0   \n",
              "1        857      1          3 2015-09-16     1      1             0   \n",
              "2       1713      1          2 2015-09-15     1      1             0   \n",
              "3       2569      1          1 2015-09-14     1      1             0   \n",
              "5       4281      1          6 2015-09-12     1      0             0   \n",
              "...      ...    ...        ...        ...   ...    ...           ...   \n",
              "41082  36808   1115          4 2015-08-06     1      1             0   \n",
              "41083  37664   1115          3 2015-08-05     1      1             0   \n",
              "41084  38520   1115          2 2015-08-04     1      1             0   \n",
              "41085  39376   1115          1 2015-08-03     1      1             0   \n",
              "41087  41088   1115          6 2015-08-01     1      0             0   \n",
              "\n",
              "       SchoolHoliday  StoreType  Assortment  ...  Promo2SinceYear  Year  \\\n",
              "0                  0          2           0  ...           2100.0  2015   \n",
              "1                  0          2           0  ...           2100.0  2015   \n",
              "2                  0          2           0  ...           2100.0  2015   \n",
              "3                  0          2           0  ...           2100.0  2015   \n",
              "5                  0          2           0  ...           2100.0  2015   \n",
              "...              ...        ...         ...  ...              ...   ...   \n",
              "41082              1          3           2  ...           2012.0  2013   \n",
              "41083              1          3           2  ...           2012.0  2013   \n",
              "41084              1          3           2  ...           2012.0  2013   \n",
              "41085              1          3           2  ...           2012.0  2013   \n",
              "41087              1          3           2  ...           2012.0  2013   \n",
              "\n",
              "       Month  Day  CompetitionDays  PromoOpenDays  PromoInterval_0  \\\n",
              "0          9   17           2555.0            0.0                1   \n",
              "1          9   16           2555.0            0.0                1   \n",
              "2          9   15           2555.0            0.0                1   \n",
              "3          9   14           2555.0            0.0                1   \n",
              "5          9   12           2555.0            0.0                1   \n",
              "...      ...  ...              ...            ...              ...   \n",
              "41082      8    6              0.0          217.0                0   \n",
              "41083      8    5              0.0          216.0                0   \n",
              "41084      8    4              0.0          215.0                0   \n",
              "41085      8    3              0.0          214.0                0   \n",
              "41087      8    1              0.0          212.0                0   \n",
              "\n",
              "       PromoInterval_Feb,May,Aug,Nov  PromoInterval_Jan,Apr,Jul,Oct  \\\n",
              "0                                  0                              0   \n",
              "1                                  0                              0   \n",
              "2                                  0                              0   \n",
              "3                                  0                              0   \n",
              "5                                  0                              0   \n",
              "...                              ...                            ...   \n",
              "41082                              0                              0   \n",
              "41083                              0                              0   \n",
              "41084                              0                              0   \n",
              "41085                              0                              0   \n",
              "41087                              0                              0   \n",
              "\n",
              "       PromoInterval_Mar,Jun,Sept,Dec  \n",
              "0                                   0  \n",
              "1                                   0  \n",
              "2                                   0  \n",
              "3                                   0  \n",
              "5                                   0  \n",
              "...                               ...  \n",
              "41082                               1  \n",
              "41083                               1  \n",
              "41084                               1  \n",
              "41085                               1  \n",
              "41087                               1  \n",
              "\n",
              "[35104 rows x 25 columns]"
            ],
            "text/html": [
              "\n",
              "  <div id=\"df-fdaaa656-6271-40f3-8987-b4d1576edb6b\">\n",
              "    <div class=\"colab-df-container\">\n",
              "      <div>\n",
              "<style scoped>\n",
              "    .dataframe tbody tr th:only-of-type {\n",
              "        vertical-align: middle;\n",
              "    }\n",
              "\n",
              "    .dataframe tbody tr th {\n",
              "        vertical-align: top;\n",
              "    }\n",
              "\n",
              "    .dataframe thead th {\n",
              "        text-align: right;\n",
              "    }\n",
              "</style>\n",
              "<table border=\"1\" class=\"dataframe\">\n",
              "  <thead>\n",
              "    <tr style=\"text-align: right;\">\n",
              "      <th></th>\n",
              "      <th>Id</th>\n",
              "      <th>Store</th>\n",
              "      <th>DayOfWeek</th>\n",
              "      <th>Date</th>\n",
              "      <th>Open</th>\n",
              "      <th>Promo</th>\n",
              "      <th>StateHoliday</th>\n",
              "      <th>SchoolHoliday</th>\n",
              "      <th>StoreType</th>\n",
              "      <th>Assortment</th>\n",
              "      <th>...</th>\n",
              "      <th>Promo2SinceYear</th>\n",
              "      <th>Year</th>\n",
              "      <th>Month</th>\n",
              "      <th>Day</th>\n",
              "      <th>CompetitionDays</th>\n",
              "      <th>PromoOpenDays</th>\n",
              "      <th>PromoInterval_0</th>\n",
              "      <th>PromoInterval_Feb,May,Aug,Nov</th>\n",
              "      <th>PromoInterval_Jan,Apr,Jul,Oct</th>\n",
              "      <th>PromoInterval_Mar,Jun,Sept,Dec</th>\n",
              "    </tr>\n",
              "  </thead>\n",
              "  <tbody>\n",
              "    <tr>\n",
              "      <th>0</th>\n",
              "      <td>1</td>\n",
              "      <td>1</td>\n",
              "      <td>4</td>\n",
              "      <td>2015-09-17</td>\n",
              "      <td>1</td>\n",
              "      <td>1</td>\n",
              "      <td>0</td>\n",
              "      <td>0</td>\n",
              "      <td>2</td>\n",
              "      <td>0</td>\n",
              "      <td>...</td>\n",
              "      <td>2100.0</td>\n",
              "      <td>2015</td>\n",
              "      <td>9</td>\n",
              "      <td>17</td>\n",
              "      <td>2555.0</td>\n",
              "      <td>0.0</td>\n",
              "      <td>1</td>\n",
              "      <td>0</td>\n",
              "      <td>0</td>\n",
              "      <td>0</td>\n",
              "    </tr>\n",
              "    <tr>\n",
              "      <th>1</th>\n",
              "      <td>857</td>\n",
              "      <td>1</td>\n",
              "      <td>3</td>\n",
              "      <td>2015-09-16</td>\n",
              "      <td>1</td>\n",
              "      <td>1</td>\n",
              "      <td>0</td>\n",
              "      <td>0</td>\n",
              "      <td>2</td>\n",
              "      <td>0</td>\n",
              "      <td>...</td>\n",
              "      <td>2100.0</td>\n",
              "      <td>2015</td>\n",
              "      <td>9</td>\n",
              "      <td>16</td>\n",
              "      <td>2555.0</td>\n",
              "      <td>0.0</td>\n",
              "      <td>1</td>\n",
              "      <td>0</td>\n",
              "      <td>0</td>\n",
              "      <td>0</td>\n",
              "    </tr>\n",
              "    <tr>\n",
              "      <th>2</th>\n",
              "      <td>1713</td>\n",
              "      <td>1</td>\n",
              "      <td>2</td>\n",
              "      <td>2015-09-15</td>\n",
              "      <td>1</td>\n",
              "      <td>1</td>\n",
              "      <td>0</td>\n",
              "      <td>0</td>\n",
              "      <td>2</td>\n",
              "      <td>0</td>\n",
              "      <td>...</td>\n",
              "      <td>2100.0</td>\n",
              "      <td>2015</td>\n",
              "      <td>9</td>\n",
              "      <td>15</td>\n",
              "      <td>2555.0</td>\n",
              "      <td>0.0</td>\n",
              "      <td>1</td>\n",
              "      <td>0</td>\n",
              "      <td>0</td>\n",
              "      <td>0</td>\n",
              "    </tr>\n",
              "    <tr>\n",
              "      <th>3</th>\n",
              "      <td>2569</td>\n",
              "      <td>1</td>\n",
              "      <td>1</td>\n",
              "      <td>2015-09-14</td>\n",
              "      <td>1</td>\n",
              "      <td>1</td>\n",
              "      <td>0</td>\n",
              "      <td>0</td>\n",
              "      <td>2</td>\n",
              "      <td>0</td>\n",
              "      <td>...</td>\n",
              "      <td>2100.0</td>\n",
              "      <td>2015</td>\n",
              "      <td>9</td>\n",
              "      <td>14</td>\n",
              "      <td>2555.0</td>\n",
              "      <td>0.0</td>\n",
              "      <td>1</td>\n",
              "      <td>0</td>\n",
              "      <td>0</td>\n",
              "      <td>0</td>\n",
              "    </tr>\n",
              "    <tr>\n",
              "      <th>5</th>\n",
              "      <td>4281</td>\n",
              "      <td>1</td>\n",
              "      <td>6</td>\n",
              "      <td>2015-09-12</td>\n",
              "      <td>1</td>\n",
              "      <td>0</td>\n",
              "      <td>0</td>\n",
              "      <td>0</td>\n",
              "      <td>2</td>\n",
              "      <td>0</td>\n",
              "      <td>...</td>\n",
              "      <td>2100.0</td>\n",
              "      <td>2015</td>\n",
              "      <td>9</td>\n",
              "      <td>12</td>\n",
              "      <td>2555.0</td>\n",
              "      <td>0.0</td>\n",
              "      <td>1</td>\n",
              "      <td>0</td>\n",
              "      <td>0</td>\n",
              "      <td>0</td>\n",
              "    </tr>\n",
              "    <tr>\n",
              "      <th>...</th>\n",
              "      <td>...</td>\n",
              "      <td>...</td>\n",
              "      <td>...</td>\n",
              "      <td>...</td>\n",
              "      <td>...</td>\n",
              "      <td>...</td>\n",
              "      <td>...</td>\n",
              "      <td>...</td>\n",
              "      <td>...</td>\n",
              "      <td>...</td>\n",
              "      <td>...</td>\n",
              "      <td>...</td>\n",
              "      <td>...</td>\n",
              "      <td>...</td>\n",
              "      <td>...</td>\n",
              "      <td>...</td>\n",
              "      <td>...</td>\n",
              "      <td>...</td>\n",
              "      <td>...</td>\n",
              "      <td>...</td>\n",
              "      <td>...</td>\n",
              "    </tr>\n",
              "    <tr>\n",
              "      <th>41082</th>\n",
              "      <td>36808</td>\n",
              "      <td>1115</td>\n",
              "      <td>4</td>\n",
              "      <td>2015-08-06</td>\n",
              "      <td>1</td>\n",
              "      <td>1</td>\n",
              "      <td>0</td>\n",
              "      <td>1</td>\n",
              "      <td>3</td>\n",
              "      <td>2</td>\n",
              "      <td>...</td>\n",
              "      <td>2012.0</td>\n",
              "      <td>2013</td>\n",
              "      <td>8</td>\n",
              "      <td>6</td>\n",
              "      <td>0.0</td>\n",
              "      <td>217.0</td>\n",
              "      <td>0</td>\n",
              "      <td>0</td>\n",
              "      <td>0</td>\n",
              "      <td>1</td>\n",
              "    </tr>\n",
              "    <tr>\n",
              "      <th>41083</th>\n",
              "      <td>37664</td>\n",
              "      <td>1115</td>\n",
              "      <td>3</td>\n",
              "      <td>2015-08-05</td>\n",
              "      <td>1</td>\n",
              "      <td>1</td>\n",
              "      <td>0</td>\n",
              "      <td>1</td>\n",
              "      <td>3</td>\n",
              "      <td>2</td>\n",
              "      <td>...</td>\n",
              "      <td>2012.0</td>\n",
              "      <td>2013</td>\n",
              "      <td>8</td>\n",
              "      <td>5</td>\n",
              "      <td>0.0</td>\n",
              "      <td>216.0</td>\n",
              "      <td>0</td>\n",
              "      <td>0</td>\n",
              "      <td>0</td>\n",
              "      <td>1</td>\n",
              "    </tr>\n",
              "    <tr>\n",
              "      <th>41084</th>\n",
              "      <td>38520</td>\n",
              "      <td>1115</td>\n",
              "      <td>2</td>\n",
              "      <td>2015-08-04</td>\n",
              "      <td>1</td>\n",
              "      <td>1</td>\n",
              "      <td>0</td>\n",
              "      <td>1</td>\n",
              "      <td>3</td>\n",
              "      <td>2</td>\n",
              "      <td>...</td>\n",
              "      <td>2012.0</td>\n",
              "      <td>2013</td>\n",
              "      <td>8</td>\n",
              "      <td>4</td>\n",
              "      <td>0.0</td>\n",
              "      <td>215.0</td>\n",
              "      <td>0</td>\n",
              "      <td>0</td>\n",
              "      <td>0</td>\n",
              "      <td>1</td>\n",
              "    </tr>\n",
              "    <tr>\n",
              "      <th>41085</th>\n",
              "      <td>39376</td>\n",
              "      <td>1115</td>\n",
              "      <td>1</td>\n",
              "      <td>2015-08-03</td>\n",
              "      <td>1</td>\n",
              "      <td>1</td>\n",
              "      <td>0</td>\n",
              "      <td>1</td>\n",
              "      <td>3</td>\n",
              "      <td>2</td>\n",
              "      <td>...</td>\n",
              "      <td>2012.0</td>\n",
              "      <td>2013</td>\n",
              "      <td>8</td>\n",
              "      <td>3</td>\n",
              "      <td>0.0</td>\n",
              "      <td>214.0</td>\n",
              "      <td>0</td>\n",
              "      <td>0</td>\n",
              "      <td>0</td>\n",
              "      <td>1</td>\n",
              "    </tr>\n",
              "    <tr>\n",
              "      <th>41087</th>\n",
              "      <td>41088</td>\n",
              "      <td>1115</td>\n",
              "      <td>6</td>\n",
              "      <td>2015-08-01</td>\n",
              "      <td>1</td>\n",
              "      <td>0</td>\n",
              "      <td>0</td>\n",
              "      <td>1</td>\n",
              "      <td>3</td>\n",
              "      <td>2</td>\n",
              "      <td>...</td>\n",
              "      <td>2012.0</td>\n",
              "      <td>2013</td>\n",
              "      <td>8</td>\n",
              "      <td>1</td>\n",
              "      <td>0.0</td>\n",
              "      <td>212.0</td>\n",
              "      <td>0</td>\n",
              "      <td>0</td>\n",
              "      <td>0</td>\n",
              "      <td>1</td>\n",
              "    </tr>\n",
              "  </tbody>\n",
              "</table>\n",
              "<p>35104 rows × 25 columns</p>\n",
              "</div>\n",
              "      <button class=\"colab-df-convert\" onclick=\"convertToInteractive('df-fdaaa656-6271-40f3-8987-b4d1576edb6b')\"\n",
              "              title=\"Convert this dataframe to an interactive table.\"\n",
              "              style=\"display:none;\">\n",
              "        \n",
              "  <svg xmlns=\"http://www.w3.org/2000/svg\" height=\"24px\"viewBox=\"0 0 24 24\"\n",
              "       width=\"24px\">\n",
              "    <path d=\"M0 0h24v24H0V0z\" fill=\"none\"/>\n",
              "    <path d=\"M18.56 5.44l.94 2.06.94-2.06 2.06-.94-2.06-.94-.94-2.06-.94 2.06-2.06.94zm-11 1L8.5 8.5l.94-2.06 2.06-.94-2.06-.94L8.5 2.5l-.94 2.06-2.06.94zm10 10l.94 2.06.94-2.06 2.06-.94-2.06-.94-.94-2.06-.94 2.06-2.06.94z\"/><path d=\"M17.41 7.96l-1.37-1.37c-.4-.4-.92-.59-1.43-.59-.52 0-1.04.2-1.43.59L10.3 9.45l-7.72 7.72c-.78.78-.78 2.05 0 2.83L4 21.41c.39.39.9.59 1.41.59.51 0 1.02-.2 1.41-.59l7.78-7.78 2.81-2.81c.8-.78.8-2.07 0-2.86zM5.41 20L4 18.59l7.72-7.72 1.47 1.35L5.41 20z\"/>\n",
              "  </svg>\n",
              "      </button>\n",
              "      \n",
              "  <style>\n",
              "    .colab-df-container {\n",
              "      display:flex;\n",
              "      flex-wrap:wrap;\n",
              "      gap: 12px;\n",
              "    }\n",
              "\n",
              "    .colab-df-convert {\n",
              "      background-color: #E8F0FE;\n",
              "      border: none;\n",
              "      border-radius: 50%;\n",
              "      cursor: pointer;\n",
              "      display: none;\n",
              "      fill: #1967D2;\n",
              "      height: 32px;\n",
              "      padding: 0 0 0 0;\n",
              "      width: 32px;\n",
              "    }\n",
              "\n",
              "    .colab-df-convert:hover {\n",
              "      background-color: #E2EBFA;\n",
              "      box-shadow: 0px 1px 2px rgba(60, 64, 67, 0.3), 0px 1px 3px 1px rgba(60, 64, 67, 0.15);\n",
              "      fill: #174EA6;\n",
              "    }\n",
              "\n",
              "    [theme=dark] .colab-df-convert {\n",
              "      background-color: #3B4455;\n",
              "      fill: #D2E3FC;\n",
              "    }\n",
              "\n",
              "    [theme=dark] .colab-df-convert:hover {\n",
              "      background-color: #434B5C;\n",
              "      box-shadow: 0px 1px 3px 1px rgba(0, 0, 0, 0.15);\n",
              "      filter: drop-shadow(0px 1px 2px rgba(0, 0, 0, 0.3));\n",
              "      fill: #FFFFFF;\n",
              "    }\n",
              "  </style>\n",
              "\n",
              "      <script>\n",
              "        const buttonEl =\n",
              "          document.querySelector('#df-fdaaa656-6271-40f3-8987-b4d1576edb6b button.colab-df-convert');\n",
              "        buttonEl.style.display =\n",
              "          google.colab.kernel.accessAllowed ? 'block' : 'none';\n",
              "\n",
              "        async function convertToInteractive(key) {\n",
              "          const element = document.querySelector('#df-fdaaa656-6271-40f3-8987-b4d1576edb6b');\n",
              "          const dataTable =\n",
              "            await google.colab.kernel.invokeFunction('convertToInteractive',\n",
              "                                                     [key], {});\n",
              "          if (!dataTable) return;\n",
              "\n",
              "          const docLinkHtml = 'Like what you see? Visit the ' +\n",
              "            '<a target=\"_blank\" href=https://colab.research.google.com/notebooks/data_table.ipynb>data table notebook</a>'\n",
              "            + ' to learn more about interactive tables.';\n",
              "          element.innerHTML = '';\n",
              "          dataTable['output_type'] = 'display_data';\n",
              "          await google.colab.output.renderOutput(dataTable, element);\n",
              "          const docLink = document.createElement('div');\n",
              "          docLink.innerHTML = docLinkHtml;\n",
              "          element.appendChild(docLink);\n",
              "        }\n",
              "      </script>\n",
              "    </div>\n",
              "  </div>\n",
              "  "
            ]
          },
          "metadata": {},
          "execution_count": 74
        }
      ]
    },
    {
      "cell_type": "code",
      "source": [
        "#@title Your Title Here\n",
        "# class Autoencoder(torch.nn.Module):\n",
        "    \n",
        "#     def __init__(self, n_inp, n_hidden, name):\n",
        "#         super().__init__()\n",
        "        \n",
        "#         print(n_inp, \"->\", n_hidden)\n",
        "        \n",
        "#         self.hidden = nn.Linear(in_features=n_inp, out_features=n_hidden)\n",
        "#         print(self.hidden)\n",
        "#         self.output = nn.Linear(in_features=n_hidden, out_features=n_inp)\n",
        "#         print(self.output)\n",
        "#         print(n_inp, \"->\", n_hidden)\n",
        "#         self.is_learning = True\n",
        "    \n",
        "#     def set_learning(self, value):\n",
        "#         self.is_learning = value\n",
        "        \n",
        "#     def forward(self, x, function=torch.relu):\n",
        "        \n",
        "#         output = function(self.hidden(x))\n",
        "        \n",
        "#         if self.is_learning:\n",
        "#             output = function(self.output(output))\n",
        "        \n",
        "#         return output"
      ],
      "metadata": {
        "execution": {
          "iopub.status.busy": "2022-12-09T16:49:43.390801Z",
          "iopub.execute_input": "2022-12-09T16:49:43.391375Z",
          "iopub.status.idle": "2022-12-09T16:49:43.400882Z",
          "shell.execute_reply.started": "2022-12-09T16:49:43.391340Z",
          "shell.execute_reply": "2022-12-09T16:49:43.399651Z"
        },
        "trusted": true,
        "id": "Id2xhB2_-U5m",
        "cellView": "form"
      },
      "execution_count": 75,
      "outputs": []
    },
    {
      "cell_type": "code",
      "source": [
        "#@title Your Title Here\n",
        "# def trainAutoencoder(epochs: int, size: int, _input = x):\n",
        "    \n",
        "#         layer = Autoencoder(len(_input[0]), size, epochs)\n",
        "\n",
        "#         optimizer = torch.optim.Adam(layer.parameters(),lr=0.0001)\n",
        "\n",
        "#         # mean-squared error loss\n",
        "#         criterion = nn.MSELoss()\n",
        "\n",
        "#         for epoch in range(epochs):\n",
        "#             loss = 0\n",
        "\n",
        "#             train_loader = torch.utils.data.DataLoader(_input, batch_size=10000, shuffle=True, num_workers=4, pin_memory=True)\n",
        "\n",
        "#             for batch_features in train_loader:\n",
        "                \n",
        "#                 batch_features = batch_features.view(-1, len(_input[0]))\n",
        "#                 optimizer.zero_grad()\n",
        "#                 outputs = layer(batch_features.float())\n",
        "#                 train_loss = criterion(outputs, batch_features.float())\n",
        "#                 train_loss.backward()\n",
        "#                 optimizer.step()\n",
        "#                 loss += train_loss.item()\n",
        "\n",
        "#             loss = loss / len(train_loader)\n",
        "#             print(\"epoch : {}/{}, loss = {:.6f}\".format(epoch + 1, epochs, loss))\n",
        "#         layer.set_learning(False)\n",
        "#         return layer"
      ],
      "metadata": {
        "papermill": {
          "duration": 0.023112,
          "end_time": "2022-11-30T11:54:23.292405",
          "exception": false,
          "start_time": "2022-11-30T11:54:23.269293",
          "status": "completed"
        },
        "tags": [],
        "execution": {
          "iopub.status.busy": "2022-12-09T16:49:43.402369Z",
          "iopub.execute_input": "2022-12-09T16:49:43.403619Z",
          "iopub.status.idle": "2022-12-09T16:49:43.414932Z",
          "shell.execute_reply.started": "2022-12-09T16:49:43.403557Z",
          "shell.execute_reply": "2022-12-09T16:49:43.413880Z"
        },
        "trusted": true,
        "id": "_fhBc_qX-U5m",
        "cellView": "form"
      },
      "execution_count": 76,
      "outputs": []
    },
    {
      "cell_type": "code",
      "source": [
        "#@title Your Title Here\n",
        "# def feedforward(models: [], x):\n",
        "    \n",
        "#     output = torch.tensor(x).float()\n",
        "\n",
        "#     for model in models:\n",
        "#         output1 = model(output)\n",
        "#         output = output1\n",
        "        \n",
        "#     return output"
      ],
      "metadata": {
        "execution": {
          "iopub.status.busy": "2022-12-09T16:49:43.416310Z",
          "iopub.execute_input": "2022-12-09T16:49:43.416700Z",
          "iopub.status.idle": "2022-12-09T16:49:43.430426Z",
          "shell.execute_reply.started": "2022-12-09T16:49:43.416668Z",
          "shell.execute_reply": "2022-12-09T16:49:43.429512Z"
        },
        "trusted": true,
        "id": "kO--Ejc--U5m",
        "cellView": "form"
      },
      "execution_count": 77,
      "outputs": []
    },
    {
      "cell_type": "code",
      "source": [
        "#@title Your Title Here\n",
        "# def trainLayers(epochs: [], size_of_layer: [], _input):\n",
        "#     assert len(epochs) == len(size_of_layer)\n",
        "#     models = []\n",
        "#     print(size_of_layer[0])\n",
        "#     hidden_layer = trainAutoencoder(epochs[0], size_of_layer[0], _input)\n",
        "#     models.append(hidden_layer)\n",
        "    \n",
        "#     for index, size in enumerate(size_of_layer):\n",
        "#         if index == 0:\n",
        "#             continue\n",
        "#         h_layer_2 = trainAutoencoder(epochs[index], size_of_layer[index], feedforward(models, _input).detach())\n",
        "#         models.append(h_layer_2)\n",
        "    \n",
        "#     return models\n",
        "\n",
        "# models = trainLayers([2, 2, 2], [10, 5, 1], x)"
      ],
      "metadata": {
        "execution": {
          "iopub.status.busy": "2022-12-09T16:49:43.432319Z",
          "iopub.execute_input": "2022-12-09T16:49:43.433099Z",
          "iopub.status.idle": "2022-12-09T16:49:58.025108Z",
          "shell.execute_reply.started": "2022-12-09T16:49:43.433053Z",
          "shell.execute_reply": "2022-12-09T16:49:58.023645Z"
        },
        "trusted": true,
        "id": "LeBx3X-t-U5n",
        "cellView": "form"
      },
      "execution_count": 78,
      "outputs": []
    },
    {
      "cell_type": "markdown",
      "source": [
        "# Fitting the data to the model"
      ],
      "metadata": {
        "id": "CXtkDJ8E4gvJ"
      }
    },
    {
      "cell_type": "code",
      "source": [
        "# Normalization and scaling\n",
        "from sklearn.preprocessing import MinMaxScaler\n",
        "from sklearn.model_selection import train_test_split\n",
        "\n",
        "# Scaling the data \n",
        "scaler = MinMaxScaler()\n",
        "scaler.fit_transform(x,y)\n",
        "\n",
        "X_train, X_test, y_train, y_test = train_test_split(x, y, test_size=0.2, random_state=42)"
      ],
      "metadata": {
        "id": "lXfDvFggoIBj"
      },
      "execution_count": 79,
      "outputs": []
    },
    {
      "cell_type": "code",
      "source": [
        "# Shape of sets\n",
        "X_train.shape, X_test.shape, y_test.shape, y_train.shape"
      ],
      "metadata": {
        "colab": {
          "base_uri": "https://localhost:8080/"
        },
        "id": "zm5ZFIUUoYwU",
        "outputId": "782ef627-8ae2-4734-8264-e9346ca5785b"
      },
      "execution_count": 80,
      "outputs": [
        {
          "output_type": "execute_result",
          "data": {
            "text/plain": [
              "((675513, 19), (168879, 19), (168879,), (675513,))"
            ]
          },
          "metadata": {},
          "execution_count": 80
        }
      ]
    },
    {
      "cell_type": "code",
      "source": [
        "# Resizing Shape of test and train set to 3d arrays - you need 3d array for RNN to work, needs to be changed depending on size of train test split and if data changes\n",
        "# The size of shapes should reflect the split data \n",
        "\n",
        "X_train = X_train.reshape(len(X_train), 1, len(x[0])) # Reshape of the data must be the same size as the split data\n",
        "X_test = X_test.reshape(len(X_test), 1, len(x[0]))"
      ],
      "metadata": {
        "id": "VY3u_crKom92"
      },
      "execution_count": 81,
      "outputs": []
    },
    {
      "cell_type": "code",
      "source": [
        "# Look above for reference of size\n",
        "X_train.shape, X_test.shape, y_test.shape, y_train.shape"
      ],
      "metadata": {
        "colab": {
          "base_uri": "https://localhost:8080/"
        },
        "id": "lkuMGJJqoouj",
        "outputId": "9fa195dd-6d4a-47b6-d9a4-908ef587dbff"
      },
      "execution_count": 82,
      "outputs": [
        {
          "output_type": "execute_result",
          "data": {
            "text/plain": [
              "((675513, 1, 19), (168879, 1, 19), (168879,), (675513,))"
            ]
          },
          "metadata": {},
          "execution_count": 82
        }
      ]
    },
    {
      "cell_type": "markdown",
      "source": [
        "# RNN/LSTM Model"
      ],
      "metadata": {
        "id": "zS5Xdlsun7yj"
      }
    },
    {
      "cell_type": "code",
      "source": [
        "# Importing Tensorflow library\n",
        "from tensorflow.keras.models import Sequential\n",
        "from tensorflow.keras.layers import *\n",
        "from tensorflow.keras.callbacks import ModelCheckpoint\n",
        "from tensorflow.keras.losses import MeanSquaredError\n",
        "from tensorflow.keras.metrics import RootMeanSquaredError\n",
        "from tensorflow.keras.optimizers import Adam\n",
        "\n",
        "\n",
        "## LSTM/RNN Model\n",
        "model1 = Sequential()\n",
        "model1.add(InputLayer((1, len(x[0])))) #Note the inputs, (x1,x2) x1 refers to the batch size which is equal to the 3d shape above.\n",
        "model1.add(LSTM(32, activation='relu',recurrent_activation='tanh',))\n",
        "model1.add(Dropout(0.3))\n",
        "model1.add(Dense(16, 'relu'))\n",
        "model1.add(Dense(1, 'linear'))\n",
        "\n",
        "model1.summary()"
      ],
      "metadata": {
        "colab": {
          "base_uri": "https://localhost:8080/"
        },
        "id": "BdgWrLtcoAsf",
        "outputId": "2f72b328-9409-4ec4-bd2e-361b33aa0dc8"
      },
      "execution_count": 83,
      "outputs": [
        {
          "output_type": "stream",
          "name": "stdout",
          "text": [
            "Model: \"sequential_1\"\n",
            "_________________________________________________________________\n",
            " Layer (type)                Output Shape              Param #   \n",
            "=================================================================\n",
            " lstm_1 (LSTM)               (None, 32)                6656      \n",
            "                                                                 \n",
            " dropout_1 (Dropout)         (None, 32)                0         \n",
            "                                                                 \n",
            " dense_2 (Dense)             (None, 16)                528       \n",
            "                                                                 \n",
            " dense_3 (Dense)             (None, 1)                 17        \n",
            "                                                                 \n",
            "=================================================================\n",
            "Total params: 7,201\n",
            "Trainable params: 7,201\n",
            "Non-trainable params: 0\n",
            "_________________________________________________________________\n"
          ]
        }
      ]
    },
    {
      "cell_type": "code",
      "source": [
        "cp1 = ModelCheckpoint('model1/', save_best_only=True)\n",
        "model1.compile(loss=MeanSquaredError(), optimizer=Adam(learning_rate=1e-4), metrics=[RootMeanSquaredError()])"
      ],
      "metadata": {
        "id": "tDN4QoAYoyFf"
      },
      "execution_count": 84,
      "outputs": []
    },
    {
      "cell_type": "code",
      "source": [
        "model1.fit(X_train, y_train, epochs=20, callbacks=[cp1])"
      ],
      "metadata": {
        "colab": {
          "base_uri": "https://localhost:8080/"
        },
        "id": "EGRit8J0ozbC",
        "outputId": "052dc231-a629-4125-c3fd-392bdbcc1306"
      },
      "execution_count": 85,
      "outputs": [
        {
          "output_type": "stream",
          "name": "stdout",
          "text": [
            "Epoch 1/20\n",
            "21095/21110 [============================>.] - ETA: 0s - loss: 13834337.0000 - root_mean_squared_error: 3719.4539"
          ]
        },
        {
          "output_type": "stream",
          "name": "stderr",
          "text": [
            "WARNING:tensorflow:Can save best model only with val_loss available, skipping.\n"
          ]
        },
        {
          "output_type": "stream",
          "name": "stdout",
          "text": [
            "\b\b\b\b\b\b\b\b\b\b\b\b\b\b\b\b\b\b\b\b\b\b\b\b\b\b\b\b\b\b\b\b\b\b\b\b\b\b\b\b\b\b\b\b\b\b\b\b\b\b\b\b\b\b\b\b\b\b\b\b\b\b\b\b\b\b\b\b\b\b\b\b\b\b\b\b\b\b\b\b\b\b\b\b\b\b\b\b\b\b\b\b\b\b\b\b\b\b\b\b\b\b\b\b\b\b\b\b\b\b\b\b\b\r21110/21110 [==============================] - 57s 3ms/step - loss: 13832376.0000 - root_mean_squared_error: 3719.1902\n",
            "Epoch 2/20\n",
            "21110/21110 [==============================] - ETA: 0s - loss: 10664126.0000 - root_mean_squared_error: 3265.5974"
          ]
        },
        {
          "output_type": "stream",
          "name": "stderr",
          "text": [
            "WARNING:tensorflow:Can save best model only with val_loss available, skipping.\n"
          ]
        },
        {
          "output_type": "stream",
          "name": "stdout",
          "text": [
            "\b\b\b\b\b\b\b\b\b\b\b\b\b\b\b\b\b\b\b\b\b\b\b\b\b\b\b\b\b\b\b\b\b\b\b\b\b\b\b\b\b\b\b\b\b\b\b\b\b\b\b\b\b\b\b\b\b\b\b\b\b\b\b\b\b\b\b\b\b\b\b\b\b\b\b\b\b\b\b\b\b\b\b\b\b\b\b\b\b\b\b\b\b\b\b\b\b\b\b\b\b\b\b\b\b\b\b\b\b\b\b\b\b\r21110/21110 [==============================] - 60s 3ms/step - loss: 10664126.0000 - root_mean_squared_error: 3265.5974\n",
            "Epoch 3/20\n",
            "21093/21110 [============================>.] - ETA: 0s - loss: 10265491.0000 - root_mean_squared_error: 3203.9805"
          ]
        },
        {
          "output_type": "stream",
          "name": "stderr",
          "text": [
            "WARNING:tensorflow:Can save best model only with val_loss available, skipping.\n"
          ]
        },
        {
          "output_type": "stream",
          "name": "stdout",
          "text": [
            "\b\b\b\b\b\b\b\b\b\b\b\b\b\b\b\b\b\b\b\b\b\b\b\b\b\b\b\b\b\b\b\b\b\b\b\b\b\b\b\b\b\b\b\b\b\b\b\b\b\b\b\b\b\b\b\b\b\b\b\b\b\b\b\b\b\b\b\b\b\b\b\b\b\b\b\b\b\b\b\b\b\b\b\b\b\b\b\b\b\b\b\b\b\b\b\b\b\b\b\b\b\b\b\b\b\b\b\b\b\b\b\b\b\r21110/21110 [==============================] - 55s 3ms/step - loss: 10266141.0000 - root_mean_squared_error: 3204.0820\n",
            "Epoch 4/20\n",
            "21110/21110 [==============================] - ETA: 0s - loss: 10110209.0000 - root_mean_squared_error: 3179.6555"
          ]
        },
        {
          "output_type": "stream",
          "name": "stderr",
          "text": [
            "WARNING:tensorflow:Can save best model only with val_loss available, skipping.\n"
          ]
        },
        {
          "output_type": "stream",
          "name": "stdout",
          "text": [
            "\b\b\b\b\b\b\b\b\b\b\b\b\b\b\b\b\b\b\b\b\b\b\b\b\b\b\b\b\b\b\b\b\b\b\b\b\b\b\b\b\b\b\b\b\b\b\b\b\b\b\b\b\b\b\b\b\b\b\b\b\b\b\b\b\b\b\b\b\b\b\b\b\b\b\b\b\b\b\b\b\b\b\b\b\b\b\b\b\b\b\b\b\b\b\b\b\b\b\b\b\b\b\b\b\b\b\b\b\b\b\b\b\b\r21110/21110 [==============================] - 54s 3ms/step - loss: 10110209.0000 - root_mean_squared_error: 3179.6555\n",
            "Epoch 5/20\n",
            "21105/21110 [============================>.] - ETA: 0s - loss: 9987745.0000 - root_mean_squared_error: 3160.3394"
          ]
        },
        {
          "output_type": "stream",
          "name": "stderr",
          "text": [
            "WARNING:tensorflow:Can save best model only with val_loss available, skipping.\n"
          ]
        },
        {
          "output_type": "stream",
          "name": "stdout",
          "text": [
            "\b\b\b\b\b\b\b\b\b\b\b\b\b\b\b\b\b\b\b\b\b\b\b\b\b\b\b\b\b\b\b\b\b\b\b\b\b\b\b\b\b\b\b\b\b\b\b\b\b\b\b\b\b\b\b\b\b\b\b\b\b\b\b\b\b\b\b\b\b\b\b\b\b\b\b\b\b\b\b\b\b\b\b\b\b\b\b\b\b\b\b\b\b\b\b\b\b\b\b\b\b\b\b\b\b\b\b\b\b\b\b\b\r21110/21110 [==============================] - 56s 3ms/step - loss: 9987415.0000 - root_mean_squared_error: 3160.2871\n",
            "Epoch 6/20\n",
            "21099/21110 [============================>.] - ETA: 0s - loss: 9915419.0000 - root_mean_squared_error: 3148.8757"
          ]
        },
        {
          "output_type": "stream",
          "name": "stderr",
          "text": [
            "WARNING:tensorflow:Can save best model only with val_loss available, skipping.\n"
          ]
        },
        {
          "output_type": "stream",
          "name": "stdout",
          "text": [
            "\b\b\b\b\b\b\b\b\b\b\b\b\b\b\b\b\b\b\b\b\b\b\b\b\b\b\b\b\b\b\b\b\b\b\b\b\b\b\b\b\b\b\b\b\b\b\b\b\b\b\b\b\b\b\b\b\b\b\b\b\b\b\b\b\b\b\b\b\b\b\b\b\b\b\b\b\b\b\b\b\b\b\b\b\b\b\b\b\b\b\b\b\b\b\b\b\b\b\b\b\b\b\b\b\b\b\b\b\b\b\b\b\r21110/21110 [==============================] - 57s 3ms/step - loss: 9915954.0000 - root_mean_squared_error: 3148.9607\n",
            "Epoch 7/20\n",
            "21102/21110 [============================>.] - ETA: 0s - loss: 9851918.0000 - root_mean_squared_error: 3138.7766"
          ]
        },
        {
          "output_type": "stream",
          "name": "stderr",
          "text": [
            "WARNING:tensorflow:Can save best model only with val_loss available, skipping.\n"
          ]
        },
        {
          "output_type": "stream",
          "name": "stdout",
          "text": [
            "\b\b\b\b\b\b\b\b\b\b\b\b\b\b\b\b\b\b\b\b\b\b\b\b\b\b\b\b\b\b\b\b\b\b\b\b\b\b\b\b\b\b\b\b\b\b\b\b\b\b\b\b\b\b\b\b\b\b\b\b\b\b\b\b\b\b\b\b\b\b\b\b\b\b\b\b\b\b\b\b\b\b\b\b\b\b\b\b\b\b\b\b\b\b\b\b\b\b\b\b\b\b\b\b\b\b\b\b\b\b\b\b\r21110/21110 [==============================] - 58s 3ms/step - loss: 9852990.0000 - root_mean_squared_error: 3138.9473\n",
            "Epoch 8/20\n",
            "21104/21110 [============================>.] - ETA: 0s - loss: 9798583.0000 - root_mean_squared_error: 3130.2688"
          ]
        },
        {
          "output_type": "stream",
          "name": "stderr",
          "text": [
            "WARNING:tensorflow:Can save best model only with val_loss available, skipping.\n"
          ]
        },
        {
          "output_type": "stream",
          "name": "stdout",
          "text": [
            "\b\b\b\b\b\b\b\b\b\b\b\b\b\b\b\b\b\b\b\b\b\b\b\b\b\b\b\b\b\b\b\b\b\b\b\b\b\b\b\b\b\b\b\b\b\b\b\b\b\b\b\b\b\b\b\b\b\b\b\b\b\b\b\b\b\b\b\b\b\b\b\b\b\b\b\b\b\b\b\b\b\b\b\b\b\b\b\b\b\b\b\b\b\b\b\b\b\b\b\b\b\b\b\b\b\b\b\b\b\b\b\b\r21110/21110 [==============================] - 55s 3ms/step - loss: 9798826.0000 - root_mean_squared_error: 3130.3076\n",
            "Epoch 9/20\n",
            "21108/21110 [============================>.] - ETA: 0s - loss: 9758682.0000 - root_mean_squared_error: 3123.8889"
          ]
        },
        {
          "output_type": "stream",
          "name": "stderr",
          "text": [
            "WARNING:tensorflow:Can save best model only with val_loss available, skipping.\n"
          ]
        },
        {
          "output_type": "stream",
          "name": "stdout",
          "text": [
            "\b\b\b\b\b\b\b\b\b\b\b\b\b\b\b\b\b\b\b\b\b\b\b\b\b\b\b\b\b\b\b\b\b\b\b\b\b\b\b\b\b\b\b\b\b\b\b\b\b\b\b\b\b\b\b\b\b\b\b\b\b\b\b\b\b\b\b\b\b\b\b\b\b\b\b\b\b\b\b\b\b\b\b\b\b\b\b\b\b\b\b\b\b\b\b\b\b\b\b\b\b\b\b\b\b\b\b\b\b\b\b\b\r21110/21110 [==============================] - 57s 3ms/step - loss: 9758488.0000 - root_mean_squared_error: 3123.8579\n",
            "Epoch 10/20\n",
            "21101/21110 [============================>.] - ETA: 0s - loss: 9742727.0000 - root_mean_squared_error: 3121.3342"
          ]
        },
        {
          "output_type": "stream",
          "name": "stderr",
          "text": [
            "WARNING:tensorflow:Can save best model only with val_loss available, skipping.\n"
          ]
        },
        {
          "output_type": "stream",
          "name": "stdout",
          "text": [
            "\b\b\b\b\b\b\b\b\b\b\b\b\b\b\b\b\b\b\b\b\b\b\b\b\b\b\b\b\b\b\b\b\b\b\b\b\b\b\b\b\b\b\b\b\b\b\b\b\b\b\b\b\b\b\b\b\b\b\b\b\b\b\b\b\b\b\b\b\b\b\b\b\b\b\b\b\b\b\b\b\b\b\b\b\b\b\b\b\b\b\b\b\b\b\b\b\b\b\b\b\b\b\b\b\b\b\b\b\b\b\b\b\r21110/21110 [==============================] - 55s 3ms/step - loss: 9742962.0000 - root_mean_squared_error: 3121.3718\n",
            "Epoch 11/20\n",
            "21102/21110 [============================>.] - ETA: 0s - loss: 9712922.0000 - root_mean_squared_error: 3116.5562"
          ]
        },
        {
          "output_type": "stream",
          "name": "stderr",
          "text": [
            "WARNING:tensorflow:Can save best model only with val_loss available, skipping.\n"
          ]
        },
        {
          "output_type": "stream",
          "name": "stdout",
          "text": [
            "\b\b\b\b\b\b\b\b\b\b\b\b\b\b\b\b\b\b\b\b\b\b\b\b\b\b\b\b\b\b\b\b\b\b\b\b\b\b\b\b\b\b\b\b\b\b\b\b\b\b\b\b\b\b\b\b\b\b\b\b\b\b\b\b\b\b\b\b\b\b\b\b\b\b\b\b\b\b\b\b\b\b\b\b\b\b\b\b\b\b\b\b\b\b\b\b\b\b\b\b\b\b\b\b\b\b\b\b\b\b\b\b\r21110/21110 [==============================] - 55s 3ms/step - loss: 9713467.0000 - root_mean_squared_error: 3116.6436\n",
            "Epoch 12/20\n",
            "21105/21110 [============================>.] - ETA: 0s - loss: 9669993.0000 - root_mean_squared_error: 3109.6611"
          ]
        },
        {
          "output_type": "stream",
          "name": "stderr",
          "text": [
            "WARNING:tensorflow:Can save best model only with val_loss available, skipping.\n"
          ]
        },
        {
          "output_type": "stream",
          "name": "stdout",
          "text": [
            "\b\b\b\b\b\b\b\b\b\b\b\b\b\b\b\b\b\b\b\b\b\b\b\b\b\b\b\b\b\b\b\b\b\b\b\b\b\b\b\b\b\b\b\b\b\b\b\b\b\b\b\b\b\b\b\b\b\b\b\b\b\b\b\b\b\b\b\b\b\b\b\b\b\b\b\b\b\b\b\b\b\b\b\b\b\b\b\b\b\b\b\b\b\b\b\b\b\b\b\b\b\b\b\b\b\b\b\b\b\b\b\b\r21110/21110 [==============================] - 55s 3ms/step - loss: 9669527.0000 - root_mean_squared_error: 3109.5864\n",
            "Epoch 13/20\n",
            "21107/21110 [============================>.] - ETA: 0s - loss: 9628868.0000 - root_mean_squared_error: 3103.0417"
          ]
        },
        {
          "output_type": "stream",
          "name": "stderr",
          "text": [
            "WARNING:tensorflow:Can save best model only with val_loss available, skipping.\n"
          ]
        },
        {
          "output_type": "stream",
          "name": "stdout",
          "text": [
            "\b\b\b\b\b\b\b\b\b\b\b\b\b\b\b\b\b\b\b\b\b\b\b\b\b\b\b\b\b\b\b\b\b\b\b\b\b\b\b\b\b\b\b\b\b\b\b\b\b\b\b\b\b\b\b\b\b\b\b\b\b\b\b\b\b\b\b\b\b\b\b\b\b\b\b\b\b\b\b\b\b\b\b\b\b\b\b\b\b\b\b\b\b\b\b\b\b\b\b\b\b\b\b\b\b\b\b\b\b\b\b\b\r21110/21110 [==============================] - 56s 3ms/step - loss: 9629585.0000 - root_mean_squared_error: 3103.1572\n",
            "Epoch 14/20\n",
            "21097/21110 [============================>.] - ETA: 0s - loss: 9608470.0000 - root_mean_squared_error: 3099.7532"
          ]
        },
        {
          "output_type": "stream",
          "name": "stderr",
          "text": [
            "WARNING:tensorflow:Can save best model only with val_loss available, skipping.\n"
          ]
        },
        {
          "output_type": "stream",
          "name": "stdout",
          "text": [
            "\b\b\b\b\b\b\b\b\b\b\b\b\b\b\b\b\b\b\b\b\b\b\b\b\b\b\b\b\b\b\b\b\b\b\b\b\b\b\b\b\b\b\b\b\b\b\b\b\b\b\b\b\b\b\b\b\b\b\b\b\b\b\b\b\b\b\b\b\b\b\b\b\b\b\b\b\b\b\b\b\b\b\b\b\b\b\b\b\b\b\b\b\b\b\b\b\b\b\b\b\b\b\b\b\b\b\b\b\b\b\b\b\r21110/21110 [==============================] - 56s 3ms/step - loss: 9608365.0000 - root_mean_squared_error: 3099.7363\n",
            "Epoch 15/20\n",
            "21095/21110 [============================>.] - ETA: 0s - loss: 9583331.0000 - root_mean_squared_error: 3095.6956"
          ]
        },
        {
          "output_type": "stream",
          "name": "stderr",
          "text": [
            "WARNING:tensorflow:Can save best model only with val_loss available, skipping.\n"
          ]
        },
        {
          "output_type": "stream",
          "name": "stdout",
          "text": [
            "\b\b\b\b\b\b\b\b\b\b\b\b\b\b\b\b\b\b\b\b\b\b\b\b\b\b\b\b\b\b\b\b\b\b\b\b\b\b\b\b\b\b\b\b\b\b\b\b\b\b\b\b\b\b\b\b\b\b\b\b\b\b\b\b\b\b\b\b\b\b\b\b\b\b\b\b\b\b\b\b\b\b\b\b\b\b\b\b\b\b\b\b\b\b\b\b\b\b\b\b\b\b\b\b\b\b\b\b\b\b\b\b\r21110/21110 [==============================] - 56s 3ms/step - loss: 9582860.0000 - root_mean_squared_error: 3095.6194\n",
            "Epoch 16/20\n",
            "21110/21110 [==============================] - ETA: 0s - loss: 9555641.0000 - root_mean_squared_error: 3091.2200"
          ]
        },
        {
          "output_type": "stream",
          "name": "stderr",
          "text": [
            "WARNING:tensorflow:Can save best model only with val_loss available, skipping.\n"
          ]
        },
        {
          "output_type": "stream",
          "name": "stdout",
          "text": [
            "\b\b\b\b\b\b\b\b\b\b\b\b\b\b\b\b\b\b\b\b\b\b\b\b\b\b\b\b\b\b\b\b\b\b\b\b\b\b\b\b\b\b\b\b\b\b\b\b\b\b\b\b\b\b\b\b\b\b\b\b\b\b\b\b\b\b\b\b\b\b\b\b\b\b\b\b\b\b\b\b\b\b\b\b\b\b\b\b\b\b\b\b\b\b\b\b\b\b\b\b\b\b\b\b\b\b\b\b\b\b\b\b\r21110/21110 [==============================] - 54s 3ms/step - loss: 9555641.0000 - root_mean_squared_error: 3091.2200\n",
            "Epoch 17/20\n",
            "21103/21110 [============================>.] - ETA: 0s - loss: 9513987.0000 - root_mean_squared_error: 3084.4751"
          ]
        },
        {
          "output_type": "stream",
          "name": "stderr",
          "text": [
            "WARNING:tensorflow:Can save best model only with val_loss available, skipping.\n"
          ]
        },
        {
          "output_type": "stream",
          "name": "stdout",
          "text": [
            "\b\b\b\b\b\b\b\b\b\b\b\b\b\b\b\b\b\b\b\b\b\b\b\b\b\b\b\b\b\b\b\b\b\b\b\b\b\b\b\b\b\b\b\b\b\b\b\b\b\b\b\b\b\b\b\b\b\b\b\b\b\b\b\b\b\b\b\b\b\b\b\b\b\b\b\b\b\b\b\b\b\b\b\b\b\b\b\b\b\b\b\b\b\b\b\b\b\b\b\b\b\b\b\b\b\b\b\b\b\b\b\b\r21110/21110 [==============================] - 54s 3ms/step - loss: 9514604.0000 - root_mean_squared_error: 3084.5752\n",
            "Epoch 18/20\n",
            "21092/21110 [============================>.] - ETA: 0s - loss: 9490068.0000 - root_mean_squared_error: 3080.5955"
          ]
        },
        {
          "output_type": "stream",
          "name": "stderr",
          "text": [
            "WARNING:tensorflow:Can save best model only with val_loss available, skipping.\n"
          ]
        },
        {
          "output_type": "stream",
          "name": "stdout",
          "text": [
            "\b\b\b\b\b\b\b\b\b\b\b\b\b\b\b\b\b\b\b\b\b\b\b\b\b\b\b\b\b\b\b\b\b\b\b\b\b\b\b\b\b\b\b\b\b\b\b\b\b\b\b\b\b\b\b\b\b\b\b\b\b\b\b\b\b\b\b\b\b\b\b\b\b\b\b\b\b\b\b\b\b\b\b\b\b\b\b\b\b\b\b\b\b\b\b\b\b\b\b\b\b\b\b\b\b\b\b\b\b\b\b\b\r21110/21110 [==============================] - 54s 3ms/step - loss: 9490896.0000 - root_mean_squared_error: 3080.7297\n",
            "Epoch 19/20\n",
            "21095/21110 [============================>.] - ETA: 0s - loss: 9479045.0000 - root_mean_squared_error: 3078.8057"
          ]
        },
        {
          "output_type": "stream",
          "name": "stderr",
          "text": [
            "WARNING:tensorflow:Can save best model only with val_loss available, skipping.\n"
          ]
        },
        {
          "output_type": "stream",
          "name": "stdout",
          "text": [
            "\b\b\b\b\b\b\b\b\b\b\b\b\b\b\b\b\b\b\b\b\b\b\b\b\b\b\b\b\b\b\b\b\b\b\b\b\b\b\b\b\b\b\b\b\b\b\b\b\b\b\b\b\b\b\b\b\b\b\b\b\b\b\b\b\b\b\b\b\b\b\b\b\b\b\b\b\b\b\b\b\b\b\b\b\b\b\b\b\b\b\b\b\b\b\b\b\b\b\b\b\b\b\b\b\b\b\b\b\b\b\b\b\r21110/21110 [==============================] - 55s 3ms/step - loss: 9479156.0000 - root_mean_squared_error: 3078.8237\n",
            "Epoch 20/20\n",
            "21094/21110 [============================>.] - ETA: 0s - loss: 9447482.0000 - root_mean_squared_error: 3073.6755"
          ]
        },
        {
          "output_type": "stream",
          "name": "stderr",
          "text": [
            "WARNING:tensorflow:Can save best model only with val_loss available, skipping.\n"
          ]
        },
        {
          "output_type": "stream",
          "name": "stdout",
          "text": [
            "\b\b\b\b\b\b\b\b\b\b\b\b\b\b\b\b\b\b\b\b\b\b\b\b\b\b\b\b\b\b\b\b\b\b\b\b\b\b\b\b\b\b\b\b\b\b\b\b\b\b\b\b\b\b\b\b\b\b\b\b\b\b\b\b\b\b\b\b\b\b\b\b\b\b\b\b\b\b\b\b\b\b\b\b\b\b\b\b\b\b\b\b\b\b\b\b\b\b\b\b\b\b\b\b\b\b\b\b\b\b\b\b\r21110/21110 [==============================] - 55s 3ms/step - loss: 9448245.0000 - root_mean_squared_error: 3073.7998\n"
          ]
        },
        {
          "output_type": "execute_result",
          "data": {
            "text/plain": [
              "<keras.callbacks.History at 0x7f6ce24a0520>"
            ]
          },
          "metadata": {},
          "execution_count": 85
        }
      ]
    },
    {
      "cell_type": "code",
      "source": [
        "for test in new_test:\n",
        "    exist = False\n",
        "    for train in new_train:\n",
        "        if train == test:\n",
        "            exist = True\n",
        "    \n",
        "    if not exist:\n",
        "        new_test = new_test.drop([test], axis=1)\n",
        "\n",
        "print(len(new_test.dtypes))\n",
        "print(len(new_train.dtypes)-1) # beacause Sales is y data"
      ],
      "metadata": {
        "execution": {
          "iopub.status.busy": "2022-12-09T16:49:58.072504Z",
          "iopub.execute_input": "2022-12-09T16:49:58.073254Z",
          "iopub.status.idle": "2022-12-09T16:49:58.110264Z",
          "shell.execute_reply.started": "2022-12-09T16:49:58.073208Z",
          "shell.execute_reply": "2022-12-09T16:49:58.109228Z"
        },
        "trusted": true,
        "id": "qtQh7O6r-U5o",
        "outputId": "74cbb7ff-ae27-41f9-d360-128d0ca2ce8d",
        "colab": {
          "base_uri": "https://localhost:8080/"
        }
      },
      "execution_count": 86,
      "outputs": [
        {
          "output_type": "stream",
          "name": "stdout",
          "text": [
            "19\n",
            "19\n"
          ]
        }
      ]
    },
    {
      "cell_type": "code",
      "source": [
        "import tensorflow as tf\n",
        "test = new_test.to_numpy()\n",
        "test = test.reshape((35104,1,19)) #fitting to size of input (3d array)\n",
        "test.shape\n",
        "test = tf.convert_to_tensor(test)"
      ],
      "metadata": {
        "id": "XLIJefLet4sd"
      },
      "execution_count": 88,
      "outputs": []
    },
    {
      "cell_type": "code",
      "source": [
        "target = model1.predict(test)\n",
        "prediction_data = pd.DataFrame(target)\n",
        "prediction_data"
      ],
      "metadata": {
        "papermill": {
          "duration": 0.04754,
          "end_time": "2022-11-30T12:05:56.111961",
          "exception": false,
          "start_time": "2022-11-30T12:05:56.064421",
          "status": "completed"
        },
        "tags": [],
        "execution": {
          "iopub.status.busy": "2022-12-09T16:49:58.343405Z",
          "iopub.execute_input": "2022-12-09T16:49:58.343908Z",
          "iopub.status.idle": "2022-12-09T16:49:58.367309Z",
          "shell.execute_reply.started": "2022-12-09T16:49:58.343860Z",
          "shell.execute_reply": "2022-12-09T16:49:58.366369Z"
        },
        "trusted": true,
        "id": "nmQdYPV8-U5q",
        "outputId": "c5203749-fdda-465c-d2ab-aa98e5acbe91",
        "colab": {
          "base_uri": "https://localhost:8080/",
          "height": 441
        }
      },
      "execution_count": 89,
      "outputs": [
        {
          "output_type": "stream",
          "name": "stdout",
          "text": [
            "1097/1097 [==============================] - 2s 1ms/step\n"
          ]
        },
        {
          "output_type": "execute_result",
          "data": {
            "text/plain": [
              "                 0\n",
              "0      3951.515869\n",
              "1      3964.346436\n",
              "2      3977.176758\n",
              "3      3990.007080\n",
              "4      3907.065186\n",
              "...            ...\n",
              "35099  3276.510498\n",
              "35100  3282.158936\n",
              "35101  3287.807373\n",
              "35102  3293.455566\n",
              "35103  3246.816406\n",
              "\n",
              "[35104 rows x 1 columns]"
            ],
            "text/html": [
              "\n",
              "  <div id=\"df-5d9aecda-a948-4b25-b728-c09fd99e9803\">\n",
              "    <div class=\"colab-df-container\">\n",
              "      <div>\n",
              "<style scoped>\n",
              "    .dataframe tbody tr th:only-of-type {\n",
              "        vertical-align: middle;\n",
              "    }\n",
              "\n",
              "    .dataframe tbody tr th {\n",
              "        vertical-align: top;\n",
              "    }\n",
              "\n",
              "    .dataframe thead th {\n",
              "        text-align: right;\n",
              "    }\n",
              "</style>\n",
              "<table border=\"1\" class=\"dataframe\">\n",
              "  <thead>\n",
              "    <tr style=\"text-align: right;\">\n",
              "      <th></th>\n",
              "      <th>0</th>\n",
              "    </tr>\n",
              "  </thead>\n",
              "  <tbody>\n",
              "    <tr>\n",
              "      <th>0</th>\n",
              "      <td>3951.515869</td>\n",
              "    </tr>\n",
              "    <tr>\n",
              "      <th>1</th>\n",
              "      <td>3964.346436</td>\n",
              "    </tr>\n",
              "    <tr>\n",
              "      <th>2</th>\n",
              "      <td>3977.176758</td>\n",
              "    </tr>\n",
              "    <tr>\n",
              "      <th>3</th>\n",
              "      <td>3990.007080</td>\n",
              "    </tr>\n",
              "    <tr>\n",
              "      <th>4</th>\n",
              "      <td>3907.065186</td>\n",
              "    </tr>\n",
              "    <tr>\n",
              "      <th>...</th>\n",
              "      <td>...</td>\n",
              "    </tr>\n",
              "    <tr>\n",
              "      <th>35099</th>\n",
              "      <td>3276.510498</td>\n",
              "    </tr>\n",
              "    <tr>\n",
              "      <th>35100</th>\n",
              "      <td>3282.158936</td>\n",
              "    </tr>\n",
              "    <tr>\n",
              "      <th>35101</th>\n",
              "      <td>3287.807373</td>\n",
              "    </tr>\n",
              "    <tr>\n",
              "      <th>35102</th>\n",
              "      <td>3293.455566</td>\n",
              "    </tr>\n",
              "    <tr>\n",
              "      <th>35103</th>\n",
              "      <td>3246.816406</td>\n",
              "    </tr>\n",
              "  </tbody>\n",
              "</table>\n",
              "<p>35104 rows × 1 columns</p>\n",
              "</div>\n",
              "      <button class=\"colab-df-convert\" onclick=\"convertToInteractive('df-5d9aecda-a948-4b25-b728-c09fd99e9803')\"\n",
              "              title=\"Convert this dataframe to an interactive table.\"\n",
              "              style=\"display:none;\">\n",
              "        \n",
              "  <svg xmlns=\"http://www.w3.org/2000/svg\" height=\"24px\"viewBox=\"0 0 24 24\"\n",
              "       width=\"24px\">\n",
              "    <path d=\"M0 0h24v24H0V0z\" fill=\"none\"/>\n",
              "    <path d=\"M18.56 5.44l.94 2.06.94-2.06 2.06-.94-2.06-.94-.94-2.06-.94 2.06-2.06.94zm-11 1L8.5 8.5l.94-2.06 2.06-.94-2.06-.94L8.5 2.5l-.94 2.06-2.06.94zm10 10l.94 2.06.94-2.06 2.06-.94-2.06-.94-.94-2.06-.94 2.06-2.06.94z\"/><path d=\"M17.41 7.96l-1.37-1.37c-.4-.4-.92-.59-1.43-.59-.52 0-1.04.2-1.43.59L10.3 9.45l-7.72 7.72c-.78.78-.78 2.05 0 2.83L4 21.41c.39.39.9.59 1.41.59.51 0 1.02-.2 1.41-.59l7.78-7.78 2.81-2.81c.8-.78.8-2.07 0-2.86zM5.41 20L4 18.59l7.72-7.72 1.47 1.35L5.41 20z\"/>\n",
              "  </svg>\n",
              "      </button>\n",
              "      \n",
              "  <style>\n",
              "    .colab-df-container {\n",
              "      display:flex;\n",
              "      flex-wrap:wrap;\n",
              "      gap: 12px;\n",
              "    }\n",
              "\n",
              "    .colab-df-convert {\n",
              "      background-color: #E8F0FE;\n",
              "      border: none;\n",
              "      border-radius: 50%;\n",
              "      cursor: pointer;\n",
              "      display: none;\n",
              "      fill: #1967D2;\n",
              "      height: 32px;\n",
              "      padding: 0 0 0 0;\n",
              "      width: 32px;\n",
              "    }\n",
              "\n",
              "    .colab-df-convert:hover {\n",
              "      background-color: #E2EBFA;\n",
              "      box-shadow: 0px 1px 2px rgba(60, 64, 67, 0.3), 0px 1px 3px 1px rgba(60, 64, 67, 0.15);\n",
              "      fill: #174EA6;\n",
              "    }\n",
              "\n",
              "    [theme=dark] .colab-df-convert {\n",
              "      background-color: #3B4455;\n",
              "      fill: #D2E3FC;\n",
              "    }\n",
              "\n",
              "    [theme=dark] .colab-df-convert:hover {\n",
              "      background-color: #434B5C;\n",
              "      box-shadow: 0px 1px 3px 1px rgba(0, 0, 0, 0.15);\n",
              "      filter: drop-shadow(0px 1px 2px rgba(0, 0, 0, 0.3));\n",
              "      fill: #FFFFFF;\n",
              "    }\n",
              "  </style>\n",
              "\n",
              "      <script>\n",
              "        const buttonEl =\n",
              "          document.querySelector('#df-5d9aecda-a948-4b25-b728-c09fd99e9803 button.colab-df-convert');\n",
              "        buttonEl.style.display =\n",
              "          google.colab.kernel.accessAllowed ? 'block' : 'none';\n",
              "\n",
              "        async function convertToInteractive(key) {\n",
              "          const element = document.querySelector('#df-5d9aecda-a948-4b25-b728-c09fd99e9803');\n",
              "          const dataTable =\n",
              "            await google.colab.kernel.invokeFunction('convertToInteractive',\n",
              "                                                     [key], {});\n",
              "          if (!dataTable) return;\n",
              "\n",
              "          const docLinkHtml = 'Like what you see? Visit the ' +\n",
              "            '<a target=\"_blank\" href=https://colab.research.google.com/notebooks/data_table.ipynb>data table notebook</a>'\n",
              "            + ' to learn more about interactive tables.';\n",
              "          element.innerHTML = '';\n",
              "          dataTable['output_type'] = 'display_data';\n",
              "          await google.colab.output.renderOutput(dataTable, element);\n",
              "          const docLink = document.createElement('div');\n",
              "          docLink.innerHTML = docLinkHtml;\n",
              "          element.appendChild(docLink);\n",
              "        }\n",
              "      </script>\n",
              "    </div>\n",
              "  </div>\n",
              "  "
            ]
          },
          "metadata": {},
          "execution_count": 89
        }
      ]
    },
    {
      "cell_type": "code",
      "source": [
        "output = pd.DataFrame({'Id': test_data.Id, 'Sales': prediction_data[0]})\n",
        "output.fillna(0, inplace=True)\n",
        "output.to_csv('submission.csv', index=False)\n",
        "output\n"
      ],
      "metadata": {
        "papermill": {
          "duration": 0.096145,
          "end_time": "2022-11-30T12:05:56.286447",
          "exception": false,
          "start_time": "2022-11-30T12:05:56.190302",
          "status": "completed"
        },
        "tags": [],
        "execution": {
          "iopub.status.busy": "2022-12-09T16:49:58.374264Z",
          "iopub.execute_input": "2022-12-09T16:49:58.374669Z",
          "iopub.status.idle": "2022-12-09T16:49:58.459697Z",
          "shell.execute_reply.started": "2022-12-09T16:49:58.374637Z",
          "shell.execute_reply": "2022-12-09T16:49:58.458664Z"
        },
        "trusted": true,
        "id": "2DaEcD6l-U5q",
        "outputId": "85a58be5-a0bc-4697-e63b-09727c1de450",
        "colab": {
          "base_uri": "https://localhost:8080/",
          "height": 424
        }
      },
      "execution_count": 90,
      "outputs": [
        {
          "output_type": "execute_result",
          "data": {
            "text/plain": [
              "          Id        Sales\n",
              "0          1  3951.515869\n",
              "1          2  3964.346436\n",
              "2          3  3977.176758\n",
              "3          4  3990.007080\n",
              "4          5  3907.065186\n",
              "...      ...          ...\n",
              "41083  41084     0.000000\n",
              "41084  41085     0.000000\n",
              "41085  41086     0.000000\n",
              "41086  41087     0.000000\n",
              "41087  41088     0.000000\n",
              "\n",
              "[41088 rows x 2 columns]"
            ],
            "text/html": [
              "\n",
              "  <div id=\"df-976d99a9-65cd-44ca-b9a3-9c5481d39fee\">\n",
              "    <div class=\"colab-df-container\">\n",
              "      <div>\n",
              "<style scoped>\n",
              "    .dataframe tbody tr th:only-of-type {\n",
              "        vertical-align: middle;\n",
              "    }\n",
              "\n",
              "    .dataframe tbody tr th {\n",
              "        vertical-align: top;\n",
              "    }\n",
              "\n",
              "    .dataframe thead th {\n",
              "        text-align: right;\n",
              "    }\n",
              "</style>\n",
              "<table border=\"1\" class=\"dataframe\">\n",
              "  <thead>\n",
              "    <tr style=\"text-align: right;\">\n",
              "      <th></th>\n",
              "      <th>Id</th>\n",
              "      <th>Sales</th>\n",
              "    </tr>\n",
              "  </thead>\n",
              "  <tbody>\n",
              "    <tr>\n",
              "      <th>0</th>\n",
              "      <td>1</td>\n",
              "      <td>3951.515869</td>\n",
              "    </tr>\n",
              "    <tr>\n",
              "      <th>1</th>\n",
              "      <td>2</td>\n",
              "      <td>3964.346436</td>\n",
              "    </tr>\n",
              "    <tr>\n",
              "      <th>2</th>\n",
              "      <td>3</td>\n",
              "      <td>3977.176758</td>\n",
              "    </tr>\n",
              "    <tr>\n",
              "      <th>3</th>\n",
              "      <td>4</td>\n",
              "      <td>3990.007080</td>\n",
              "    </tr>\n",
              "    <tr>\n",
              "      <th>4</th>\n",
              "      <td>5</td>\n",
              "      <td>3907.065186</td>\n",
              "    </tr>\n",
              "    <tr>\n",
              "      <th>...</th>\n",
              "      <td>...</td>\n",
              "      <td>...</td>\n",
              "    </tr>\n",
              "    <tr>\n",
              "      <th>41083</th>\n",
              "      <td>41084</td>\n",
              "      <td>0.000000</td>\n",
              "    </tr>\n",
              "    <tr>\n",
              "      <th>41084</th>\n",
              "      <td>41085</td>\n",
              "      <td>0.000000</td>\n",
              "    </tr>\n",
              "    <tr>\n",
              "      <th>41085</th>\n",
              "      <td>41086</td>\n",
              "      <td>0.000000</td>\n",
              "    </tr>\n",
              "    <tr>\n",
              "      <th>41086</th>\n",
              "      <td>41087</td>\n",
              "      <td>0.000000</td>\n",
              "    </tr>\n",
              "    <tr>\n",
              "      <th>41087</th>\n",
              "      <td>41088</td>\n",
              "      <td>0.000000</td>\n",
              "    </tr>\n",
              "  </tbody>\n",
              "</table>\n",
              "<p>41088 rows × 2 columns</p>\n",
              "</div>\n",
              "      <button class=\"colab-df-convert\" onclick=\"convertToInteractive('df-976d99a9-65cd-44ca-b9a3-9c5481d39fee')\"\n",
              "              title=\"Convert this dataframe to an interactive table.\"\n",
              "              style=\"display:none;\">\n",
              "        \n",
              "  <svg xmlns=\"http://www.w3.org/2000/svg\" height=\"24px\"viewBox=\"0 0 24 24\"\n",
              "       width=\"24px\">\n",
              "    <path d=\"M0 0h24v24H0V0z\" fill=\"none\"/>\n",
              "    <path d=\"M18.56 5.44l.94 2.06.94-2.06 2.06-.94-2.06-.94-.94-2.06-.94 2.06-2.06.94zm-11 1L8.5 8.5l.94-2.06 2.06-.94-2.06-.94L8.5 2.5l-.94 2.06-2.06.94zm10 10l.94 2.06.94-2.06 2.06-.94-2.06-.94-.94-2.06-.94 2.06-2.06.94z\"/><path d=\"M17.41 7.96l-1.37-1.37c-.4-.4-.92-.59-1.43-.59-.52 0-1.04.2-1.43.59L10.3 9.45l-7.72 7.72c-.78.78-.78 2.05 0 2.83L4 21.41c.39.39.9.59 1.41.59.51 0 1.02-.2 1.41-.59l7.78-7.78 2.81-2.81c.8-.78.8-2.07 0-2.86zM5.41 20L4 18.59l7.72-7.72 1.47 1.35L5.41 20z\"/>\n",
              "  </svg>\n",
              "      </button>\n",
              "      \n",
              "  <style>\n",
              "    .colab-df-container {\n",
              "      display:flex;\n",
              "      flex-wrap:wrap;\n",
              "      gap: 12px;\n",
              "    }\n",
              "\n",
              "    .colab-df-convert {\n",
              "      background-color: #E8F0FE;\n",
              "      border: none;\n",
              "      border-radius: 50%;\n",
              "      cursor: pointer;\n",
              "      display: none;\n",
              "      fill: #1967D2;\n",
              "      height: 32px;\n",
              "      padding: 0 0 0 0;\n",
              "      width: 32px;\n",
              "    }\n",
              "\n",
              "    .colab-df-convert:hover {\n",
              "      background-color: #E2EBFA;\n",
              "      box-shadow: 0px 1px 2px rgba(60, 64, 67, 0.3), 0px 1px 3px 1px rgba(60, 64, 67, 0.15);\n",
              "      fill: #174EA6;\n",
              "    }\n",
              "\n",
              "    [theme=dark] .colab-df-convert {\n",
              "      background-color: #3B4455;\n",
              "      fill: #D2E3FC;\n",
              "    }\n",
              "\n",
              "    [theme=dark] .colab-df-convert:hover {\n",
              "      background-color: #434B5C;\n",
              "      box-shadow: 0px 1px 3px 1px rgba(0, 0, 0, 0.15);\n",
              "      filter: drop-shadow(0px 1px 2px rgba(0, 0, 0, 0.3));\n",
              "      fill: #FFFFFF;\n",
              "    }\n",
              "  </style>\n",
              "\n",
              "      <script>\n",
              "        const buttonEl =\n",
              "          document.querySelector('#df-976d99a9-65cd-44ca-b9a3-9c5481d39fee button.colab-df-convert');\n",
              "        buttonEl.style.display =\n",
              "          google.colab.kernel.accessAllowed ? 'block' : 'none';\n",
              "\n",
              "        async function convertToInteractive(key) {\n",
              "          const element = document.querySelector('#df-976d99a9-65cd-44ca-b9a3-9c5481d39fee');\n",
              "          const dataTable =\n",
              "            await google.colab.kernel.invokeFunction('convertToInteractive',\n",
              "                                                     [key], {});\n",
              "          if (!dataTable) return;\n",
              "\n",
              "          const docLinkHtml = 'Like what you see? Visit the ' +\n",
              "            '<a target=\"_blank\" href=https://colab.research.google.com/notebooks/data_table.ipynb>data table notebook</a>'\n",
              "            + ' to learn more about interactive tables.';\n",
              "          element.innerHTML = '';\n",
              "          dataTable['output_type'] = 'display_data';\n",
              "          await google.colab.output.renderOutput(dataTable, element);\n",
              "          const docLink = document.createElement('div');\n",
              "          docLink.innerHTML = docLinkHtml;\n",
              "          element.appendChild(docLink);\n",
              "        }\n",
              "      </script>\n",
              "    </div>\n",
              "  </div>\n",
              "  "
            ]
          },
          "metadata": {},
          "execution_count": 90
        }
      ]
    }
  ]
}